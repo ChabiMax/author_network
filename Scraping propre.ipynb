{
  "nbformat": 4,
  "nbformat_minor": 0,
  "metadata": {
    "colab": {
      "name": "Untitled3.ipynb",
      "provenance": [],
      "include_colab_link": true
    },
    "kernelspec": {
      "name": "python3",
      "display_name": "Python 3"
    },
    "language_info": {
      "name": "python"
    },
    "widgets": {
      "application/vnd.jupyter.widget-state+json": {
        "74f4ed9279f14453af915cfbd7d201a1": {
          "model_module": "@jupyter-widgets/controls",
          "model_name": "HBoxModel",
          "model_module_version": "1.5.0",
          "state": {
            "_dom_classes": [],
            "_model_module": "@jupyter-widgets/controls",
            "_model_module_version": "1.5.0",
            "_model_name": "HBoxModel",
            "_view_count": null,
            "_view_module": "@jupyter-widgets/controls",
            "_view_module_version": "1.5.0",
            "_view_name": "HBoxView",
            "box_style": "",
            "children": [
              "IPY_MODEL_f55e2692d4ff4b118c06b664d01de464",
              "IPY_MODEL_50417d3bab2443658b0cc3274bd4660b",
              "IPY_MODEL_ba3182a01d714d01aa976b1cc988e85c"
            ],
            "layout": "IPY_MODEL_5cfbd2eb8cea4285b00a08575f0e0796"
          }
        },
        "f55e2692d4ff4b118c06b664d01de464": {
          "model_module": "@jupyter-widgets/controls",
          "model_name": "HTMLModel",
          "model_module_version": "1.5.0",
          "state": {
            "_dom_classes": [],
            "_model_module": "@jupyter-widgets/controls",
            "_model_module_version": "1.5.0",
            "_model_name": "HTMLModel",
            "_view_count": null,
            "_view_module": "@jupyter-widgets/controls",
            "_view_module_version": "1.5.0",
            "_view_name": "HTMLView",
            "description": "",
            "description_tooltip": null,
            "layout": "IPY_MODEL_9ef90589f14746c680f74e8dbd4527c6",
            "placeholder": "​",
            "style": "IPY_MODEL_97eb9d819f4c4665b454faf46c608ac0",
            "value": "100%"
          }
        },
        "50417d3bab2443658b0cc3274bd4660b": {
          "model_module": "@jupyter-widgets/controls",
          "model_name": "FloatProgressModel",
          "model_module_version": "1.5.0",
          "state": {
            "_dom_classes": [],
            "_model_module": "@jupyter-widgets/controls",
            "_model_module_version": "1.5.0",
            "_model_name": "FloatProgressModel",
            "_view_count": null,
            "_view_module": "@jupyter-widgets/controls",
            "_view_module_version": "1.5.0",
            "_view_name": "ProgressView",
            "bar_style": "success",
            "description": "",
            "description_tooltip": null,
            "layout": "IPY_MODEL_36f02c2603f84e8f850b79a5afe35ff8",
            "max": 1583,
            "min": 0,
            "orientation": "horizontal",
            "style": "IPY_MODEL_223bbf7ccaa3461ba4cce85d26f05d57",
            "value": 1583
          }
        },
        "ba3182a01d714d01aa976b1cc988e85c": {
          "model_module": "@jupyter-widgets/controls",
          "model_name": "HTMLModel",
          "model_module_version": "1.5.0",
          "state": {
            "_dom_classes": [],
            "_model_module": "@jupyter-widgets/controls",
            "_model_module_version": "1.5.0",
            "_model_name": "HTMLModel",
            "_view_count": null,
            "_view_module": "@jupyter-widgets/controls",
            "_view_module_version": "1.5.0",
            "_view_name": "HTMLView",
            "description": "",
            "description_tooltip": null,
            "layout": "IPY_MODEL_78968bd40b0449aa8ea0145dd5607276",
            "placeholder": "​",
            "style": "IPY_MODEL_29fc33085f55433dbde41ac06335a2dc",
            "value": " 1583/1583 [14:09&lt;00:00,  2.50it/s]"
          }
        },
        "5cfbd2eb8cea4285b00a08575f0e0796": {
          "model_module": "@jupyter-widgets/base",
          "model_name": "LayoutModel",
          "model_module_version": "1.2.0",
          "state": {
            "_model_module": "@jupyter-widgets/base",
            "_model_module_version": "1.2.0",
            "_model_name": "LayoutModel",
            "_view_count": null,
            "_view_module": "@jupyter-widgets/base",
            "_view_module_version": "1.2.0",
            "_view_name": "LayoutView",
            "align_content": null,
            "align_items": null,
            "align_self": null,
            "border": null,
            "bottom": null,
            "display": null,
            "flex": null,
            "flex_flow": null,
            "grid_area": null,
            "grid_auto_columns": null,
            "grid_auto_flow": null,
            "grid_auto_rows": null,
            "grid_column": null,
            "grid_gap": null,
            "grid_row": null,
            "grid_template_areas": null,
            "grid_template_columns": null,
            "grid_template_rows": null,
            "height": null,
            "justify_content": null,
            "justify_items": null,
            "left": null,
            "margin": null,
            "max_height": null,
            "max_width": null,
            "min_height": null,
            "min_width": null,
            "object_fit": null,
            "object_position": null,
            "order": null,
            "overflow": null,
            "overflow_x": null,
            "overflow_y": null,
            "padding": null,
            "right": null,
            "top": null,
            "visibility": null,
            "width": null
          }
        },
        "9ef90589f14746c680f74e8dbd4527c6": {
          "model_module": "@jupyter-widgets/base",
          "model_name": "LayoutModel",
          "model_module_version": "1.2.0",
          "state": {
            "_model_module": "@jupyter-widgets/base",
            "_model_module_version": "1.2.0",
            "_model_name": "LayoutModel",
            "_view_count": null,
            "_view_module": "@jupyter-widgets/base",
            "_view_module_version": "1.2.0",
            "_view_name": "LayoutView",
            "align_content": null,
            "align_items": null,
            "align_self": null,
            "border": null,
            "bottom": null,
            "display": null,
            "flex": null,
            "flex_flow": null,
            "grid_area": null,
            "grid_auto_columns": null,
            "grid_auto_flow": null,
            "grid_auto_rows": null,
            "grid_column": null,
            "grid_gap": null,
            "grid_row": null,
            "grid_template_areas": null,
            "grid_template_columns": null,
            "grid_template_rows": null,
            "height": null,
            "justify_content": null,
            "justify_items": null,
            "left": null,
            "margin": null,
            "max_height": null,
            "max_width": null,
            "min_height": null,
            "min_width": null,
            "object_fit": null,
            "object_position": null,
            "order": null,
            "overflow": null,
            "overflow_x": null,
            "overflow_y": null,
            "padding": null,
            "right": null,
            "top": null,
            "visibility": null,
            "width": null
          }
        },
        "97eb9d819f4c4665b454faf46c608ac0": {
          "model_module": "@jupyter-widgets/controls",
          "model_name": "DescriptionStyleModel",
          "model_module_version": "1.5.0",
          "state": {
            "_model_module": "@jupyter-widgets/controls",
            "_model_module_version": "1.5.0",
            "_model_name": "DescriptionStyleModel",
            "_view_count": null,
            "_view_module": "@jupyter-widgets/base",
            "_view_module_version": "1.2.0",
            "_view_name": "StyleView",
            "description_width": ""
          }
        },
        "36f02c2603f84e8f850b79a5afe35ff8": {
          "model_module": "@jupyter-widgets/base",
          "model_name": "LayoutModel",
          "model_module_version": "1.2.0",
          "state": {
            "_model_module": "@jupyter-widgets/base",
            "_model_module_version": "1.2.0",
            "_model_name": "LayoutModel",
            "_view_count": null,
            "_view_module": "@jupyter-widgets/base",
            "_view_module_version": "1.2.0",
            "_view_name": "LayoutView",
            "align_content": null,
            "align_items": null,
            "align_self": null,
            "border": null,
            "bottom": null,
            "display": null,
            "flex": null,
            "flex_flow": null,
            "grid_area": null,
            "grid_auto_columns": null,
            "grid_auto_flow": null,
            "grid_auto_rows": null,
            "grid_column": null,
            "grid_gap": null,
            "grid_row": null,
            "grid_template_areas": null,
            "grid_template_columns": null,
            "grid_template_rows": null,
            "height": null,
            "justify_content": null,
            "justify_items": null,
            "left": null,
            "margin": null,
            "max_height": null,
            "max_width": null,
            "min_height": null,
            "min_width": null,
            "object_fit": null,
            "object_position": null,
            "order": null,
            "overflow": null,
            "overflow_x": null,
            "overflow_y": null,
            "padding": null,
            "right": null,
            "top": null,
            "visibility": null,
            "width": null
          }
        },
        "223bbf7ccaa3461ba4cce85d26f05d57": {
          "model_module": "@jupyter-widgets/controls",
          "model_name": "ProgressStyleModel",
          "model_module_version": "1.5.0",
          "state": {
            "_model_module": "@jupyter-widgets/controls",
            "_model_module_version": "1.5.0",
            "_model_name": "ProgressStyleModel",
            "_view_count": null,
            "_view_module": "@jupyter-widgets/base",
            "_view_module_version": "1.2.0",
            "_view_name": "StyleView",
            "bar_color": null,
            "description_width": ""
          }
        },
        "78968bd40b0449aa8ea0145dd5607276": {
          "model_module": "@jupyter-widgets/base",
          "model_name": "LayoutModel",
          "model_module_version": "1.2.0",
          "state": {
            "_model_module": "@jupyter-widgets/base",
            "_model_module_version": "1.2.0",
            "_model_name": "LayoutModel",
            "_view_count": null,
            "_view_module": "@jupyter-widgets/base",
            "_view_module_version": "1.2.0",
            "_view_name": "LayoutView",
            "align_content": null,
            "align_items": null,
            "align_self": null,
            "border": null,
            "bottom": null,
            "display": null,
            "flex": null,
            "flex_flow": null,
            "grid_area": null,
            "grid_auto_columns": null,
            "grid_auto_flow": null,
            "grid_auto_rows": null,
            "grid_column": null,
            "grid_gap": null,
            "grid_row": null,
            "grid_template_areas": null,
            "grid_template_columns": null,
            "grid_template_rows": null,
            "height": null,
            "justify_content": null,
            "justify_items": null,
            "left": null,
            "margin": null,
            "max_height": null,
            "max_width": null,
            "min_height": null,
            "min_width": null,
            "object_fit": null,
            "object_position": null,
            "order": null,
            "overflow": null,
            "overflow_x": null,
            "overflow_y": null,
            "padding": null,
            "right": null,
            "top": null,
            "visibility": null,
            "width": null
          }
        },
        "29fc33085f55433dbde41ac06335a2dc": {
          "model_module": "@jupyter-widgets/controls",
          "model_name": "DescriptionStyleModel",
          "model_module_version": "1.5.0",
          "state": {
            "_model_module": "@jupyter-widgets/controls",
            "_model_module_version": "1.5.0",
            "_model_name": "DescriptionStyleModel",
            "_view_count": null,
            "_view_module": "@jupyter-widgets/base",
            "_view_module_version": "1.2.0",
            "_view_name": "StyleView",
            "description_width": ""
          }
        }
      }
    }
  },
  "cells": [
    {
      "cell_type": "markdown",
      "metadata": {
        "id": "view-in-github",
        "colab_type": "text"
      },
      "source": [
        "<a href=\"https://colab.research.google.com/github/ChabiMax/author_network/blob/main/Scraping%20propre.ipynb\" target=\"_parent\"><img src=\"https://colab.research.google.com/assets/colab-badge.svg\" alt=\"Open In Colab\"/></a>"
      ]
    },
    {
      "cell_type": "markdown",
      "source": [
        "<h1><center><strong><font color=\"chillipepper\">Réseau Wikipédia des auteurs francophones</font></strong></center></h1>\n",
        "<h5><center><font color=\"green\">Science des réseaux sociaux et économiques <h3><center>\n",
        "\n",
        "\n",
        "<center>\n",
        "Maxime Chabriel, Yasmine Houri, Mathis Sansu  \n",
        "\n",
        "ENSAE 2022\n",
        "</center>"
      ],
      "metadata": {
        "id": "eyORt5lUgf4D"
      }
    },
    {
      "cell_type": "markdown",
      "source": [
        "<h2><center><strong><font color=\"chillipepper\">Scraping des données</font></strong></center></h2>"
      ],
      "metadata": {
        "id": "HMW0s-Bq-yiR"
      }
    },
    {
      "cell_type": "markdown",
      "source": [
        "# Packages"
      ],
      "metadata": {
        "id": "uY-wlmDcgwSC"
      }
    },
    {
      "cell_type": "code",
      "source": [
        "from tqdm import *\n",
        "import time\n",
        "import requests\n",
        "import bs4\n",
        "from collections import Counter\n",
        "import json\n",
        "import os\n",
        "from google.colab import files\n",
        "import pickle as pickle\n",
        "import pandas as pd\n",
        "import networkx as nx"
      ],
      "metadata": {
        "id": "bFqnfYaTUDol"
      },
      "execution_count": null,
      "outputs": []
    },
    {
      "cell_type": "markdown",
      "source": [
        "# Scraping"
      ],
      "metadata": {
        "id": "NI_h6gzTYmkE"
      }
    },
    {
      "cell_type": "code",
      "source": [
        "raw_data = {} # Dictionnaire pour stocker les données"
      ],
      "metadata": {
        "id": "Gzn3gF_ig0x2"
      },
      "execution_count": null,
      "outputs": []
    },
    {
      "cell_type": "code",
      "source": [
        "# URL de la page initiale de notre liste d'auteurs\n",
        "URL = 'https://fr.wikipedia.org/wiki/Liste_d%27%C3%A9crivains_de_langue_fran%C3%A7aise_par_ordre_chronologique'\n",
        "response = requests.get(URL) # Go to the page\n",
        "soup = bs4.BeautifulSoup(response.text, 'html.parser') # Récupération du code html"
      ],
      "metadata": {
        "id": "RjWddW9PiwXw"
      },
      "execution_count": null,
      "outputs": []
    },
    {
      "cell_type": "code",
      "source": [
        "dictionary = {} # Déclaration d'un dictionnaire vide\n",
        "# On initialise des attributs\n",
        "date_naissance = None\n",
        "date_mort = None\n",
        "name = 'init'\n",
        "author_link = 'init'\n",
        "id = 0\n",
        "serie = 0\n",
        "links = soup.find(id=\"bodyContent\").select('a') # Récupération des hyperliens"
      ],
      "metadata": {
        "id": "O81c3pVTjbq2"
      },
      "execution_count": null,
      "outputs": []
    },
    {
      "cell_type": "code",
      "source": [
        "# Extraction de la liste d'auteurs\n",
        "\n",
        "for link in links: # Boucle sur les hyperliens récupérés\n",
        "  string = link.get_text()\n",
        "  if link.get('href') != None:\n",
        "    if not any(char.isdigit() for char in string) : \n",
        "      if serie == 2 :\n",
        "        serie = 0\n",
        "        date_mort = 2025\n",
        "        dictionary[id] = {'name' : name, 'link' : author_link, 'date_mort' : date_mort, 'date_naissance' : date_naissance}\n",
        "      serie = serie+1\n",
        "      id = id+1\n",
        "      name = string\n",
        "      date_naissance = None\n",
        "      date_mort = None\n",
        "      if 'https://' in link.get('href'):\n",
        "        author_link = link.get('href')\n",
        "      else:\n",
        "        author_link = 'https://fr.wikipedia.org' + link.get('href')\n",
        "    else :\n",
        "      if serie == 1 :\n",
        "        serie = serie+1\n",
        "        date_naissance = string\n",
        "      else :\n",
        "        if serie == 2 :\n",
        "          serie = 0\n",
        "          date_mort = string\n",
        "          dictionary[id] = {'name' : name, 'link' : author_link, 'date_mort' : date_mort, 'date_naissance' : date_naissance}"
      ],
      "metadata": {
        "id": "dkIzPt0-UES8"
      },
      "execution_count": null,
      "outputs": []
    },
    {
      "cell_type": "code",
      "source": [
        "# Nettoyage manuel : certains lien récupérés ne correpondent pas à des auteurs\n",
        "unwanted_list = [key for key in dictionary.keys() if 'modifier' in dictionary[key]['name']]\n",
        "unwanted_list += [key for key in dictionary.keys() if 'siècle' in dictionary[key]['name']]\n",
        "unwanted_list += [key for key in dictionary.keys() if 'ms.' in dictionary[key]['name']]\n",
        "unwanted_list += [key for key in dictionary.keys() if 'Portail' in dictionary[key]['name']]\n",
        "unwanted_list += [key for key in dictionary.keys() if \"Liste d'écrivains de langue française\" in dictionary[key]['name']]\n",
        "unwanted_list += [key for key in dictionary.keys() if \"↑\" in dictionary[key]['name']]\n",
        "unwanted_list += [key for key in dictionary.keys() if \"\" == dictionary[key]['name']]\n",
        "unwanted_list += [key for key in dictionary.keys() if \"Langue française et francophonie\" in dictionary[key]['name']]\n",
        "unwanted_list += [key for key in dictionary.keys() if \"Chronologie de la littérature\" in dictionary[key]['name']]\n",
        "# Les commandes au-dessus permettent de récupérer les clés problématiques dans le dictionnaire\n",
        "# On enlève donc les éléments associés à ces clés dans le dictionnaire\n",
        "dictionary = dict((key, dictionary[key]) for key in dictionary.keys() if key not in unwanted_list)"
      ],
      "metadata": {
        "id": "t2pbpAnIXF3-"
      },
      "execution_count": null,
      "outputs": []
    },
    {
      "cell_type": "code",
      "source": [
        " # Extraction de la liste des genres littéraires (mêmes procédures)\n",
        "\n",
        "URL = 'https://fr.wikipedia.org/wiki/Genre_litt%C3%A9raire'\n",
        "response = requests.get(URL)\n",
        "soup = bs4.BeautifulSoup(response.text, 'html.parser')\n",
        "\n",
        "dictionary_genres = {}\n",
        "name = 'init'\n",
        "genre_link = 'init'\n",
        "id = 0\n",
        "links = soup.find(id=\"bodyContent\").select('a')\n",
        "serie = 0\n",
        "for link in links:\n",
        "  string = link.get_text()\n",
        "  if link.get('href') != None:\n",
        "    id = id+1\n",
        "    name = string\n",
        "    if 'https://' in link.get('href'):\n",
        "      genre_link = link.get('href')\n",
        "    else:\n",
        "      genre_link = 'https://fr.wikipedia.org' + link.get('href')\n",
        "    dictionary_genres[id] = {'name' : name, 'link' : genre_link}\n"
      ],
      "metadata": {
        "id": "LIJQ4ezIViIx"
      },
      "execution_count": null,
      "outputs": []
    },
    {
      "cell_type": "code",
      "source": [
        "# Nettoyage manuel\n",
        "unwanted_list = list(range(0,49))\n",
        "unwanted_list += list(range(278,344))\n",
        "unwanted_list += [key for key in dictionary_genres.keys() if 'modifier' in dictionary_genres[key]['name']]\n",
        "unwanted_list += [key for key in dictionary_genres.keys() if dictionary_genres[key]['link'] in [dictionary[key_bis]['link'] for key_bis in dictionary.keys()]]\n",
        "unwanted_list += [key for key in dictionary_genres.keys() if any(char.isdigit() for char in dictionary_genres[key]['name'])]\n",
        "unwanted_list += list(range(285,len(dictionary_genres.keys())))\n",
        "dictionary_genres = dict((key, dictionary_genres[key]) for key in dictionary_genres.keys() if key not in unwanted_list)"
      ],
      "metadata": {
        "id": "dzJcXTMHY1xN"
      },
      "execution_count": null,
      "outputs": []
    },
    {
      "cell_type": "code",
      "source": [
        "# Reset des keys \n",
        "old_dictionary = dictionary.copy()\n",
        "dictionary = {}\n",
        "id = 0\n",
        "for key in old_dictionary :\n",
        "  dictionary[id] = old_dictionary[key]\n",
        "  id += 1\n",
        "\n",
        "old_dictionary_genres = dictionary_genres.copy()\n",
        "dictionary_genres = {}\n",
        "for key in old_dictionary_genres :\n",
        "  dictionary_genres[id] = old_dictionary_genres[key]\n",
        "  id += 1"
      ],
      "metadata": {
        "id": "l0tzpYYmiWE-"
      },
      "execution_count": null,
      "outputs": []
    },
    {
      "cell_type": "code",
      "source": [
        "# Fonction réduisant une balise html de lien sous forme d'un lien wikipédia classique\n",
        "def html_to_link(html_link) :\n",
        "  if html_link.get('href') != None :\n",
        "    if 'https://' in html_link.get('href'):\n",
        "      html_link = html_link.get('href')\n",
        "    else:\n",
        "      html_link = 'https://fr.wikipedia.org' + html_link.get('href')\n",
        "  else :\n",
        "    html_link = ''\n",
        "  return(html_link)"
      ],
      "metadata": {
        "id": "1Qxc_nPlHodz"
      },
      "execution_count": null,
      "outputs": []
    },
    {
      "cell_type": "code",
      "source": [
        "# Création des listes des liens associés à nos pages Wikipédia (auteurs et genres)\n",
        "author_links = [dictionary[key]['link'] for key in dictionary.keys()]\n",
        "genre_links = [dictionary_genres[key]['link'] for key in dictionary_genres.keys()]"
      ],
      "metadata": {
        "id": "j8guBYb-ISZu"
      },
      "execution_count": null,
      "outputs": []
    },
    {
      "cell_type": "code",
      "source": [
        "# Parcours des pages et création du réseau\n",
        "for id in tqdm_notebook(dictionary.keys()) :\n",
        "  authtor_link = dictionary[id]['link']\n",
        "  response = requests.get(authtor_link)\n",
        "  soup = bs4.BeautifulSoup(response.text, 'html.parser')\n",
        "  links = soup.find(id=\"bodyContent\").select('a')\n",
        "  network_aslink = []\n",
        "  net_genre_aslink = []\n",
        "  for link in links:\n",
        "    link = html_to_link(link)\n",
        "    if link in author_links :\n",
        "      network_aslink.append(link)\n",
        "    if link in genre_links :\n",
        "      net_genre_aslink.append(link)\n",
        "  network = []\n",
        "  net_genre = []\n",
        "  for link in network_aslink :\n",
        "    for id_bis in dictionary.keys() :\n",
        "      if link == dictionary[id_bis]['link'] :\n",
        "        network.append(id_bis)\n",
        "  for link in net_genre_aslink :\n",
        "    for id_bis in dictionary_genres.keys() :\n",
        "      if link == dictionary_genres[id_bis]['link'] :\n",
        "        net_genre.append(id_bis)\n",
        "  counted_network = Counter(network)\n",
        "  counted_net_genre = Counter(net_genre)\n",
        "  dictionary[id]['taille_html_article'] = len(str(soup))\n",
        "  dictionary[id]['network_interauteur'] = list(counted_network.keys())\n",
        "  dictionary[id]['poids_liens_interauteur'] = list(counted_network.values())\n",
        "  dictionary[id]['genres_mentionnes'] = list(counted_net_genre.keys())\n"
      ],
      "metadata": {
        "colab": {
          "base_uri": "https://localhost:8080/",
          "height": 101,
          "referenced_widgets": [
            "74f4ed9279f14453af915cfbd7d201a1",
            "f55e2692d4ff4b118c06b664d01de464",
            "50417d3bab2443658b0cc3274bd4660b",
            "ba3182a01d714d01aa976b1cc988e85c",
            "5cfbd2eb8cea4285b00a08575f0e0796",
            "9ef90589f14746c680f74e8dbd4527c6",
            "97eb9d819f4c4665b454faf46c608ac0",
            "36f02c2603f84e8f850b79a5afe35ff8",
            "223bbf7ccaa3461ba4cce85d26f05d57",
            "78968bd40b0449aa8ea0145dd5607276",
            "29fc33085f55433dbde41ac06335a2dc"
          ]
        },
        "id": "NETZx3xOWpiJ",
        "outputId": "8759cd8f-2245-4c26-d7a4-e9e9f2bda767"
      },
      "execution_count": null,
      "outputs": [
        {
          "output_type": "stream",
          "name": "stderr",
          "text": [
            "/usr/local/lib/python3.7/dist-packages/ipykernel_launcher.py:2: TqdmDeprecationWarning: This function will be removed in tqdm==5.0.0\n",
            "Please use `tqdm.notebook.tqdm` instead of `tqdm.tqdm_notebook`\n",
            "  \n"
          ]
        },
        {
          "output_type": "display_data",
          "data": {
            "text/plain": [
              "  0%|          | 0/1583 [00:00<?, ?it/s]"
            ],
            "application/vnd.jupyter.widget-view+json": {
              "version_major": 2,
              "version_minor": 0,
              "model_id": "74f4ed9279f14453af915cfbd7d201a1"
            }
          },
          "metadata": {}
        }
      ]
    },
    {
      "cell_type": "markdown",
      "source": [
        "# Formatage données"
      ],
      "metadata": {
        "id": "xXb96SMsYs7V"
      }
    },
    {
      "cell_type": "code",
      "source": [
        "raw_data1 = dictionary.copy()\n",
        "for key in raw_data1.keys() :\n",
        "  raw_data1[key]['type'] = 'auteur'\n",
        "\n",
        "for key in dictionary_genres.keys() :\n",
        "  raw_data1[key] = dictionary_genres[key].copy()\n",
        "  raw_data1[key]['type'] = 'genre'\n",
        "\n",
        "for key_genre in raw_data1.keys() :\n",
        "  if raw_data1[key_genre]['type'] == 'genre' :\n",
        "    raw_data1[key_genre]['auteurs_du_genre'] = []\n",
        "for key_auteur in raw_data1.keys() :\n",
        "  if raw_data1[key_auteur]['type'] == 'auteur' :\n",
        "    for genre in raw_data1[key_auteur]['genres_mentionnes'] :\n",
        "      raw_data1[genre]['auteurs_du_genre'] = raw_data1[genre]['auteurs_du_genre'] + [key_auteur]\n",
        "\n",
        "for key_genre in raw_data1.keys() :\n",
        "  if raw_data1[key_genre]['type'] == 'auteur' :\n",
        "    try :\n",
        "      raw_data1[key_genre]['date_naissance'] = int(raw_data1[key_genre]['date_naissance'])\n",
        "    except :\n",
        "      raw_data1[key_genre]['date_naissance'] = 9999\n",
        "    try :\n",
        "      raw_data1[key_genre]['date_mort'] = int(raw_data1[key_genre]['date_mort'])\n",
        "    except :\n",
        "      raw_data1[key_genre]['date_mort'] = 9999\n",
        "\n",
        "for key_genre in raw_data1.keys() :\n",
        "  if raw_data1[key_genre]['type'] == 'genre' :\n",
        "    raw_data1[key_genre]['debut_genre'] = min([raw_data1[auteur]['date_naissance'] for auteur in raw_data1 if raw_data1[auteur]['type'] == 'auteur'] + [0])\n",
        "    raw_data1[key_genre]['fin_genre'] = max([raw_data1[auteur]['date_mort'] for auteur in raw_data1 if raw_data1[auteur]['type'] == 'auteur'] + [9999])\n",
        "\n",
        "for key_auteur1 in raw_data1.keys() :\n",
        "  if raw_data1[key_auteur1]['type'] == 'auteur' :\n",
        "    raw_data1[key_auteur1]['contemporain'] = []\n",
        "    raw_data1[key_auteur1]['poids_contempo_diff_naissance'] = []\n",
        "    raw_data1[key_auteur1]['poids_contempo_annees_communes'] = []\n",
        "    for key_auteur2 in raw_data1.keys() :\n",
        "      if (raw_data1[key_auteur2]['type'] == 'auteur') & (key_auteur2 != key_auteur1) :\n",
        "        mort_1 = [raw_data1[key_auteur1]['date_mort'] if raw_data1[key_auteur1]['date_mort'] != None else 9999]\n",
        "        mort_2 = [raw_data1[key_auteur2]['date_mort'] if raw_data1[key_auteur2]['date_mort'] != None else 9999]\n",
        "        naissance_1 = [raw_data1[key_auteur1]['date_naissance'] if raw_data1[id]['date_mort'] != None else 0]\n",
        "        naissance_2 = [raw_data1[key_auteur2]['date_naissance'] if raw_data1[key_auteur2]['date_mort'] != None else 0]\n",
        "        try:\n",
        "          annee_communes = [annee for annee in list(range(naissance_1, mort_1)) if annee in list(range(naissance_2, mort_2))]\n",
        "          if (mort_1 > naissance_2 and naissance_1 < mort_2) or (mort_2 > naissance_1 and naissance_2 < mort_1):\n",
        "            raw_data1[key_auteur1]['contemporain'].append(key_auteur2)\n",
        "            raw_data1[key_auteur1]['poids_contempo_diff_naissance'].append(abs(naissance_1 - naissance_2))\n",
        "            raw_data1[key_auteur1]['poids_contempo_annees_communes'].append(len(annee_communes))\n",
        "\n",
        "        except :\n",
        "          pass\n"
      ],
      "metadata": {
        "id": "UH6PxGHVVj6d"
      },
      "execution_count": null,
      "outputs": []
    },
    {
      "cell_type": "markdown",
      "source": [
        "# Import des données"
      ],
      "metadata": {
        "id": "Q9GBQk5tAam0"
      }
    },
    {
      "cell_type": "code",
      "source": [
        "# Import sous forme pickle (objet python assez léger)\n",
        "import pickle\n",
        "with open('raw_data.pkl', 'wb') as f:\n",
        "    pickle.dump(raw_data1, f)\n",
        "files.download('raw_data.pkl')"
      ],
      "metadata": {
        "id": "zfsVbwmRkyMi",
        "outputId": "6b71c8c7-abbb-420a-e0da-32b456292680",
        "colab": {
          "base_uri": "https://localhost:8080/",
          "height": 17
        }
      },
      "execution_count": null,
      "outputs": [
        {
          "output_type": "display_data",
          "data": {
            "text/plain": [
              "<IPython.core.display.Javascript object>"
            ],
            "application/javascript": [
              "\n",
              "    async function download(id, filename, size) {\n",
              "      if (!google.colab.kernel.accessAllowed) {\n",
              "        return;\n",
              "      }\n",
              "      const div = document.createElement('div');\n",
              "      const label = document.createElement('label');\n",
              "      label.textContent = `Downloading \"${filename}\": `;\n",
              "      div.appendChild(label);\n",
              "      const progress = document.createElement('progress');\n",
              "      progress.max = size;\n",
              "      div.appendChild(progress);\n",
              "      document.body.appendChild(div);\n",
              "\n",
              "      const buffers = [];\n",
              "      let downloaded = 0;\n",
              "\n",
              "      const channel = await google.colab.kernel.comms.open(id);\n",
              "      // Send a message to notify the kernel that we're ready.\n",
              "      channel.send({})\n",
              "\n",
              "      for await (const message of channel.messages) {\n",
              "        // Send a message to notify the kernel that we're ready.\n",
              "        channel.send({})\n",
              "        if (message.buffers) {\n",
              "          for (const buffer of message.buffers) {\n",
              "            buffers.push(buffer);\n",
              "            downloaded += buffer.byteLength;\n",
              "            progress.value = downloaded;\n",
              "          }\n",
              "        }\n",
              "      }\n",
              "      const blob = new Blob(buffers, {type: 'application/binary'});\n",
              "      const a = document.createElement('a');\n",
              "      a.href = window.URL.createObjectURL(blob);\n",
              "      a.download = filename;\n",
              "      div.appendChild(a);\n",
              "      a.click();\n",
              "      div.remove();\n",
              "    }\n",
              "  "
            ]
          },
          "metadata": {}
        },
        {
          "output_type": "display_data",
          "data": {
            "text/plain": [
              "<IPython.core.display.Javascript object>"
            ],
            "application/javascript": [
              "download(\"download_761e50f2-c573-4d14-ac7d-9af7d16a81ef\", \"raw_data.pkl\", 375366)"
            ]
          },
          "metadata": {}
        }
      ]
    },
    {
      "cell_type": "code",
      "source": [
        ""
      ],
      "metadata": {
        "id": "-wE25v00l7fq"
      },
      "execution_count": null,
      "outputs": []
    }
  ]
}