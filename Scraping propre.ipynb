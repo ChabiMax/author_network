{
  "nbformat": 4,
  "nbformat_minor": 0,
  "metadata": {
    "colab": {
      "name": "Untitled3.ipynb",
      "provenance": [],
      "authorship_tag": "ABX9TyOm+0AT87g8B5MM3x5icAM8",
      "include_colab_link": true
    },
    "kernelspec": {
      "name": "python3",
      "display_name": "Python 3"
    },
    "language_info": {
      "name": "python"
    },
    "widgets": {
      "application/vnd.jupyter.widget-state+json": {
        "56caf1ffe4ff4a8ba05bdc48a0c53ec9": {
          "model_module": "@jupyter-widgets/controls",
          "model_name": "HBoxModel",
          "model_module_version": "1.5.0",
          "state": {
            "_dom_classes": [],
            "_model_module": "@jupyter-widgets/controls",
            "_model_module_version": "1.5.0",
            "_model_name": "HBoxModel",
            "_view_count": null,
            "_view_module": "@jupyter-widgets/controls",
            "_view_module_version": "1.5.0",
            "_view_name": "HBoxView",
            "box_style": "",
            "children": [
              "IPY_MODEL_2da71a9a8ae64d218a88877016f42bf7",
              "IPY_MODEL_e1c3a882adc649dfb8afa994b7dac92c",
              "IPY_MODEL_1ae6e5c63355487b9a1b4b1dbfe7c701"
            ],
            "layout": "IPY_MODEL_a0c3a0331d3e44ebae27be10aafafedb"
          }
        },
        "2da71a9a8ae64d218a88877016f42bf7": {
          "model_module": "@jupyter-widgets/controls",
          "model_name": "HTMLModel",
          "model_module_version": "1.5.0",
          "state": {
            "_dom_classes": [],
            "_model_module": "@jupyter-widgets/controls",
            "_model_module_version": "1.5.0",
            "_model_name": "HTMLModel",
            "_view_count": null,
            "_view_module": "@jupyter-widgets/controls",
            "_view_module_version": "1.5.0",
            "_view_name": "HTMLView",
            "description": "",
            "description_tooltip": null,
            "layout": "IPY_MODEL_967120c4a905474a895c9b21d7aa4e7a",
            "placeholder": "​",
            "style": "IPY_MODEL_ab8adbf6f6424282a0f87764d139125f",
            "value": " 33%"
          }
        },
        "e1c3a882adc649dfb8afa994b7dac92c": {
          "model_module": "@jupyter-widgets/controls",
          "model_name": "FloatProgressModel",
          "model_module_version": "1.5.0",
          "state": {
            "_dom_classes": [],
            "_model_module": "@jupyter-widgets/controls",
            "_model_module_version": "1.5.0",
            "_model_name": "FloatProgressModel",
            "_view_count": null,
            "_view_module": "@jupyter-widgets/controls",
            "_view_module_version": "1.5.0",
            "_view_name": "ProgressView",
            "bar_style": "",
            "description": "",
            "description_tooltip": null,
            "layout": "IPY_MODEL_d5c1a2060fda4f4e8d291266c5010d43",
            "max": 1583,
            "min": 0,
            "orientation": "horizontal",
            "style": "IPY_MODEL_60c1901983674b9c9d2cce1615622b96",
            "value": 515
          }
        },
        "1ae6e5c63355487b9a1b4b1dbfe7c701": {
          "model_module": "@jupyter-widgets/controls",
          "model_name": "HTMLModel",
          "model_module_version": "1.5.0",
          "state": {
            "_dom_classes": [],
            "_model_module": "@jupyter-widgets/controls",
            "_model_module_version": "1.5.0",
            "_model_name": "HTMLModel",
            "_view_count": null,
            "_view_module": "@jupyter-widgets/controls",
            "_view_module_version": "1.5.0",
            "_view_name": "HTMLView",
            "description": "",
            "description_tooltip": null,
            "layout": "IPY_MODEL_02880a458b7f4cd18a797727bd99e91c",
            "placeholder": "​",
            "style": "IPY_MODEL_4bf8282645944be288b1d22391665295",
            "value": " 515/1583 [01:38&lt;06:12,  2.87it/s]"
          }
        },
        "a0c3a0331d3e44ebae27be10aafafedb": {
          "model_module": "@jupyter-widgets/base",
          "model_name": "LayoutModel",
          "model_module_version": "1.2.0",
          "state": {
            "_model_module": "@jupyter-widgets/base",
            "_model_module_version": "1.2.0",
            "_model_name": "LayoutModel",
            "_view_count": null,
            "_view_module": "@jupyter-widgets/base",
            "_view_module_version": "1.2.0",
            "_view_name": "LayoutView",
            "align_content": null,
            "align_items": null,
            "align_self": null,
            "border": null,
            "bottom": null,
            "display": null,
            "flex": null,
            "flex_flow": null,
            "grid_area": null,
            "grid_auto_columns": null,
            "grid_auto_flow": null,
            "grid_auto_rows": null,
            "grid_column": null,
            "grid_gap": null,
            "grid_row": null,
            "grid_template_areas": null,
            "grid_template_columns": null,
            "grid_template_rows": null,
            "height": null,
            "justify_content": null,
            "justify_items": null,
            "left": null,
            "margin": null,
            "max_height": null,
            "max_width": null,
            "min_height": null,
            "min_width": null,
            "object_fit": null,
            "object_position": null,
            "order": null,
            "overflow": null,
            "overflow_x": null,
            "overflow_y": null,
            "padding": null,
            "right": null,
            "top": null,
            "visibility": null,
            "width": null
          }
        },
        "967120c4a905474a895c9b21d7aa4e7a": {
          "model_module": "@jupyter-widgets/base",
          "model_name": "LayoutModel",
          "model_module_version": "1.2.0",
          "state": {
            "_model_module": "@jupyter-widgets/base",
            "_model_module_version": "1.2.0",
            "_model_name": "LayoutModel",
            "_view_count": null,
            "_view_module": "@jupyter-widgets/base",
            "_view_module_version": "1.2.0",
            "_view_name": "LayoutView",
            "align_content": null,
            "align_items": null,
            "align_self": null,
            "border": null,
            "bottom": null,
            "display": null,
            "flex": null,
            "flex_flow": null,
            "grid_area": null,
            "grid_auto_columns": null,
            "grid_auto_flow": null,
            "grid_auto_rows": null,
            "grid_column": null,
            "grid_gap": null,
            "grid_row": null,
            "grid_template_areas": null,
            "grid_template_columns": null,
            "grid_template_rows": null,
            "height": null,
            "justify_content": null,
            "justify_items": null,
            "left": null,
            "margin": null,
            "max_height": null,
            "max_width": null,
            "min_height": null,
            "min_width": null,
            "object_fit": null,
            "object_position": null,
            "order": null,
            "overflow": null,
            "overflow_x": null,
            "overflow_y": null,
            "padding": null,
            "right": null,
            "top": null,
            "visibility": null,
            "width": null
          }
        },
        "ab8adbf6f6424282a0f87764d139125f": {
          "model_module": "@jupyter-widgets/controls",
          "model_name": "DescriptionStyleModel",
          "model_module_version": "1.5.0",
          "state": {
            "_model_module": "@jupyter-widgets/controls",
            "_model_module_version": "1.5.0",
            "_model_name": "DescriptionStyleModel",
            "_view_count": null,
            "_view_module": "@jupyter-widgets/base",
            "_view_module_version": "1.2.0",
            "_view_name": "StyleView",
            "description_width": ""
          }
        },
        "d5c1a2060fda4f4e8d291266c5010d43": {
          "model_module": "@jupyter-widgets/base",
          "model_name": "LayoutModel",
          "model_module_version": "1.2.0",
          "state": {
            "_model_module": "@jupyter-widgets/base",
            "_model_module_version": "1.2.0",
            "_model_name": "LayoutModel",
            "_view_count": null,
            "_view_module": "@jupyter-widgets/base",
            "_view_module_version": "1.2.0",
            "_view_name": "LayoutView",
            "align_content": null,
            "align_items": null,
            "align_self": null,
            "border": null,
            "bottom": null,
            "display": null,
            "flex": null,
            "flex_flow": null,
            "grid_area": null,
            "grid_auto_columns": null,
            "grid_auto_flow": null,
            "grid_auto_rows": null,
            "grid_column": null,
            "grid_gap": null,
            "grid_row": null,
            "grid_template_areas": null,
            "grid_template_columns": null,
            "grid_template_rows": null,
            "height": null,
            "justify_content": null,
            "justify_items": null,
            "left": null,
            "margin": null,
            "max_height": null,
            "max_width": null,
            "min_height": null,
            "min_width": null,
            "object_fit": null,
            "object_position": null,
            "order": null,
            "overflow": null,
            "overflow_x": null,
            "overflow_y": null,
            "padding": null,
            "right": null,
            "top": null,
            "visibility": null,
            "width": null
          }
        },
        "60c1901983674b9c9d2cce1615622b96": {
          "model_module": "@jupyter-widgets/controls",
          "model_name": "ProgressStyleModel",
          "model_module_version": "1.5.0",
          "state": {
            "_model_module": "@jupyter-widgets/controls",
            "_model_module_version": "1.5.0",
            "_model_name": "ProgressStyleModel",
            "_view_count": null,
            "_view_module": "@jupyter-widgets/base",
            "_view_module_version": "1.2.0",
            "_view_name": "StyleView",
            "bar_color": null,
            "description_width": ""
          }
        },
        "02880a458b7f4cd18a797727bd99e91c": {
          "model_module": "@jupyter-widgets/base",
          "model_name": "LayoutModel",
          "model_module_version": "1.2.0",
          "state": {
            "_model_module": "@jupyter-widgets/base",
            "_model_module_version": "1.2.0",
            "_model_name": "LayoutModel",
            "_view_count": null,
            "_view_module": "@jupyter-widgets/base",
            "_view_module_version": "1.2.0",
            "_view_name": "LayoutView",
            "align_content": null,
            "align_items": null,
            "align_self": null,
            "border": null,
            "bottom": null,
            "display": null,
            "flex": null,
            "flex_flow": null,
            "grid_area": null,
            "grid_auto_columns": null,
            "grid_auto_flow": null,
            "grid_auto_rows": null,
            "grid_column": null,
            "grid_gap": null,
            "grid_row": null,
            "grid_template_areas": null,
            "grid_template_columns": null,
            "grid_template_rows": null,
            "height": null,
            "justify_content": null,
            "justify_items": null,
            "left": null,
            "margin": null,
            "max_height": null,
            "max_width": null,
            "min_height": null,
            "min_width": null,
            "object_fit": null,
            "object_position": null,
            "order": null,
            "overflow": null,
            "overflow_x": null,
            "overflow_y": null,
            "padding": null,
            "right": null,
            "top": null,
            "visibility": null,
            "width": null
          }
        },
        "4bf8282645944be288b1d22391665295": {
          "model_module": "@jupyter-widgets/controls",
          "model_name": "DescriptionStyleModel",
          "model_module_version": "1.5.0",
          "state": {
            "_model_module": "@jupyter-widgets/controls",
            "_model_module_version": "1.5.0",
            "_model_name": "DescriptionStyleModel",
            "_view_count": null,
            "_view_module": "@jupyter-widgets/base",
            "_view_module_version": "1.2.0",
            "_view_name": "StyleView",
            "description_width": ""
          }
        }
      }
    }
  },
  "cells": [
    {
      "cell_type": "markdown",
      "metadata": {
        "id": "view-in-github",
        "colab_type": "text"
      },
      "source": [
        "<a href=\"https://colab.research.google.com/github/ChabiMax/author_network/blob/main/Scraping%20propre.ipynb\" target=\"_parent\"><img src=\"https://colab.research.google.com/assets/colab-badge.svg\" alt=\"Open In Colab\"/></a>"
      ]
    },
    {
      "cell_type": "code",
      "source": [
        "from tqdm import *\n",
        "import time\n",
        "import requests\n",
        "import bs4\n",
        "from collections import Counter\n",
        "import json\n",
        "import os\n",
        "from google.colab import files\n",
        "import pickle as pickle\n",
        "import pandas as pd\n",
        "import networkx as nx\n",
        "\n",
        "raw_data = {}"
      ],
      "metadata": {
        "id": "bFqnfYaTUDol"
      },
      "execution_count": 25,
      "outputs": []
    },
    {
      "cell_type": "markdown",
      "source": [
        "# Scraping"
      ],
      "metadata": {
        "id": "NI_h6gzTYmkE"
      }
    },
    {
      "cell_type": "code",
      "source": [
        "# Extraction de la liste d'auteurs\n",
        "\n",
        "URL = 'https://fr.wikipedia.org/wiki/Liste_d%27%C3%A9crivains_de_langue_fran%C3%A7aise_par_ordre_chronologique'\n",
        "response = requests.get(URL)\n",
        "soup = bs4.BeautifulSoup(response.text, 'html.parser')\n",
        "\n",
        "dictionary = {}\n",
        "date_naissance = None\n",
        "date_mort = None\n",
        "name = 'init'\n",
        "author_link = 'init'\n",
        "id = 0\n",
        "links = soup.find(id=\"bodyContent\").select('a')\n",
        "serie = 0\n",
        "for link in links:\n",
        "  string = link.get_text()\n",
        "  if link.get('href') != None:\n",
        "    if not any(char.isdigit() for char in string) :\n",
        "      if serie == 2 :\n",
        "        serie = 0\n",
        "        date_mort = 2025\n",
        "        dictionary[id] = {'name' : name, 'link' : author_link, 'date_mort' : date_mort, 'date_naissance' : date_naissance}\n",
        "      serie = serie+1\n",
        "      id = id+1\n",
        "      name = string\n",
        "      date_naissance = None\n",
        "      date_mort = None\n",
        "      if 'https://' in link.get('href'):\n",
        "        author_link = link.get('href')\n",
        "      else:\n",
        "        author_link = 'https://fr.wikipedia.org' + link.get('href')\n",
        "    else :\n",
        "      if serie == 1 :\n",
        "        serie = serie+1\n",
        "        date_naissance = string\n",
        "      else :\n",
        "        if serie == 2 :\n",
        "          serie = 0\n",
        "          date_mort = string\n",
        "          dictionary[id] = {'name' : name, 'link' : author_link, 'date_mort' : date_mort, 'date_naissance' : date_naissance}\n",
        "\n",
        "# Nettoyage manuel\n",
        "unwanted_list = list(range(0,5))\n",
        "unwanted_list += list(range(1793,1806))\n",
        "unwanted_list += [key for key in dictionary.keys() if 'modifier' in dictionary[key]['name']]\n",
        "unwanted_list += [key for key in dictionary.keys() if 'siècle' in dictionary[key]['name']]\n",
        "unwanted_list += [key for key in dictionary.keys() if 'ms.' in dictionary[key]['name']]\n",
        "\n",
        "dictionary = dict((key, dictionary[key]) for key in dictionary.keys() if key not in unwanted_list)"
      ],
      "metadata": {
        "id": "dkIzPt0-UES8"
      },
      "execution_count": 26,
      "outputs": []
    },
    {
      "cell_type": "code",
      "source": [
        " # Extraction de la liste des genres littéraires\n",
        "\n",
        "URL = 'https://fr.wikipedia.org/wiki/Genre_litt%C3%A9raire'\n",
        "response = requests.get(URL)\n",
        "soup = bs4.BeautifulSoup(response.text, 'html.parser')\n",
        "\n",
        "dictionary_genres = {}\n",
        "name = 'init'\n",
        "genre_link = 'init'\n",
        "id = 0\n",
        "links = soup.find(id=\"bodyContent\").select('a')\n",
        "serie = 0\n",
        "for link in links:\n",
        "  string = link.get_text()\n",
        "  if link.get('href') != None:\n",
        "    id = id+1\n",
        "    name = string\n",
        "    if 'https://' in link.get('href'):\n",
        "      genre_link = link.get('href')\n",
        "    else:\n",
        "      genre_link = 'https://fr.wikipedia.org' + link.get('href')\n",
        "    dictionary_genres[id] = {'name' : name, 'link' : genre_link}\n",
        "\n",
        "# Nettoyage manuel\n",
        "unwanted_list = list(range(0,49))\n",
        "unwanted_list += list(range(278,344))\n",
        "unwanted_list += [key for key in dictionary_genres.keys() if 'modifier' in dictionary_genres[key]['name']]\n",
        "unwanted_list += [key for key in dictionary_genres.keys() if dictionary_genres[key]['link'] in [dictionary[key_bis]['link'] for key_bis in dictionary.keys()]]\n",
        "unwanted_list += [key for key in dictionary_genres.keys() if any(char.isdigit() for char in dictionary_genres[key]['name'])]\n",
        "unwanted_list += list(range(285,len(dictionary_genres.keys())))\n",
        "dictionary_genres = dict((key, dictionary_genres[key]) for key in dictionary_genres.keys() if key not in unwanted_list)\n"
      ],
      "metadata": {
        "id": "LIJQ4ezIViIx"
      },
      "execution_count": 27,
      "outputs": []
    },
    {
      "cell_type": "code",
      "source": [
        "# Reset des keys \n",
        "old_dictionary = dictionary.copy()\n",
        "dictionary = {}\n",
        "id = 0\n",
        "for key in old_dictionary :\n",
        "  dictionary[id] = old_dictionary[key]\n",
        "  id += 1\n",
        "\n",
        "old_dictionary_genres = dictionary_genres.copy()\n",
        "dictionary_genres = {}\n",
        "for key in old_dictionary_genres :\n",
        "  dictionary_genres[id] = old_dictionary_genres[key]\n",
        "  id += 1"
      ],
      "metadata": {
        "id": "l0tzpYYmiWE-"
      },
      "execution_count": 28,
      "outputs": []
    },
    {
      "cell_type": "code",
      "source": [
        "len(dictionary.keys())"
      ],
      "metadata": {
        "id": "Lo3liT6XvS0X",
        "outputId": "e8f93f02-ac00-45ca-c902-2b31618cce3d",
        "colab": {
          "base_uri": "https://localhost:8080/"
        }
      },
      "execution_count": 29,
      "outputs": [
        {
          "output_type": "execute_result",
          "data": {
            "text/plain": [
              "1583"
            ]
          },
          "metadata": {},
          "execution_count": 29
        }
      ]
    },
    {
      "cell_type": "code",
      "source": [
        "def html_to_link(html_link) :\n",
        "  if html_link.get('href') != None :\n",
        "    if 'https://' in html_link.get('href'):\n",
        "      html_link = html_link.get('href')\n",
        "    else:\n",
        "      html_link = 'https://fr.wikipedia.org' + html_link.get('href')\n",
        "  else :\n",
        "    html_link = ''\n",
        "  return(html_link)\n",
        "\n",
        "# Parcours des pages et création du réseau\n",
        "author_links = [dictionary[key]['link'] for key in dictionary.keys()]\n",
        "genre_links = [dictionary_genres[key]['link'] for key in dictionary_genres.keys()]\n",
        "\n",
        "for id in tqdm_notebook(dictionary.keys()) :\n",
        "  authtor_link = dictionary[id]['link']\n",
        "  response = requests.get(authtor_link)\n",
        "  soup = bs4.BeautifulSoup(response.text, 'html.parser')\n",
        "  links = soup.find(id=\"bodyContent\").select('a')\n",
        "  network_aslink = []\n",
        "  net_genre_aslink = []\n",
        "  for link in links:\n",
        "    link = html_to_link(link)\n",
        "    if link in author_links :\n",
        "      network_aslink.append(link)\n",
        "    if link in genre_links :\n",
        "      net_genre_aslink.append(link)\n",
        "  network = []\n",
        "  net_genre = []\n",
        "  for link in network_aslink :\n",
        "    for id_bis in dictionary.keys() :\n",
        "      if link == dictionary[id_bis]['link'] :\n",
        "        network.append(id_bis)\n",
        "  for link in net_genre_aslink :\n",
        "    for id_bis in dictionary_genres.keys() :\n",
        "      if link == dictionary_genres[id_bis]['link'] :\n",
        "        net_genre.append(id_bis)\n",
        "  counted_network = Counter(network)\n",
        "  counted_net_genre = Counter(net_genre)\n",
        "  dictionary[id]['taille_html_article'] = len(str(soup))\n",
        "  dictionary[id]['network_interauteur'] = list(counted_network.keys())\n",
        "  dictionary[id]['poids_liens_interauteur'] = list(counted_network.values())\n",
        "  dictionary[id]['genres_mentionnes'] = list(counted_net_genre.keys())\n"
      ],
      "metadata": {
        "colab": {
          "base_uri": "https://localhost:8080/",
          "height": 101,
          "referenced_widgets": [
            "56caf1ffe4ff4a8ba05bdc48a0c53ec9",
            "2da71a9a8ae64d218a88877016f42bf7",
            "e1c3a882adc649dfb8afa994b7dac92c",
            "1ae6e5c63355487b9a1b4b1dbfe7c701",
            "a0c3a0331d3e44ebae27be10aafafedb",
            "967120c4a905474a895c9b21d7aa4e7a",
            "ab8adbf6f6424282a0f87764d139125f",
            "d5c1a2060fda4f4e8d291266c5010d43",
            "60c1901983674b9c9d2cce1615622b96",
            "02880a458b7f4cd18a797727bd99e91c",
            "4bf8282645944be288b1d22391665295"
          ]
        },
        "id": "NETZx3xOWpiJ",
        "outputId": "484af0c3-626c-472e-855f-1e89b8cc5426"
      },
      "execution_count": null,
      "outputs": [
        {
          "output_type": "stream",
          "name": "stderr",
          "text": [
            "/usr/local/lib/python3.7/dist-packages/ipykernel_launcher.py:15: TqdmDeprecationWarning: This function will be removed in tqdm==5.0.0\n",
            "Please use `tqdm.notebook.tqdm` instead of `tqdm.tqdm_notebook`\n",
            "  from ipykernel import kernelapp as app\n"
          ]
        },
        {
          "output_type": "display_data",
          "data": {
            "text/plain": [
              "  0%|          | 0/1583 [00:00<?, ?it/s]"
            ],
            "application/vnd.jupyter.widget-view+json": {
              "version_major": 2,
              "version_minor": 0,
              "model_id": "56caf1ffe4ff4a8ba05bdc48a0c53ec9"
            }
          },
          "metadata": {}
        }
      ]
    },
    {
      "cell_type": "markdown",
      "source": [
        "# Formatage données"
      ],
      "metadata": {
        "id": "xXb96SMsYs7V"
      }
    },
    {
      "cell_type": "code",
      "source": [
        "raw_data1 = dictionary.copy()\n",
        "for key in raw_data1.keys() :\n",
        "  raw_data1[key]['type'] = 'auteur'\n",
        "\n",
        "for key in dictionary_genres.keys() :\n",
        "  raw_data1[key] = dictionary_genres[key].copy()\n",
        "  raw_data1[key]['type'] = 'genre'\n",
        "\n",
        "for key_genre in raw_data1.keys() :\n",
        "  if raw_data1[key_genre]['type'] == 'genre' :\n",
        "    raw_data1[key_genre]['auteurs_du_genre'] = []\n",
        "for key_auteur in raw_data1.keys() :\n",
        "  if raw_data1[key_auteur]['type'] == 'auteur' :\n",
        "    for genre in raw_data1[key_auteur]['genres_mentionnes'] :\n",
        "      raw_data1[genre]['auteurs_du_genre'] = raw_data1[genre]['auteurs_du_genre'] + [key_auteur]\n",
        "\n",
        "for key_genre in raw_data1.keys() :\n",
        "  if raw_data1[key_genre]['type'] == 'auteur' :\n",
        "    try :\n",
        "      raw_data1[key_genre]['date_naissance'] = int(raw_data1[key_genre]['date_naissance'])\n",
        "    except :\n",
        "      raw_data1[key_genre]['date_naissance'] = 9999\n",
        "    try :\n",
        "      raw_data1[key_genre]['date_mort'] = int(raw_data1[key_genre]['date_mort'])\n",
        "    except :\n",
        "      raw_data1[key_genre]['date_mort'] = 9999\n",
        "\n",
        "for key_genre in raw_data1.keys() :\n",
        "  if raw_data1[key_genre]['type'] == 'genre' :\n",
        "    raw_data1[key_genre]['debut_genre'] = min([raw_data1[auteur]['date_naissance'] for auteur in raw_data1 if raw_data1[auteur]['type'] == 'auteur'] + [0])\n",
        "    raw_data1[key_genre]['fin_genre'] = max([raw_data1[auteur]['date_mort'] for auteur in raw_data1 if raw_data1[auteur]['type'] == 'auteur'] + [9999])\n",
        "\n",
        "for key_auteur1 in raw_data1.keys() :\n",
        "  if raw_data1[key_auteur1]['type'] == 'auteur' :\n",
        "    raw_data1[key_auteur1]['contemporain'] = []\n",
        "    raw_data1[key_auteur1]['poids_contempo_diff_naissance'] = []\n",
        "    raw_data1[key_auteur1]['poids_contempo_annees_communes'] = []\n",
        "    for key_auteur2 in raw_data1.keys() :\n",
        "      if (raw_data1[key_auteur2]['type'] == 'auteur') & (key_auteur2 != key_auteur1) :\n",
        "        mort_1 = [raw_data1[key_auteur1]['date_mort'] if raw_data1[key_auteur1]['date_mort'] != None else 9999]\n",
        "        mort_2 = [raw_data1[key_auteur2]['date_mort'] if raw_data1[key_auteur2]['date_mort'] != None else 9999]\n",
        "        naissance_1 = [raw_data1[key_auteur1]['date_naissance'] if raw_data1[id]['date_mort'] != None else 0]\n",
        "        naissance_2 = [raw_data1[key_auteur2]['date_naissance'] if raw_data1[key_auteur2]['date_mort'] != None else 0]\n",
        "        try:\n",
        "          annee_communes = [annee for annee in list(range(naissance_1, mort_1)) if annee in list(range(naissance_2, mort_2))]\n",
        "          if (mort_1 > naissance_2 and naissance_1 < mort_2) or (mort_2 > naissance_1 and naissance_2 < mort_1):\n",
        "            raw_data1[key_auteur1]['contemporain'].append(key_auteur2)\n",
        "            raw_data1[key_auteur1]['poids_contempo_diff_naissance'].append(abs(naissance_1 - naissance_2))\n",
        "            raw_data1[key_auteur1]['poids_contempo_annees_communes'].append(len(annee_communes))\n",
        "\n",
        "        except :\n",
        "          pass\n"
      ],
      "metadata": {
        "id": "UH6PxGHVVj6d"
      },
      "execution_count": null,
      "outputs": []
    },
    {
      "cell_type": "code",
      "source": [
        "raw_data1"
      ],
      "metadata": {
        "id": "XRtnQejookkt"
      },
      "execution_count": null,
      "outputs": []
    }
  ]
}