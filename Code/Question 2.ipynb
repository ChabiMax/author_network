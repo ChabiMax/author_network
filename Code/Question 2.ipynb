{
  "nbformat": 4,
  "nbformat_minor": 0,
  "metadata": {
    "colab": {
      "name": "Untitled1.ipynb",
      "provenance": [],
      "toc_visible": true,
      "include_colab_link": true
    },
    "kernelspec": {
      "name": "python3",
      "display_name": "Python 3"
    },
    "language_info": {
      "name": "python"
    },
    "widgets": {
      "application/vnd.jupyter.widget-state+json": {
        "d85fea2fc3b34308805ba78cfb775975": {
          "model_module": "@jupyter-widgets/controls",
          "model_name": "HBoxModel",
          "model_module_version": "1.5.0",
          "state": {
            "_dom_classes": [],
            "_model_module": "@jupyter-widgets/controls",
            "_model_module_version": "1.5.0",
            "_model_name": "HBoxModel",
            "_view_count": null,
            "_view_module": "@jupyter-widgets/controls",
            "_view_module_version": "1.5.0",
            "_view_name": "HBoxView",
            "box_style": "",
            "children": [
              "IPY_MODEL_37aebd43ee3946b0bb6d5d05b657d328",
              "IPY_MODEL_32c0d40c7ac44ef893b1eb1e01972c49",
              "IPY_MODEL_08a66b6cd5d54623bc3d9f110a76685b"
            ],
            "layout": "IPY_MODEL_1876bc9b510b4b598517ac0a82d76f52"
          }
        },
        "37aebd43ee3946b0bb6d5d05b657d328": {
          "model_module": "@jupyter-widgets/controls",
          "model_name": "HTMLModel",
          "model_module_version": "1.5.0",
          "state": {
            "_dom_classes": [],
            "_model_module": "@jupyter-widgets/controls",
            "_model_module_version": "1.5.0",
            "_model_name": "HTMLModel",
            "_view_count": null,
            "_view_module": "@jupyter-widgets/controls",
            "_view_module_version": "1.5.0",
            "_view_name": "HTMLView",
            "description": "",
            "description_tooltip": null,
            "layout": "IPY_MODEL_3bc7eda52e6847a289b47c390b7073a1",
            "placeholder": "​",
            "style": "IPY_MODEL_dec985c2f88048f5849d976d1fc5078a",
            "value": ""
          }
        },
        "32c0d40c7ac44ef893b1eb1e01972c49": {
          "model_module": "@jupyter-widgets/controls",
          "model_name": "FloatProgressModel",
          "model_module_version": "1.5.0",
          "state": {
            "_dom_classes": [],
            "_model_module": "@jupyter-widgets/controls",
            "_model_module_version": "1.5.0",
            "_model_name": "FloatProgressModel",
            "_view_count": null,
            "_view_module": "@jupyter-widgets/controls",
            "_view_module_version": "1.5.0",
            "_view_name": "ProgressView",
            "bar_style": "info",
            "description": "",
            "description_tooltip": null,
            "layout": "IPY_MODEL_0a67221f299f49ea9835fc2ed8fab6ee",
            "max": 1,
            "min": 0,
            "orientation": "horizontal",
            "style": "IPY_MODEL_ad119c1069af4f9c8dd400d9fe19ffa6",
            "value": 1
          }
        },
        "08a66b6cd5d54623bc3d9f110a76685b": {
          "model_module": "@jupyter-widgets/controls",
          "model_name": "HTMLModel",
          "model_module_version": "1.5.0",
          "state": {
            "_dom_classes": [],
            "_model_module": "@jupyter-widgets/controls",
            "_model_module_version": "1.5.0",
            "_model_name": "HTMLModel",
            "_view_count": null,
            "_view_module": "@jupyter-widgets/controls",
            "_view_module_version": "1.5.0",
            "_view_name": "HTMLView",
            "description": "",
            "description_tooltip": null,
            "layout": "IPY_MODEL_5dfd0e3fc2fa428b896779ca948b80a5",
            "placeholder": "​",
            "style": "IPY_MODEL_8c00637d41cb4421b180ea19b436ed4d",
            "value": " 33/? [02:08&lt;00:00,  3.02s/it]"
          }
        },
        "1876bc9b510b4b598517ac0a82d76f52": {
          "model_module": "@jupyter-widgets/base",
          "model_name": "LayoutModel",
          "model_module_version": "1.2.0",
          "state": {
            "_model_module": "@jupyter-widgets/base",
            "_model_module_version": "1.2.0",
            "_model_name": "LayoutModel",
            "_view_count": null,
            "_view_module": "@jupyter-widgets/base",
            "_view_module_version": "1.2.0",
            "_view_name": "LayoutView",
            "align_content": null,
            "align_items": null,
            "align_self": null,
            "border": null,
            "bottom": null,
            "display": null,
            "flex": null,
            "flex_flow": null,
            "grid_area": null,
            "grid_auto_columns": null,
            "grid_auto_flow": null,
            "grid_auto_rows": null,
            "grid_column": null,
            "grid_gap": null,
            "grid_row": null,
            "grid_template_areas": null,
            "grid_template_columns": null,
            "grid_template_rows": null,
            "height": null,
            "justify_content": null,
            "justify_items": null,
            "left": null,
            "margin": null,
            "max_height": null,
            "max_width": null,
            "min_height": null,
            "min_width": null,
            "object_fit": null,
            "object_position": null,
            "order": null,
            "overflow": null,
            "overflow_x": null,
            "overflow_y": null,
            "padding": null,
            "right": null,
            "top": null,
            "visibility": null,
            "width": null
          }
        },
        "3bc7eda52e6847a289b47c390b7073a1": {
          "model_module": "@jupyter-widgets/base",
          "model_name": "LayoutModel",
          "model_module_version": "1.2.0",
          "state": {
            "_model_module": "@jupyter-widgets/base",
            "_model_module_version": "1.2.0",
            "_model_name": "LayoutModel",
            "_view_count": null,
            "_view_module": "@jupyter-widgets/base",
            "_view_module_version": "1.2.0",
            "_view_name": "LayoutView",
            "align_content": null,
            "align_items": null,
            "align_self": null,
            "border": null,
            "bottom": null,
            "display": null,
            "flex": null,
            "flex_flow": null,
            "grid_area": null,
            "grid_auto_columns": null,
            "grid_auto_flow": null,
            "grid_auto_rows": null,
            "grid_column": null,
            "grid_gap": null,
            "grid_row": null,
            "grid_template_areas": null,
            "grid_template_columns": null,
            "grid_template_rows": null,
            "height": null,
            "justify_content": null,
            "justify_items": null,
            "left": null,
            "margin": null,
            "max_height": null,
            "max_width": null,
            "min_height": null,
            "min_width": null,
            "object_fit": null,
            "object_position": null,
            "order": null,
            "overflow": null,
            "overflow_x": null,
            "overflow_y": null,
            "padding": null,
            "right": null,
            "top": null,
            "visibility": null,
            "width": null
          }
        },
        "dec985c2f88048f5849d976d1fc5078a": {
          "model_module": "@jupyter-widgets/controls",
          "model_name": "DescriptionStyleModel",
          "model_module_version": "1.5.0",
          "state": {
            "_model_module": "@jupyter-widgets/controls",
            "_model_module_version": "1.5.0",
            "_model_name": "DescriptionStyleModel",
            "_view_count": null,
            "_view_module": "@jupyter-widgets/base",
            "_view_module_version": "1.2.0",
            "_view_name": "StyleView",
            "description_width": ""
          }
        },
        "0a67221f299f49ea9835fc2ed8fab6ee": {
          "model_module": "@jupyter-widgets/base",
          "model_name": "LayoutModel",
          "model_module_version": "1.2.0",
          "state": {
            "_model_module": "@jupyter-widgets/base",
            "_model_module_version": "1.2.0",
            "_model_name": "LayoutModel",
            "_view_count": null,
            "_view_module": "@jupyter-widgets/base",
            "_view_module_version": "1.2.0",
            "_view_name": "LayoutView",
            "align_content": null,
            "align_items": null,
            "align_self": null,
            "border": null,
            "bottom": null,
            "display": null,
            "flex": null,
            "flex_flow": null,
            "grid_area": null,
            "grid_auto_columns": null,
            "grid_auto_flow": null,
            "grid_auto_rows": null,
            "grid_column": null,
            "grid_gap": null,
            "grid_row": null,
            "grid_template_areas": null,
            "grid_template_columns": null,
            "grid_template_rows": null,
            "height": null,
            "justify_content": null,
            "justify_items": null,
            "left": null,
            "margin": null,
            "max_height": null,
            "max_width": null,
            "min_height": null,
            "min_width": null,
            "object_fit": null,
            "object_position": null,
            "order": null,
            "overflow": null,
            "overflow_x": null,
            "overflow_y": null,
            "padding": null,
            "right": null,
            "top": null,
            "visibility": null,
            "width": "20px"
          }
        },
        "ad119c1069af4f9c8dd400d9fe19ffa6": {
          "model_module": "@jupyter-widgets/controls",
          "model_name": "ProgressStyleModel",
          "model_module_version": "1.5.0",
          "state": {
            "_model_module": "@jupyter-widgets/controls",
            "_model_module_version": "1.5.0",
            "_model_name": "ProgressStyleModel",
            "_view_count": null,
            "_view_module": "@jupyter-widgets/base",
            "_view_module_version": "1.2.0",
            "_view_name": "StyleView",
            "bar_color": null,
            "description_width": ""
          }
        },
        "5dfd0e3fc2fa428b896779ca948b80a5": {
          "model_module": "@jupyter-widgets/base",
          "model_name": "LayoutModel",
          "model_module_version": "1.2.0",
          "state": {
            "_model_module": "@jupyter-widgets/base",
            "_model_module_version": "1.2.0",
            "_model_name": "LayoutModel",
            "_view_count": null,
            "_view_module": "@jupyter-widgets/base",
            "_view_module_version": "1.2.0",
            "_view_name": "LayoutView",
            "align_content": null,
            "align_items": null,
            "align_self": null,
            "border": null,
            "bottom": null,
            "display": null,
            "flex": null,
            "flex_flow": null,
            "grid_area": null,
            "grid_auto_columns": null,
            "grid_auto_flow": null,
            "grid_auto_rows": null,
            "grid_column": null,
            "grid_gap": null,
            "grid_row": null,
            "grid_template_areas": null,
            "grid_template_columns": null,
            "grid_template_rows": null,
            "height": null,
            "justify_content": null,
            "justify_items": null,
            "left": null,
            "margin": null,
            "max_height": null,
            "max_width": null,
            "min_height": null,
            "min_width": null,
            "object_fit": null,
            "object_position": null,
            "order": null,
            "overflow": null,
            "overflow_x": null,
            "overflow_y": null,
            "padding": null,
            "right": null,
            "top": null,
            "visibility": null,
            "width": null
          }
        },
        "8c00637d41cb4421b180ea19b436ed4d": {
          "model_module": "@jupyter-widgets/controls",
          "model_name": "DescriptionStyleModel",
          "model_module_version": "1.5.0",
          "state": {
            "_model_module": "@jupyter-widgets/controls",
            "_model_module_version": "1.5.0",
            "_model_name": "DescriptionStyleModel",
            "_view_count": null,
            "_view_module": "@jupyter-widgets/base",
            "_view_module_version": "1.2.0",
            "_view_name": "StyleView",
            "description_width": ""
          }
        },
        "e9de6156098f44fba4bc49c4931f8dd7": {
          "model_module": "@jupyter-widgets/controls",
          "model_name": "HBoxModel",
          "model_module_version": "1.5.0",
          "state": {
            "_dom_classes": [],
            "_model_module": "@jupyter-widgets/controls",
            "_model_module_version": "1.5.0",
            "_model_name": "HBoxModel",
            "_view_count": null,
            "_view_module": "@jupyter-widgets/controls",
            "_view_module_version": "1.5.0",
            "_view_name": "HBoxView",
            "box_style": "",
            "children": [
              "IPY_MODEL_acac01a36a6a462c89068bfea7817316",
              "IPY_MODEL_84463dd2dbb446678f97866ac725b064",
              "IPY_MODEL_816acb54a94c4e4f9063ac8250d10339"
            ],
            "layout": "IPY_MODEL_3342f84217444abb90c352254f55c7f8"
          }
        },
        "acac01a36a6a462c89068bfea7817316": {
          "model_module": "@jupyter-widgets/controls",
          "model_name": "HTMLModel",
          "model_module_version": "1.5.0",
          "state": {
            "_dom_classes": [],
            "_model_module": "@jupyter-widgets/controls",
            "_model_module_version": "1.5.0",
            "_model_name": "HTMLModel",
            "_view_count": null,
            "_view_module": "@jupyter-widgets/controls",
            "_view_module_version": "1.5.0",
            "_view_name": "HTMLView",
            "description": "",
            "description_tooltip": null,
            "layout": "IPY_MODEL_713f395738e748be8ce7cfe14869a6ad",
            "placeholder": "​",
            "style": "IPY_MODEL_b368c3cdf4de4e3c9b4d7a6479842841",
            "value": "100%"
          }
        },
        "84463dd2dbb446678f97866ac725b064": {
          "model_module": "@jupyter-widgets/controls",
          "model_name": "FloatProgressModel",
          "model_module_version": "1.5.0",
          "state": {
            "_dom_classes": [],
            "_model_module": "@jupyter-widgets/controls",
            "_model_module_version": "1.5.0",
            "_model_name": "FloatProgressModel",
            "_view_count": null,
            "_view_module": "@jupyter-widgets/controls",
            "_view_module_version": "1.5.0",
            "_view_name": "ProgressView",
            "bar_style": "success",
            "description": "",
            "description_tooltip": null,
            "layout": "IPY_MODEL_b8a227122e31429692b89534466fe804",
            "max": 1786,
            "min": 0,
            "orientation": "horizontal",
            "style": "IPY_MODEL_9cd3d321921046aa8c5217966748f808",
            "value": 1786
          }
        },
        "816acb54a94c4e4f9063ac8250d10339": {
          "model_module": "@jupyter-widgets/controls",
          "model_name": "HTMLModel",
          "model_module_version": "1.5.0",
          "state": {
            "_dom_classes": [],
            "_model_module": "@jupyter-widgets/controls",
            "_model_module_version": "1.5.0",
            "_model_name": "HTMLModel",
            "_view_count": null,
            "_view_module": "@jupyter-widgets/controls",
            "_view_module_version": "1.5.0",
            "_view_name": "HTMLView",
            "description": "",
            "description_tooltip": null,
            "layout": "IPY_MODEL_97dce319b60c454c8864cc1b552b3a00",
            "placeholder": "​",
            "style": "IPY_MODEL_e4c09e8564364fb6a3d6e4c4c5fff9f4",
            "value": " 1786/1786 [00:06&lt;00:00, 497.47it/s]"
          }
        },
        "3342f84217444abb90c352254f55c7f8": {
          "model_module": "@jupyter-widgets/base",
          "model_name": "LayoutModel",
          "model_module_version": "1.2.0",
          "state": {
            "_model_module": "@jupyter-widgets/base",
            "_model_module_version": "1.2.0",
            "_model_name": "LayoutModel",
            "_view_count": null,
            "_view_module": "@jupyter-widgets/base",
            "_view_module_version": "1.2.0",
            "_view_name": "LayoutView",
            "align_content": null,
            "align_items": null,
            "align_self": null,
            "border": null,
            "bottom": null,
            "display": null,
            "flex": null,
            "flex_flow": null,
            "grid_area": null,
            "grid_auto_columns": null,
            "grid_auto_flow": null,
            "grid_auto_rows": null,
            "grid_column": null,
            "grid_gap": null,
            "grid_row": null,
            "grid_template_areas": null,
            "grid_template_columns": null,
            "grid_template_rows": null,
            "height": null,
            "justify_content": null,
            "justify_items": null,
            "left": null,
            "margin": null,
            "max_height": null,
            "max_width": null,
            "min_height": null,
            "min_width": null,
            "object_fit": null,
            "object_position": null,
            "order": null,
            "overflow": null,
            "overflow_x": null,
            "overflow_y": null,
            "padding": null,
            "right": null,
            "top": null,
            "visibility": null,
            "width": null
          }
        },
        "713f395738e748be8ce7cfe14869a6ad": {
          "model_module": "@jupyter-widgets/base",
          "model_name": "LayoutModel",
          "model_module_version": "1.2.0",
          "state": {
            "_model_module": "@jupyter-widgets/base",
            "_model_module_version": "1.2.0",
            "_model_name": "LayoutModel",
            "_view_count": null,
            "_view_module": "@jupyter-widgets/base",
            "_view_module_version": "1.2.0",
            "_view_name": "LayoutView",
            "align_content": null,
            "align_items": null,
            "align_self": null,
            "border": null,
            "bottom": null,
            "display": null,
            "flex": null,
            "flex_flow": null,
            "grid_area": null,
            "grid_auto_columns": null,
            "grid_auto_flow": null,
            "grid_auto_rows": null,
            "grid_column": null,
            "grid_gap": null,
            "grid_row": null,
            "grid_template_areas": null,
            "grid_template_columns": null,
            "grid_template_rows": null,
            "height": null,
            "justify_content": null,
            "justify_items": null,
            "left": null,
            "margin": null,
            "max_height": null,
            "max_width": null,
            "min_height": null,
            "min_width": null,
            "object_fit": null,
            "object_position": null,
            "order": null,
            "overflow": null,
            "overflow_x": null,
            "overflow_y": null,
            "padding": null,
            "right": null,
            "top": null,
            "visibility": null,
            "width": null
          }
        },
        "b368c3cdf4de4e3c9b4d7a6479842841": {
          "model_module": "@jupyter-widgets/controls",
          "model_name": "DescriptionStyleModel",
          "model_module_version": "1.5.0",
          "state": {
            "_model_module": "@jupyter-widgets/controls",
            "_model_module_version": "1.5.0",
            "_model_name": "DescriptionStyleModel",
            "_view_count": null,
            "_view_module": "@jupyter-widgets/base",
            "_view_module_version": "1.2.0",
            "_view_name": "StyleView",
            "description_width": ""
          }
        },
        "b8a227122e31429692b89534466fe804": {
          "model_module": "@jupyter-widgets/base",
          "model_name": "LayoutModel",
          "model_module_version": "1.2.0",
          "state": {
            "_model_module": "@jupyter-widgets/base",
            "_model_module_version": "1.2.0",
            "_model_name": "LayoutModel",
            "_view_count": null,
            "_view_module": "@jupyter-widgets/base",
            "_view_module_version": "1.2.0",
            "_view_name": "LayoutView",
            "align_content": null,
            "align_items": null,
            "align_self": null,
            "border": null,
            "bottom": null,
            "display": null,
            "flex": null,
            "flex_flow": null,
            "grid_area": null,
            "grid_auto_columns": null,
            "grid_auto_flow": null,
            "grid_auto_rows": null,
            "grid_column": null,
            "grid_gap": null,
            "grid_row": null,
            "grid_template_areas": null,
            "grid_template_columns": null,
            "grid_template_rows": null,
            "height": null,
            "justify_content": null,
            "justify_items": null,
            "left": null,
            "margin": null,
            "max_height": null,
            "max_width": null,
            "min_height": null,
            "min_width": null,
            "object_fit": null,
            "object_position": null,
            "order": null,
            "overflow": null,
            "overflow_x": null,
            "overflow_y": null,
            "padding": null,
            "right": null,
            "top": null,
            "visibility": null,
            "width": null
          }
        },
        "9cd3d321921046aa8c5217966748f808": {
          "model_module": "@jupyter-widgets/controls",
          "model_name": "ProgressStyleModel",
          "model_module_version": "1.5.0",
          "state": {
            "_model_module": "@jupyter-widgets/controls",
            "_model_module_version": "1.5.0",
            "_model_name": "ProgressStyleModel",
            "_view_count": null,
            "_view_module": "@jupyter-widgets/base",
            "_view_module_version": "1.2.0",
            "_view_name": "StyleView",
            "bar_color": null,
            "description_width": ""
          }
        },
        "97dce319b60c454c8864cc1b552b3a00": {
          "model_module": "@jupyter-widgets/base",
          "model_name": "LayoutModel",
          "model_module_version": "1.2.0",
          "state": {
            "_model_module": "@jupyter-widgets/base",
            "_model_module_version": "1.2.0",
            "_model_name": "LayoutModel",
            "_view_count": null,
            "_view_module": "@jupyter-widgets/base",
            "_view_module_version": "1.2.0",
            "_view_name": "LayoutView",
            "align_content": null,
            "align_items": null,
            "align_self": null,
            "border": null,
            "bottom": null,
            "display": null,
            "flex": null,
            "flex_flow": null,
            "grid_area": null,
            "grid_auto_columns": null,
            "grid_auto_flow": null,
            "grid_auto_rows": null,
            "grid_column": null,
            "grid_gap": null,
            "grid_row": null,
            "grid_template_areas": null,
            "grid_template_columns": null,
            "grid_template_rows": null,
            "height": null,
            "justify_content": null,
            "justify_items": null,
            "left": null,
            "margin": null,
            "max_height": null,
            "max_width": null,
            "min_height": null,
            "min_width": null,
            "object_fit": null,
            "object_position": null,
            "order": null,
            "overflow": null,
            "overflow_x": null,
            "overflow_y": null,
            "padding": null,
            "right": null,
            "top": null,
            "visibility": null,
            "width": null
          }
        },
        "e4c09e8564364fb6a3d6e4c4c5fff9f4": {
          "model_module": "@jupyter-widgets/controls",
          "model_name": "DescriptionStyleModel",
          "model_module_version": "1.5.0",
          "state": {
            "_model_module": "@jupyter-widgets/controls",
            "_model_module_version": "1.5.0",
            "_model_name": "DescriptionStyleModel",
            "_view_count": null,
            "_view_module": "@jupyter-widgets/base",
            "_view_module_version": "1.2.0",
            "_view_name": "StyleView",
            "description_width": ""
          }
        },
        "8d3e558932b6457080964b6a6c93cc6a": {
          "model_module": "@jupyter-widgets/controls",
          "model_name": "HBoxModel",
          "model_module_version": "1.5.0",
          "state": {
            "_dom_classes": [],
            "_model_module": "@jupyter-widgets/controls",
            "_model_module_version": "1.5.0",
            "_model_name": "HBoxModel",
            "_view_count": null,
            "_view_module": "@jupyter-widgets/controls",
            "_view_module_version": "1.5.0",
            "_view_name": "HBoxView",
            "box_style": "",
            "children": [
              "IPY_MODEL_1efa72c743484fe297e4a8283b574a0d",
              "IPY_MODEL_34bee9a55ada42788535538d2386e4eb",
              "IPY_MODEL_ed46795a7cec451da41828c94b8b525f"
            ],
            "layout": "IPY_MODEL_f57dd103b0f448c8976e356069c93c40"
          }
        },
        "1efa72c743484fe297e4a8283b574a0d": {
          "model_module": "@jupyter-widgets/controls",
          "model_name": "HTMLModel",
          "model_module_version": "1.5.0",
          "state": {
            "_dom_classes": [],
            "_model_module": "@jupyter-widgets/controls",
            "_model_module_version": "1.5.0",
            "_model_name": "HTMLModel",
            "_view_count": null,
            "_view_module": "@jupyter-widgets/controls",
            "_view_module_version": "1.5.0",
            "_view_name": "HTMLView",
            "description": "",
            "description_tooltip": null,
            "layout": "IPY_MODEL_7ba268fa17c5409aab994d3fd828aee8",
            "placeholder": "​",
            "style": "IPY_MODEL_de8c77f114b34990a7121dd45a219441",
            "value": "100%"
          }
        },
        "34bee9a55ada42788535538d2386e4eb": {
          "model_module": "@jupyter-widgets/controls",
          "model_name": "FloatProgressModel",
          "model_module_version": "1.5.0",
          "state": {
            "_dom_classes": [],
            "_model_module": "@jupyter-widgets/controls",
            "_model_module_version": "1.5.0",
            "_model_name": "FloatProgressModel",
            "_view_count": null,
            "_view_module": "@jupyter-widgets/controls",
            "_view_module_version": "1.5.0",
            "_view_name": "ProgressView",
            "bar_style": "success",
            "description": "",
            "description_tooltip": null,
            "layout": "IPY_MODEL_26d1ea6a53f941e2bd923cf9c91bcd35",
            "max": 202,
            "min": 0,
            "orientation": "horizontal",
            "style": "IPY_MODEL_89baaf4082f846a4b320c03c82f15c35",
            "value": 202
          }
        },
        "ed46795a7cec451da41828c94b8b525f": {
          "model_module": "@jupyter-widgets/controls",
          "model_name": "HTMLModel",
          "model_module_version": "1.5.0",
          "state": {
            "_dom_classes": [],
            "_model_module": "@jupyter-widgets/controls",
            "_model_module_version": "1.5.0",
            "_model_name": "HTMLModel",
            "_view_count": null,
            "_view_module": "@jupyter-widgets/controls",
            "_view_module_version": "1.5.0",
            "_view_name": "HTMLView",
            "description": "",
            "description_tooltip": null,
            "layout": "IPY_MODEL_0fb92728a99e40b59322f880c3c7f70e",
            "placeholder": "​",
            "style": "IPY_MODEL_c2586c8ba7dd4654abb24a824da6161d",
            "value": " 202/202 [00:01&lt;00:00, 54.52it/s]"
          }
        },
        "f57dd103b0f448c8976e356069c93c40": {
          "model_module": "@jupyter-widgets/base",
          "model_name": "LayoutModel",
          "model_module_version": "1.2.0",
          "state": {
            "_model_module": "@jupyter-widgets/base",
            "_model_module_version": "1.2.0",
            "_model_name": "LayoutModel",
            "_view_count": null,
            "_view_module": "@jupyter-widgets/base",
            "_view_module_version": "1.2.0",
            "_view_name": "LayoutView",
            "align_content": null,
            "align_items": null,
            "align_self": null,
            "border": null,
            "bottom": null,
            "display": null,
            "flex": null,
            "flex_flow": null,
            "grid_area": null,
            "grid_auto_columns": null,
            "grid_auto_flow": null,
            "grid_auto_rows": null,
            "grid_column": null,
            "grid_gap": null,
            "grid_row": null,
            "grid_template_areas": null,
            "grid_template_columns": null,
            "grid_template_rows": null,
            "height": null,
            "justify_content": null,
            "justify_items": null,
            "left": null,
            "margin": null,
            "max_height": null,
            "max_width": null,
            "min_height": null,
            "min_width": null,
            "object_fit": null,
            "object_position": null,
            "order": null,
            "overflow": null,
            "overflow_x": null,
            "overflow_y": null,
            "padding": null,
            "right": null,
            "top": null,
            "visibility": null,
            "width": null
          }
        },
        "7ba268fa17c5409aab994d3fd828aee8": {
          "model_module": "@jupyter-widgets/base",
          "model_name": "LayoutModel",
          "model_module_version": "1.2.0",
          "state": {
            "_model_module": "@jupyter-widgets/base",
            "_model_module_version": "1.2.0",
            "_model_name": "LayoutModel",
            "_view_count": null,
            "_view_module": "@jupyter-widgets/base",
            "_view_module_version": "1.2.0",
            "_view_name": "LayoutView",
            "align_content": null,
            "align_items": null,
            "align_self": null,
            "border": null,
            "bottom": null,
            "display": null,
            "flex": null,
            "flex_flow": null,
            "grid_area": null,
            "grid_auto_columns": null,
            "grid_auto_flow": null,
            "grid_auto_rows": null,
            "grid_column": null,
            "grid_gap": null,
            "grid_row": null,
            "grid_template_areas": null,
            "grid_template_columns": null,
            "grid_template_rows": null,
            "height": null,
            "justify_content": null,
            "justify_items": null,
            "left": null,
            "margin": null,
            "max_height": null,
            "max_width": null,
            "min_height": null,
            "min_width": null,
            "object_fit": null,
            "object_position": null,
            "order": null,
            "overflow": null,
            "overflow_x": null,
            "overflow_y": null,
            "padding": null,
            "right": null,
            "top": null,
            "visibility": null,
            "width": null
          }
        },
        "de8c77f114b34990a7121dd45a219441": {
          "model_module": "@jupyter-widgets/controls",
          "model_name": "DescriptionStyleModel",
          "model_module_version": "1.5.0",
          "state": {
            "_model_module": "@jupyter-widgets/controls",
            "_model_module_version": "1.5.0",
            "_model_name": "DescriptionStyleModel",
            "_view_count": null,
            "_view_module": "@jupyter-widgets/base",
            "_view_module_version": "1.2.0",
            "_view_name": "StyleView",
            "description_width": ""
          }
        },
        "26d1ea6a53f941e2bd923cf9c91bcd35": {
          "model_module": "@jupyter-widgets/base",
          "model_name": "LayoutModel",
          "model_module_version": "1.2.0",
          "state": {
            "_model_module": "@jupyter-widgets/base",
            "_model_module_version": "1.2.0",
            "_model_name": "LayoutModel",
            "_view_count": null,
            "_view_module": "@jupyter-widgets/base",
            "_view_module_version": "1.2.0",
            "_view_name": "LayoutView",
            "align_content": null,
            "align_items": null,
            "align_self": null,
            "border": null,
            "bottom": null,
            "display": null,
            "flex": null,
            "flex_flow": null,
            "grid_area": null,
            "grid_auto_columns": null,
            "grid_auto_flow": null,
            "grid_auto_rows": null,
            "grid_column": null,
            "grid_gap": null,
            "grid_row": null,
            "grid_template_areas": null,
            "grid_template_columns": null,
            "grid_template_rows": null,
            "height": null,
            "justify_content": null,
            "justify_items": null,
            "left": null,
            "margin": null,
            "max_height": null,
            "max_width": null,
            "min_height": null,
            "min_width": null,
            "object_fit": null,
            "object_position": null,
            "order": null,
            "overflow": null,
            "overflow_x": null,
            "overflow_y": null,
            "padding": null,
            "right": null,
            "top": null,
            "visibility": null,
            "width": null
          }
        },
        "89baaf4082f846a4b320c03c82f15c35": {
          "model_module": "@jupyter-widgets/controls",
          "model_name": "ProgressStyleModel",
          "model_module_version": "1.5.0",
          "state": {
            "_model_module": "@jupyter-widgets/controls",
            "_model_module_version": "1.5.0",
            "_model_name": "ProgressStyleModel",
            "_view_count": null,
            "_view_module": "@jupyter-widgets/base",
            "_view_module_version": "1.2.0",
            "_view_name": "StyleView",
            "bar_color": null,
            "description_width": ""
          }
        },
        "0fb92728a99e40b59322f880c3c7f70e": {
          "model_module": "@jupyter-widgets/base",
          "model_name": "LayoutModel",
          "model_module_version": "1.2.0",
          "state": {
            "_model_module": "@jupyter-widgets/base",
            "_model_module_version": "1.2.0",
            "_model_name": "LayoutModel",
            "_view_count": null,
            "_view_module": "@jupyter-widgets/base",
            "_view_module_version": "1.2.0",
            "_view_name": "LayoutView",
            "align_content": null,
            "align_items": null,
            "align_self": null,
            "border": null,
            "bottom": null,
            "display": null,
            "flex": null,
            "flex_flow": null,
            "grid_area": null,
            "grid_auto_columns": null,
            "grid_auto_flow": null,
            "grid_auto_rows": null,
            "grid_column": null,
            "grid_gap": null,
            "grid_row": null,
            "grid_template_areas": null,
            "grid_template_columns": null,
            "grid_template_rows": null,
            "height": null,
            "justify_content": null,
            "justify_items": null,
            "left": null,
            "margin": null,
            "max_height": null,
            "max_width": null,
            "min_height": null,
            "min_width": null,
            "object_fit": null,
            "object_position": null,
            "order": null,
            "overflow": null,
            "overflow_x": null,
            "overflow_y": null,
            "padding": null,
            "right": null,
            "top": null,
            "visibility": null,
            "width": null
          }
        },
        "c2586c8ba7dd4654abb24a824da6161d": {
          "model_module": "@jupyter-widgets/controls",
          "model_name": "DescriptionStyleModel",
          "model_module_version": "1.5.0",
          "state": {
            "_model_module": "@jupyter-widgets/controls",
            "_model_module_version": "1.5.0",
            "_model_name": "DescriptionStyleModel",
            "_view_count": null,
            "_view_module": "@jupyter-widgets/base",
            "_view_module_version": "1.2.0",
            "_view_name": "StyleView",
            "description_width": ""
          }
        },
        "4e9a585ac5a248698c663723acb6c88f": {
          "model_module": "@jupyter-widgets/controls",
          "model_name": "HBoxModel",
          "model_module_version": "1.5.0",
          "state": {
            "_dom_classes": [],
            "_model_module": "@jupyter-widgets/controls",
            "_model_module_version": "1.5.0",
            "_model_name": "HBoxModel",
            "_view_count": null,
            "_view_module": "@jupyter-widgets/controls",
            "_view_module_version": "1.5.0",
            "_view_name": "HBoxView",
            "box_style": "",
            "children": [
              "IPY_MODEL_3945708990ed413da62abf4bd75612c8",
              "IPY_MODEL_cf764f13c3c542a9805a8b9df6043468",
              "IPY_MODEL_c92235ea2cc145ed9e8e47ff9efda7a0"
            ],
            "layout": "IPY_MODEL_2bd7f607fd55413081fb5d4eb82a2a67"
          }
        },
        "3945708990ed413da62abf4bd75612c8": {
          "model_module": "@jupyter-widgets/controls",
          "model_name": "HTMLModel",
          "model_module_version": "1.5.0",
          "state": {
            "_dom_classes": [],
            "_model_module": "@jupyter-widgets/controls",
            "_model_module_version": "1.5.0",
            "_model_name": "HTMLModel",
            "_view_count": null,
            "_view_module": "@jupyter-widgets/controls",
            "_view_module_version": "1.5.0",
            "_view_name": "HTMLView",
            "description": "",
            "description_tooltip": null,
            "layout": "IPY_MODEL_5844807ac5504018a41bf6bf56f98a22",
            "placeholder": "​",
            "style": "IPY_MODEL_68c1906881c6464a94a9ecf973754348",
            "value": "100%"
          }
        },
        "cf764f13c3c542a9805a8b9df6043468": {
          "model_module": "@jupyter-widgets/controls",
          "model_name": "FloatProgressModel",
          "model_module_version": "1.5.0",
          "state": {
            "_dom_classes": [],
            "_model_module": "@jupyter-widgets/controls",
            "_model_module_version": "1.5.0",
            "_model_name": "FloatProgressModel",
            "_view_count": null,
            "_view_module": "@jupyter-widgets/controls",
            "_view_module_version": "1.5.0",
            "_view_name": "ProgressView",
            "bar_style": "success",
            "description": "",
            "description_tooltip": null,
            "layout": "IPY_MODEL_3b38517f5f9a4b9e95fa35baa2a8f793",
            "max": 91863,
            "min": 0,
            "orientation": "horizontal",
            "style": "IPY_MODEL_3dbca93e41f140f8b9cf7636901ec85d",
            "value": 91863
          }
        },
        "c92235ea2cc145ed9e8e47ff9efda7a0": {
          "model_module": "@jupyter-widgets/controls",
          "model_name": "HTMLModel",
          "model_module_version": "1.5.0",
          "state": {
            "_dom_classes": [],
            "_model_module": "@jupyter-widgets/controls",
            "_model_module_version": "1.5.0",
            "_model_name": "HTMLModel",
            "_view_count": null,
            "_view_module": "@jupyter-widgets/controls",
            "_view_module_version": "1.5.0",
            "_view_name": "HTMLView",
            "description": "",
            "description_tooltip": null,
            "layout": "IPY_MODEL_bb776280216f41869771a0488bdbb7e0",
            "placeholder": "​",
            "style": "IPY_MODEL_b33d91e98c974ad0bf96735edda49ba0",
            "value": " 91863/91863 [03:46&lt;00:00, 570.33it/s]"
          }
        },
        "2bd7f607fd55413081fb5d4eb82a2a67": {
          "model_module": "@jupyter-widgets/base",
          "model_name": "LayoutModel",
          "model_module_version": "1.2.0",
          "state": {
            "_model_module": "@jupyter-widgets/base",
            "_model_module_version": "1.2.0",
            "_model_name": "LayoutModel",
            "_view_count": null,
            "_view_module": "@jupyter-widgets/base",
            "_view_module_version": "1.2.0",
            "_view_name": "LayoutView",
            "align_content": null,
            "align_items": null,
            "align_self": null,
            "border": null,
            "bottom": null,
            "display": null,
            "flex": null,
            "flex_flow": null,
            "grid_area": null,
            "grid_auto_columns": null,
            "grid_auto_flow": null,
            "grid_auto_rows": null,
            "grid_column": null,
            "grid_gap": null,
            "grid_row": null,
            "grid_template_areas": null,
            "grid_template_columns": null,
            "grid_template_rows": null,
            "height": null,
            "justify_content": null,
            "justify_items": null,
            "left": null,
            "margin": null,
            "max_height": null,
            "max_width": null,
            "min_height": null,
            "min_width": null,
            "object_fit": null,
            "object_position": null,
            "order": null,
            "overflow": null,
            "overflow_x": null,
            "overflow_y": null,
            "padding": null,
            "right": null,
            "top": null,
            "visibility": null,
            "width": null
          }
        },
        "5844807ac5504018a41bf6bf56f98a22": {
          "model_module": "@jupyter-widgets/base",
          "model_name": "LayoutModel",
          "model_module_version": "1.2.0",
          "state": {
            "_model_module": "@jupyter-widgets/base",
            "_model_module_version": "1.2.0",
            "_model_name": "LayoutModel",
            "_view_count": null,
            "_view_module": "@jupyter-widgets/base",
            "_view_module_version": "1.2.0",
            "_view_name": "LayoutView",
            "align_content": null,
            "align_items": null,
            "align_self": null,
            "border": null,
            "bottom": null,
            "display": null,
            "flex": null,
            "flex_flow": null,
            "grid_area": null,
            "grid_auto_columns": null,
            "grid_auto_flow": null,
            "grid_auto_rows": null,
            "grid_column": null,
            "grid_gap": null,
            "grid_row": null,
            "grid_template_areas": null,
            "grid_template_columns": null,
            "grid_template_rows": null,
            "height": null,
            "justify_content": null,
            "justify_items": null,
            "left": null,
            "margin": null,
            "max_height": null,
            "max_width": null,
            "min_height": null,
            "min_width": null,
            "object_fit": null,
            "object_position": null,
            "order": null,
            "overflow": null,
            "overflow_x": null,
            "overflow_y": null,
            "padding": null,
            "right": null,
            "top": null,
            "visibility": null,
            "width": null
          }
        },
        "68c1906881c6464a94a9ecf973754348": {
          "model_module": "@jupyter-widgets/controls",
          "model_name": "DescriptionStyleModel",
          "model_module_version": "1.5.0",
          "state": {
            "_model_module": "@jupyter-widgets/controls",
            "_model_module_version": "1.5.0",
            "_model_name": "DescriptionStyleModel",
            "_view_count": null,
            "_view_module": "@jupyter-widgets/base",
            "_view_module_version": "1.2.0",
            "_view_name": "StyleView",
            "description_width": ""
          }
        },
        "3b38517f5f9a4b9e95fa35baa2a8f793": {
          "model_module": "@jupyter-widgets/base",
          "model_name": "LayoutModel",
          "model_module_version": "1.2.0",
          "state": {
            "_model_module": "@jupyter-widgets/base",
            "_model_module_version": "1.2.0",
            "_model_name": "LayoutModel",
            "_view_count": null,
            "_view_module": "@jupyter-widgets/base",
            "_view_module_version": "1.2.0",
            "_view_name": "LayoutView",
            "align_content": null,
            "align_items": null,
            "align_self": null,
            "border": null,
            "bottom": null,
            "display": null,
            "flex": null,
            "flex_flow": null,
            "grid_area": null,
            "grid_auto_columns": null,
            "grid_auto_flow": null,
            "grid_auto_rows": null,
            "grid_column": null,
            "grid_gap": null,
            "grid_row": null,
            "grid_template_areas": null,
            "grid_template_columns": null,
            "grid_template_rows": null,
            "height": null,
            "justify_content": null,
            "justify_items": null,
            "left": null,
            "margin": null,
            "max_height": null,
            "max_width": null,
            "min_height": null,
            "min_width": null,
            "object_fit": null,
            "object_position": null,
            "order": null,
            "overflow": null,
            "overflow_x": null,
            "overflow_y": null,
            "padding": null,
            "right": null,
            "top": null,
            "visibility": null,
            "width": null
          }
        },
        "3dbca93e41f140f8b9cf7636901ec85d": {
          "model_module": "@jupyter-widgets/controls",
          "model_name": "ProgressStyleModel",
          "model_module_version": "1.5.0",
          "state": {
            "_model_module": "@jupyter-widgets/controls",
            "_model_module_version": "1.5.0",
            "_model_name": "ProgressStyleModel",
            "_view_count": null,
            "_view_module": "@jupyter-widgets/base",
            "_view_module_version": "1.2.0",
            "_view_name": "StyleView",
            "bar_color": null,
            "description_width": ""
          }
        },
        "bb776280216f41869771a0488bdbb7e0": {
          "model_module": "@jupyter-widgets/base",
          "model_name": "LayoutModel",
          "model_module_version": "1.2.0",
          "state": {
            "_model_module": "@jupyter-widgets/base",
            "_model_module_version": "1.2.0",
            "_model_name": "LayoutModel",
            "_view_count": null,
            "_view_module": "@jupyter-widgets/base",
            "_view_module_version": "1.2.0",
            "_view_name": "LayoutView",
            "align_content": null,
            "align_items": null,
            "align_self": null,
            "border": null,
            "bottom": null,
            "display": null,
            "flex": null,
            "flex_flow": null,
            "grid_area": null,
            "grid_auto_columns": null,
            "grid_auto_flow": null,
            "grid_auto_rows": null,
            "grid_column": null,
            "grid_gap": null,
            "grid_row": null,
            "grid_template_areas": null,
            "grid_template_columns": null,
            "grid_template_rows": null,
            "height": null,
            "justify_content": null,
            "justify_items": null,
            "left": null,
            "margin": null,
            "max_height": null,
            "max_width": null,
            "min_height": null,
            "min_width": null,
            "object_fit": null,
            "object_position": null,
            "order": null,
            "overflow": null,
            "overflow_x": null,
            "overflow_y": null,
            "padding": null,
            "right": null,
            "top": null,
            "visibility": null,
            "width": null
          }
        },
        "b33d91e98c974ad0bf96735edda49ba0": {
          "model_module": "@jupyter-widgets/controls",
          "model_name": "DescriptionStyleModel",
          "model_module_version": "1.5.0",
          "state": {
            "_model_module": "@jupyter-widgets/controls",
            "_model_module_version": "1.5.0",
            "_model_name": "DescriptionStyleModel",
            "_view_count": null,
            "_view_module": "@jupyter-widgets/base",
            "_view_module_version": "1.2.0",
            "_view_name": "StyleView",
            "description_width": ""
          }
        },
        "82d9559e1c8a4ce896ee87f4b787302b": {
          "model_module": "@jupyter-widgets/controls",
          "model_name": "HBoxModel",
          "model_module_version": "1.5.0",
          "state": {
            "_dom_classes": [],
            "_model_module": "@jupyter-widgets/controls",
            "_model_module_version": "1.5.0",
            "_model_name": "HBoxModel",
            "_view_count": null,
            "_view_module": "@jupyter-widgets/controls",
            "_view_module_version": "1.5.0",
            "_view_name": "HBoxView",
            "box_style": "",
            "children": [
              "IPY_MODEL_34670eed93204193b671c6b3c9914853",
              "IPY_MODEL_9362285632a14422a8f8d5891a0b5ff2",
              "IPY_MODEL_ee42a538b4d4438495300c2e82efccf9"
            ],
            "layout": "IPY_MODEL_a3086c88854749b4825988876352199c"
          }
        },
        "34670eed93204193b671c6b3c9914853": {
          "model_module": "@jupyter-widgets/controls",
          "model_name": "HTMLModel",
          "model_module_version": "1.5.0",
          "state": {
            "_dom_classes": [],
            "_model_module": "@jupyter-widgets/controls",
            "_model_module_version": "1.5.0",
            "_model_name": "HTMLModel",
            "_view_count": null,
            "_view_module": "@jupyter-widgets/controls",
            "_view_module_version": "1.5.0",
            "_view_name": "HTMLView",
            "description": "",
            "description_tooltip": null,
            "layout": "IPY_MODEL_8c494e67238f4e379c6c3191b09a1622",
            "placeholder": "​",
            "style": "IPY_MODEL_d96a24d94cfc4d6fbaf9d3a3ef8bc1af",
            "value": "100%"
          }
        },
        "9362285632a14422a8f8d5891a0b5ff2": {
          "model_module": "@jupyter-widgets/controls",
          "model_name": "FloatProgressModel",
          "model_module_version": "1.5.0",
          "state": {
            "_dom_classes": [],
            "_model_module": "@jupyter-widgets/controls",
            "_model_module_version": "1.5.0",
            "_model_name": "FloatProgressModel",
            "_view_count": null,
            "_view_module": "@jupyter-widgets/controls",
            "_view_module_version": "1.5.0",
            "_view_name": "ProgressView",
            "bar_style": "success",
            "description": "",
            "description_tooltip": null,
            "layout": "IPY_MODEL_51c6bfb5bdfa4303b196306e77bec75e",
            "max": 1584,
            "min": 0,
            "orientation": "horizontal",
            "style": "IPY_MODEL_12fc7ac43ae04809ae598afb8f2753a4",
            "value": 1584
          }
        },
        "ee42a538b4d4438495300c2e82efccf9": {
          "model_module": "@jupyter-widgets/controls",
          "model_name": "HTMLModel",
          "model_module_version": "1.5.0",
          "state": {
            "_dom_classes": [],
            "_model_module": "@jupyter-widgets/controls",
            "_model_module_version": "1.5.0",
            "_model_name": "HTMLModel",
            "_view_count": null,
            "_view_module": "@jupyter-widgets/controls",
            "_view_module_version": "1.5.0",
            "_view_name": "HTMLView",
            "description": "",
            "description_tooltip": null,
            "layout": "IPY_MODEL_d036b97f0daf40c1b2cecc63b8d2e3b7",
            "placeholder": "​",
            "style": "IPY_MODEL_1b09aede72964ec8920154b98ef6e876",
            "value": " 1584/1584 [00:03&lt;00:00, 521.57it/s]"
          }
        },
        "a3086c88854749b4825988876352199c": {
          "model_module": "@jupyter-widgets/base",
          "model_name": "LayoutModel",
          "model_module_version": "1.2.0",
          "state": {
            "_model_module": "@jupyter-widgets/base",
            "_model_module_version": "1.2.0",
            "_model_name": "LayoutModel",
            "_view_count": null,
            "_view_module": "@jupyter-widgets/base",
            "_view_module_version": "1.2.0",
            "_view_name": "LayoutView",
            "align_content": null,
            "align_items": null,
            "align_self": null,
            "border": null,
            "bottom": null,
            "display": null,
            "flex": null,
            "flex_flow": null,
            "grid_area": null,
            "grid_auto_columns": null,
            "grid_auto_flow": null,
            "grid_auto_rows": null,
            "grid_column": null,
            "grid_gap": null,
            "grid_row": null,
            "grid_template_areas": null,
            "grid_template_columns": null,
            "grid_template_rows": null,
            "height": null,
            "justify_content": null,
            "justify_items": null,
            "left": null,
            "margin": null,
            "max_height": null,
            "max_width": null,
            "min_height": null,
            "min_width": null,
            "object_fit": null,
            "object_position": null,
            "order": null,
            "overflow": null,
            "overflow_x": null,
            "overflow_y": null,
            "padding": null,
            "right": null,
            "top": null,
            "visibility": null,
            "width": null
          }
        },
        "8c494e67238f4e379c6c3191b09a1622": {
          "model_module": "@jupyter-widgets/base",
          "model_name": "LayoutModel",
          "model_module_version": "1.2.0",
          "state": {
            "_model_module": "@jupyter-widgets/base",
            "_model_module_version": "1.2.0",
            "_model_name": "LayoutModel",
            "_view_count": null,
            "_view_module": "@jupyter-widgets/base",
            "_view_module_version": "1.2.0",
            "_view_name": "LayoutView",
            "align_content": null,
            "align_items": null,
            "align_self": null,
            "border": null,
            "bottom": null,
            "display": null,
            "flex": null,
            "flex_flow": null,
            "grid_area": null,
            "grid_auto_columns": null,
            "grid_auto_flow": null,
            "grid_auto_rows": null,
            "grid_column": null,
            "grid_gap": null,
            "grid_row": null,
            "grid_template_areas": null,
            "grid_template_columns": null,
            "grid_template_rows": null,
            "height": null,
            "justify_content": null,
            "justify_items": null,
            "left": null,
            "margin": null,
            "max_height": null,
            "max_width": null,
            "min_height": null,
            "min_width": null,
            "object_fit": null,
            "object_position": null,
            "order": null,
            "overflow": null,
            "overflow_x": null,
            "overflow_y": null,
            "padding": null,
            "right": null,
            "top": null,
            "visibility": null,
            "width": null
          }
        },
        "d96a24d94cfc4d6fbaf9d3a3ef8bc1af": {
          "model_module": "@jupyter-widgets/controls",
          "model_name": "DescriptionStyleModel",
          "model_module_version": "1.5.0",
          "state": {
            "_model_module": "@jupyter-widgets/controls",
            "_model_module_version": "1.5.0",
            "_model_name": "DescriptionStyleModel",
            "_view_count": null,
            "_view_module": "@jupyter-widgets/base",
            "_view_module_version": "1.2.0",
            "_view_name": "StyleView",
            "description_width": ""
          }
        },
        "51c6bfb5bdfa4303b196306e77bec75e": {
          "model_module": "@jupyter-widgets/base",
          "model_name": "LayoutModel",
          "model_module_version": "1.2.0",
          "state": {
            "_model_module": "@jupyter-widgets/base",
            "_model_module_version": "1.2.0",
            "_model_name": "LayoutModel",
            "_view_count": null,
            "_view_module": "@jupyter-widgets/base",
            "_view_module_version": "1.2.0",
            "_view_name": "LayoutView",
            "align_content": null,
            "align_items": null,
            "align_self": null,
            "border": null,
            "bottom": null,
            "display": null,
            "flex": null,
            "flex_flow": null,
            "grid_area": null,
            "grid_auto_columns": null,
            "grid_auto_flow": null,
            "grid_auto_rows": null,
            "grid_column": null,
            "grid_gap": null,
            "grid_row": null,
            "grid_template_areas": null,
            "grid_template_columns": null,
            "grid_template_rows": null,
            "height": null,
            "justify_content": null,
            "justify_items": null,
            "left": null,
            "margin": null,
            "max_height": null,
            "max_width": null,
            "min_height": null,
            "min_width": null,
            "object_fit": null,
            "object_position": null,
            "order": null,
            "overflow": null,
            "overflow_x": null,
            "overflow_y": null,
            "padding": null,
            "right": null,
            "top": null,
            "visibility": null,
            "width": null
          }
        },
        "12fc7ac43ae04809ae598afb8f2753a4": {
          "model_module": "@jupyter-widgets/controls",
          "model_name": "ProgressStyleModel",
          "model_module_version": "1.5.0",
          "state": {
            "_model_module": "@jupyter-widgets/controls",
            "_model_module_version": "1.5.0",
            "_model_name": "ProgressStyleModel",
            "_view_count": null,
            "_view_module": "@jupyter-widgets/base",
            "_view_module_version": "1.2.0",
            "_view_name": "StyleView",
            "bar_color": null,
            "description_width": ""
          }
        },
        "d036b97f0daf40c1b2cecc63b8d2e3b7": {
          "model_module": "@jupyter-widgets/base",
          "model_name": "LayoutModel",
          "model_module_version": "1.2.0",
          "state": {
            "_model_module": "@jupyter-widgets/base",
            "_model_module_version": "1.2.0",
            "_model_name": "LayoutModel",
            "_view_count": null,
            "_view_module": "@jupyter-widgets/base",
            "_view_module_version": "1.2.0",
            "_view_name": "LayoutView",
            "align_content": null,
            "align_items": null,
            "align_self": null,
            "border": null,
            "bottom": null,
            "display": null,
            "flex": null,
            "flex_flow": null,
            "grid_area": null,
            "grid_auto_columns": null,
            "grid_auto_flow": null,
            "grid_auto_rows": null,
            "grid_column": null,
            "grid_gap": null,
            "grid_row": null,
            "grid_template_areas": null,
            "grid_template_columns": null,
            "grid_template_rows": null,
            "height": null,
            "justify_content": null,
            "justify_items": null,
            "left": null,
            "margin": null,
            "max_height": null,
            "max_width": null,
            "min_height": null,
            "min_width": null,
            "object_fit": null,
            "object_position": null,
            "order": null,
            "overflow": null,
            "overflow_x": null,
            "overflow_y": null,
            "padding": null,
            "right": null,
            "top": null,
            "visibility": null,
            "width": null
          }
        },
        "1b09aede72964ec8920154b98ef6e876": {
          "model_module": "@jupyter-widgets/controls",
          "model_name": "DescriptionStyleModel",
          "model_module_version": "1.5.0",
          "state": {
            "_model_module": "@jupyter-widgets/controls",
            "_model_module_version": "1.5.0",
            "_model_name": "DescriptionStyleModel",
            "_view_count": null,
            "_view_module": "@jupyter-widgets/base",
            "_view_module_version": "1.2.0",
            "_view_name": "StyleView",
            "description_width": ""
          }
        },
        "8b0d164bda5a4e3cba6aa0d380e1a725": {
          "model_module": "@jupyter-widgets/controls",
          "model_name": "HBoxModel",
          "model_module_version": "1.5.0",
          "state": {
            "_dom_classes": [],
            "_model_module": "@jupyter-widgets/controls",
            "_model_module_version": "1.5.0",
            "_model_name": "HBoxModel",
            "_view_count": null,
            "_view_module": "@jupyter-widgets/controls",
            "_view_module_version": "1.5.0",
            "_view_name": "HBoxView",
            "box_style": "",
            "children": [
              "IPY_MODEL_e92fa5d85198472cb85d9c39c307d9c7",
              "IPY_MODEL_1a9abbc03edf49a6900664bd5ba56ead",
              "IPY_MODEL_50aef16acdf24d2ebc736b66aff4982b"
            ],
            "layout": "IPY_MODEL_0b2e3a5fd5d24bcf8cfec1bae0647e38"
          }
        },
        "e92fa5d85198472cb85d9c39c307d9c7": {
          "model_module": "@jupyter-widgets/controls",
          "model_name": "HTMLModel",
          "model_module_version": "1.5.0",
          "state": {
            "_dom_classes": [],
            "_model_module": "@jupyter-widgets/controls",
            "_model_module_version": "1.5.0",
            "_model_name": "HTMLModel",
            "_view_count": null,
            "_view_module": "@jupyter-widgets/controls",
            "_view_module_version": "1.5.0",
            "_view_name": "HTMLView",
            "description": "",
            "description_tooltip": null,
            "layout": "IPY_MODEL_3ac5e2e6b8cc4dc1bd0857aec1ac5f98",
            "placeholder": "​",
            "style": "IPY_MODEL_504865ef118748ae80bd1f034a0cfc75",
            "value": "100%"
          }
        },
        "1a9abbc03edf49a6900664bd5ba56ead": {
          "model_module": "@jupyter-widgets/controls",
          "model_name": "FloatProgressModel",
          "model_module_version": "1.5.0",
          "state": {
            "_dom_classes": [],
            "_model_module": "@jupyter-widgets/controls",
            "_model_module_version": "1.5.0",
            "_model_name": "FloatProgressModel",
            "_view_count": null,
            "_view_module": "@jupyter-widgets/controls",
            "_view_module_version": "1.5.0",
            "_view_name": "ProgressView",
            "bar_style": "success",
            "description": "",
            "description_tooltip": null,
            "layout": "IPY_MODEL_6f9613c83990421ab9c109b1e428e065",
            "max": 1584,
            "min": 0,
            "orientation": "horizontal",
            "style": "IPY_MODEL_fe83e1c1032f4a4ea1c7a86c98643fa7",
            "value": 1584
          }
        },
        "50aef16acdf24d2ebc736b66aff4982b": {
          "model_module": "@jupyter-widgets/controls",
          "model_name": "HTMLModel",
          "model_module_version": "1.5.0",
          "state": {
            "_dom_classes": [],
            "_model_module": "@jupyter-widgets/controls",
            "_model_module_version": "1.5.0",
            "_model_name": "HTMLModel",
            "_view_count": null,
            "_view_module": "@jupyter-widgets/controls",
            "_view_module_version": "1.5.0",
            "_view_name": "HTMLView",
            "description": "",
            "description_tooltip": null,
            "layout": "IPY_MODEL_2384c02b873743bfa9a97b8bcc5fd97f",
            "placeholder": "​",
            "style": "IPY_MODEL_f734657893f04637bfed2909cbc8d36b",
            "value": " 1584/1584 [00:03&lt;00:00, 482.62it/s]"
          }
        },
        "0b2e3a5fd5d24bcf8cfec1bae0647e38": {
          "model_module": "@jupyter-widgets/base",
          "model_name": "LayoutModel",
          "model_module_version": "1.2.0",
          "state": {
            "_model_module": "@jupyter-widgets/base",
            "_model_module_version": "1.2.0",
            "_model_name": "LayoutModel",
            "_view_count": null,
            "_view_module": "@jupyter-widgets/base",
            "_view_module_version": "1.2.0",
            "_view_name": "LayoutView",
            "align_content": null,
            "align_items": null,
            "align_self": null,
            "border": null,
            "bottom": null,
            "display": null,
            "flex": null,
            "flex_flow": null,
            "grid_area": null,
            "grid_auto_columns": null,
            "grid_auto_flow": null,
            "grid_auto_rows": null,
            "grid_column": null,
            "grid_gap": null,
            "grid_row": null,
            "grid_template_areas": null,
            "grid_template_columns": null,
            "grid_template_rows": null,
            "height": null,
            "justify_content": null,
            "justify_items": null,
            "left": null,
            "margin": null,
            "max_height": null,
            "max_width": null,
            "min_height": null,
            "min_width": null,
            "object_fit": null,
            "object_position": null,
            "order": null,
            "overflow": null,
            "overflow_x": null,
            "overflow_y": null,
            "padding": null,
            "right": null,
            "top": null,
            "visibility": null,
            "width": null
          }
        },
        "3ac5e2e6b8cc4dc1bd0857aec1ac5f98": {
          "model_module": "@jupyter-widgets/base",
          "model_name": "LayoutModel",
          "model_module_version": "1.2.0",
          "state": {
            "_model_module": "@jupyter-widgets/base",
            "_model_module_version": "1.2.0",
            "_model_name": "LayoutModel",
            "_view_count": null,
            "_view_module": "@jupyter-widgets/base",
            "_view_module_version": "1.2.0",
            "_view_name": "LayoutView",
            "align_content": null,
            "align_items": null,
            "align_self": null,
            "border": null,
            "bottom": null,
            "display": null,
            "flex": null,
            "flex_flow": null,
            "grid_area": null,
            "grid_auto_columns": null,
            "grid_auto_flow": null,
            "grid_auto_rows": null,
            "grid_column": null,
            "grid_gap": null,
            "grid_row": null,
            "grid_template_areas": null,
            "grid_template_columns": null,
            "grid_template_rows": null,
            "height": null,
            "justify_content": null,
            "justify_items": null,
            "left": null,
            "margin": null,
            "max_height": null,
            "max_width": null,
            "min_height": null,
            "min_width": null,
            "object_fit": null,
            "object_position": null,
            "order": null,
            "overflow": null,
            "overflow_x": null,
            "overflow_y": null,
            "padding": null,
            "right": null,
            "top": null,
            "visibility": null,
            "width": null
          }
        },
        "504865ef118748ae80bd1f034a0cfc75": {
          "model_module": "@jupyter-widgets/controls",
          "model_name": "DescriptionStyleModel",
          "model_module_version": "1.5.0",
          "state": {
            "_model_module": "@jupyter-widgets/controls",
            "_model_module_version": "1.5.0",
            "_model_name": "DescriptionStyleModel",
            "_view_count": null,
            "_view_module": "@jupyter-widgets/base",
            "_view_module_version": "1.2.0",
            "_view_name": "StyleView",
            "description_width": ""
          }
        },
        "6f9613c83990421ab9c109b1e428e065": {
          "model_module": "@jupyter-widgets/base",
          "model_name": "LayoutModel",
          "model_module_version": "1.2.0",
          "state": {
            "_model_module": "@jupyter-widgets/base",
            "_model_module_version": "1.2.0",
            "_model_name": "LayoutModel",
            "_view_count": null,
            "_view_module": "@jupyter-widgets/base",
            "_view_module_version": "1.2.0",
            "_view_name": "LayoutView",
            "align_content": null,
            "align_items": null,
            "align_self": null,
            "border": null,
            "bottom": null,
            "display": null,
            "flex": null,
            "flex_flow": null,
            "grid_area": null,
            "grid_auto_columns": null,
            "grid_auto_flow": null,
            "grid_auto_rows": null,
            "grid_column": null,
            "grid_gap": null,
            "grid_row": null,
            "grid_template_areas": null,
            "grid_template_columns": null,
            "grid_template_rows": null,
            "height": null,
            "justify_content": null,
            "justify_items": null,
            "left": null,
            "margin": null,
            "max_height": null,
            "max_width": null,
            "min_height": null,
            "min_width": null,
            "object_fit": null,
            "object_position": null,
            "order": null,
            "overflow": null,
            "overflow_x": null,
            "overflow_y": null,
            "padding": null,
            "right": null,
            "top": null,
            "visibility": null,
            "width": null
          }
        },
        "fe83e1c1032f4a4ea1c7a86c98643fa7": {
          "model_module": "@jupyter-widgets/controls",
          "model_name": "ProgressStyleModel",
          "model_module_version": "1.5.0",
          "state": {
            "_model_module": "@jupyter-widgets/controls",
            "_model_module_version": "1.5.0",
            "_model_name": "ProgressStyleModel",
            "_view_count": null,
            "_view_module": "@jupyter-widgets/base",
            "_view_module_version": "1.2.0",
            "_view_name": "StyleView",
            "bar_color": null,
            "description_width": ""
          }
        },
        "2384c02b873743bfa9a97b8bcc5fd97f": {
          "model_module": "@jupyter-widgets/base",
          "model_name": "LayoutModel",
          "model_module_version": "1.2.0",
          "state": {
            "_model_module": "@jupyter-widgets/base",
            "_model_module_version": "1.2.0",
            "_model_name": "LayoutModel",
            "_view_count": null,
            "_view_module": "@jupyter-widgets/base",
            "_view_module_version": "1.2.0",
            "_view_name": "LayoutView",
            "align_content": null,
            "align_items": null,
            "align_self": null,
            "border": null,
            "bottom": null,
            "display": null,
            "flex": null,
            "flex_flow": null,
            "grid_area": null,
            "grid_auto_columns": null,
            "grid_auto_flow": null,
            "grid_auto_rows": null,
            "grid_column": null,
            "grid_gap": null,
            "grid_row": null,
            "grid_template_areas": null,
            "grid_template_columns": null,
            "grid_template_rows": null,
            "height": null,
            "justify_content": null,
            "justify_items": null,
            "left": null,
            "margin": null,
            "max_height": null,
            "max_width": null,
            "min_height": null,
            "min_width": null,
            "object_fit": null,
            "object_position": null,
            "order": null,
            "overflow": null,
            "overflow_x": null,
            "overflow_y": null,
            "padding": null,
            "right": null,
            "top": null,
            "visibility": null,
            "width": null
          }
        },
        "f734657893f04637bfed2909cbc8d36b": {
          "model_module": "@jupyter-widgets/controls",
          "model_name": "DescriptionStyleModel",
          "model_module_version": "1.5.0",
          "state": {
            "_model_module": "@jupyter-widgets/controls",
            "_model_module_version": "1.5.0",
            "_model_name": "DescriptionStyleModel",
            "_view_count": null,
            "_view_module": "@jupyter-widgets/base",
            "_view_module_version": "1.2.0",
            "_view_name": "StyleView",
            "description_width": ""
          }
        },
        "da8b01be86e14e9eb28462a35dbaab9c": {
          "model_module": "@jupyter-widgets/controls",
          "model_name": "HBoxModel",
          "model_module_version": "1.5.0",
          "state": {
            "_dom_classes": [],
            "_model_module": "@jupyter-widgets/controls",
            "_model_module_version": "1.5.0",
            "_model_name": "HBoxModel",
            "_view_count": null,
            "_view_module": "@jupyter-widgets/controls",
            "_view_module_version": "1.5.0",
            "_view_name": "HBoxView",
            "box_style": "",
            "children": [
              "IPY_MODEL_208aed65b73d4d2f93be4c8560f89daa",
              "IPY_MODEL_aaabfb12f89045c9bff5feec041afa40",
              "IPY_MODEL_b7c58d6de6874aed9dbba1e023628c7b"
            ],
            "layout": "IPY_MODEL_f5429e793a9044939b18abc84f9ac276"
          }
        },
        "208aed65b73d4d2f93be4c8560f89daa": {
          "model_module": "@jupyter-widgets/controls",
          "model_name": "HTMLModel",
          "model_module_version": "1.5.0",
          "state": {
            "_dom_classes": [],
            "_model_module": "@jupyter-widgets/controls",
            "_model_module_version": "1.5.0",
            "_model_name": "HTMLModel",
            "_view_count": null,
            "_view_module": "@jupyter-widgets/controls",
            "_view_module_version": "1.5.0",
            "_view_name": "HTMLView",
            "description": "",
            "description_tooltip": null,
            "layout": "IPY_MODEL_9cad6aaa7d3649afbbbbac77ee5a3d31",
            "placeholder": "​",
            "style": "IPY_MODEL_796e12a30f1e4d0b8cb74543f3844148",
            "value": "100%"
          }
        },
        "aaabfb12f89045c9bff5feec041afa40": {
          "model_module": "@jupyter-widgets/controls",
          "model_name": "FloatProgressModel",
          "model_module_version": "1.5.0",
          "state": {
            "_dom_classes": [],
            "_model_module": "@jupyter-widgets/controls",
            "_model_module_version": "1.5.0",
            "_model_name": "FloatProgressModel",
            "_view_count": null,
            "_view_module": "@jupyter-widgets/controls",
            "_view_module_version": "1.5.0",
            "_view_name": "ProgressView",
            "bar_style": "success",
            "description": "",
            "description_tooltip": null,
            "layout": "IPY_MODEL_a04c01048f0d43799a136a7fd62aa9d6",
            "max": 1584,
            "min": 0,
            "orientation": "horizontal",
            "style": "IPY_MODEL_64972c13fcd7493793c1d365ca75c249",
            "value": 1584
          }
        },
        "b7c58d6de6874aed9dbba1e023628c7b": {
          "model_module": "@jupyter-widgets/controls",
          "model_name": "HTMLModel",
          "model_module_version": "1.5.0",
          "state": {
            "_dom_classes": [],
            "_model_module": "@jupyter-widgets/controls",
            "_model_module_version": "1.5.0",
            "_model_name": "HTMLModel",
            "_view_count": null,
            "_view_module": "@jupyter-widgets/controls",
            "_view_module_version": "1.5.0",
            "_view_name": "HTMLView",
            "description": "",
            "description_tooltip": null,
            "layout": "IPY_MODEL_8359e7a74bfe45b388898f006f57f586",
            "placeholder": "​",
            "style": "IPY_MODEL_c2f71f3df5a3473585c201f65f955559",
            "value": " 1584/1584 [00:00&lt;00:00, 2562.54it/s]"
          }
        },
        "f5429e793a9044939b18abc84f9ac276": {
          "model_module": "@jupyter-widgets/base",
          "model_name": "LayoutModel",
          "model_module_version": "1.2.0",
          "state": {
            "_model_module": "@jupyter-widgets/base",
            "_model_module_version": "1.2.0",
            "_model_name": "LayoutModel",
            "_view_count": null,
            "_view_module": "@jupyter-widgets/base",
            "_view_module_version": "1.2.0",
            "_view_name": "LayoutView",
            "align_content": null,
            "align_items": null,
            "align_self": null,
            "border": null,
            "bottom": null,
            "display": null,
            "flex": null,
            "flex_flow": null,
            "grid_area": null,
            "grid_auto_columns": null,
            "grid_auto_flow": null,
            "grid_auto_rows": null,
            "grid_column": null,
            "grid_gap": null,
            "grid_row": null,
            "grid_template_areas": null,
            "grid_template_columns": null,
            "grid_template_rows": null,
            "height": null,
            "justify_content": null,
            "justify_items": null,
            "left": null,
            "margin": null,
            "max_height": null,
            "max_width": null,
            "min_height": null,
            "min_width": null,
            "object_fit": null,
            "object_position": null,
            "order": null,
            "overflow": null,
            "overflow_x": null,
            "overflow_y": null,
            "padding": null,
            "right": null,
            "top": null,
            "visibility": null,
            "width": null
          }
        },
        "9cad6aaa7d3649afbbbbac77ee5a3d31": {
          "model_module": "@jupyter-widgets/base",
          "model_name": "LayoutModel",
          "model_module_version": "1.2.0",
          "state": {
            "_model_module": "@jupyter-widgets/base",
            "_model_module_version": "1.2.0",
            "_model_name": "LayoutModel",
            "_view_count": null,
            "_view_module": "@jupyter-widgets/base",
            "_view_module_version": "1.2.0",
            "_view_name": "LayoutView",
            "align_content": null,
            "align_items": null,
            "align_self": null,
            "border": null,
            "bottom": null,
            "display": null,
            "flex": null,
            "flex_flow": null,
            "grid_area": null,
            "grid_auto_columns": null,
            "grid_auto_flow": null,
            "grid_auto_rows": null,
            "grid_column": null,
            "grid_gap": null,
            "grid_row": null,
            "grid_template_areas": null,
            "grid_template_columns": null,
            "grid_template_rows": null,
            "height": null,
            "justify_content": null,
            "justify_items": null,
            "left": null,
            "margin": null,
            "max_height": null,
            "max_width": null,
            "min_height": null,
            "min_width": null,
            "object_fit": null,
            "object_position": null,
            "order": null,
            "overflow": null,
            "overflow_x": null,
            "overflow_y": null,
            "padding": null,
            "right": null,
            "top": null,
            "visibility": null,
            "width": null
          }
        },
        "796e12a30f1e4d0b8cb74543f3844148": {
          "model_module": "@jupyter-widgets/controls",
          "model_name": "DescriptionStyleModel",
          "model_module_version": "1.5.0",
          "state": {
            "_model_module": "@jupyter-widgets/controls",
            "_model_module_version": "1.5.0",
            "_model_name": "DescriptionStyleModel",
            "_view_count": null,
            "_view_module": "@jupyter-widgets/base",
            "_view_module_version": "1.2.0",
            "_view_name": "StyleView",
            "description_width": ""
          }
        },
        "a04c01048f0d43799a136a7fd62aa9d6": {
          "model_module": "@jupyter-widgets/base",
          "model_name": "LayoutModel",
          "model_module_version": "1.2.0",
          "state": {
            "_model_module": "@jupyter-widgets/base",
            "_model_module_version": "1.2.0",
            "_model_name": "LayoutModel",
            "_view_count": null,
            "_view_module": "@jupyter-widgets/base",
            "_view_module_version": "1.2.0",
            "_view_name": "LayoutView",
            "align_content": null,
            "align_items": null,
            "align_self": null,
            "border": null,
            "bottom": null,
            "display": null,
            "flex": null,
            "flex_flow": null,
            "grid_area": null,
            "grid_auto_columns": null,
            "grid_auto_flow": null,
            "grid_auto_rows": null,
            "grid_column": null,
            "grid_gap": null,
            "grid_row": null,
            "grid_template_areas": null,
            "grid_template_columns": null,
            "grid_template_rows": null,
            "height": null,
            "justify_content": null,
            "justify_items": null,
            "left": null,
            "margin": null,
            "max_height": null,
            "max_width": null,
            "min_height": null,
            "min_width": null,
            "object_fit": null,
            "object_position": null,
            "order": null,
            "overflow": null,
            "overflow_x": null,
            "overflow_y": null,
            "padding": null,
            "right": null,
            "top": null,
            "visibility": null,
            "width": null
          }
        },
        "64972c13fcd7493793c1d365ca75c249": {
          "model_module": "@jupyter-widgets/controls",
          "model_name": "ProgressStyleModel",
          "model_module_version": "1.5.0",
          "state": {
            "_model_module": "@jupyter-widgets/controls",
            "_model_module_version": "1.5.0",
            "_model_name": "ProgressStyleModel",
            "_view_count": null,
            "_view_module": "@jupyter-widgets/base",
            "_view_module_version": "1.2.0",
            "_view_name": "StyleView",
            "bar_color": null,
            "description_width": ""
          }
        },
        "8359e7a74bfe45b388898f006f57f586": {
          "model_module": "@jupyter-widgets/base",
          "model_name": "LayoutModel",
          "model_module_version": "1.2.0",
          "state": {
            "_model_module": "@jupyter-widgets/base",
            "_model_module_version": "1.2.0",
            "_model_name": "LayoutModel",
            "_view_count": null,
            "_view_module": "@jupyter-widgets/base",
            "_view_module_version": "1.2.0",
            "_view_name": "LayoutView",
            "align_content": null,
            "align_items": null,
            "align_self": null,
            "border": null,
            "bottom": null,
            "display": null,
            "flex": null,
            "flex_flow": null,
            "grid_area": null,
            "grid_auto_columns": null,
            "grid_auto_flow": null,
            "grid_auto_rows": null,
            "grid_column": null,
            "grid_gap": null,
            "grid_row": null,
            "grid_template_areas": null,
            "grid_template_columns": null,
            "grid_template_rows": null,
            "height": null,
            "justify_content": null,
            "justify_items": null,
            "left": null,
            "margin": null,
            "max_height": null,
            "max_width": null,
            "min_height": null,
            "min_width": null,
            "object_fit": null,
            "object_position": null,
            "order": null,
            "overflow": null,
            "overflow_x": null,
            "overflow_y": null,
            "padding": null,
            "right": null,
            "top": null,
            "visibility": null,
            "width": null
          }
        },
        "c2f71f3df5a3473585c201f65f955559": {
          "model_module": "@jupyter-widgets/controls",
          "model_name": "DescriptionStyleModel",
          "model_module_version": "1.5.0",
          "state": {
            "_model_module": "@jupyter-widgets/controls",
            "_model_module_version": "1.5.0",
            "_model_name": "DescriptionStyleModel",
            "_view_count": null,
            "_view_module": "@jupyter-widgets/base",
            "_view_module_version": "1.2.0",
            "_view_name": "StyleView",
            "description_width": ""
          }
        },
        "2a23b3c5dd5b483ab7da6cf7b3d11306": {
          "model_module": "@jupyter-widgets/controls",
          "model_name": "HBoxModel",
          "model_module_version": "1.5.0",
          "state": {
            "_dom_classes": [],
            "_model_module": "@jupyter-widgets/controls",
            "_model_module_version": "1.5.0",
            "_model_name": "HBoxModel",
            "_view_count": null,
            "_view_module": "@jupyter-widgets/controls",
            "_view_module_version": "1.5.0",
            "_view_name": "HBoxView",
            "box_style": "",
            "children": [
              "IPY_MODEL_315ea94519b74d9f8f4b798e73aae4c3",
              "IPY_MODEL_f409d98cf78844bdba968608a6e9e73d",
              "IPY_MODEL_2dae1a449b474509b53ff643ae666f34"
            ],
            "layout": "IPY_MODEL_f82e460d6f274d50850b65c83a1ba594"
          }
        },
        "315ea94519b74d9f8f4b798e73aae4c3": {
          "model_module": "@jupyter-widgets/controls",
          "model_name": "HTMLModel",
          "model_module_version": "1.5.0",
          "state": {
            "_dom_classes": [],
            "_model_module": "@jupyter-widgets/controls",
            "_model_module_version": "1.5.0",
            "_model_name": "HTMLModel",
            "_view_count": null,
            "_view_module": "@jupyter-widgets/controls",
            "_view_module_version": "1.5.0",
            "_view_name": "HTMLView",
            "description": "",
            "description_tooltip": null,
            "layout": "IPY_MODEL_d60b9305bd704b46aea2c18cd6b04baa",
            "placeholder": "​",
            "style": "IPY_MODEL_73d99a82ade24b6e8d49c38ef08abae1",
            "value": "100%"
          }
        },
        "f409d98cf78844bdba968608a6e9e73d": {
          "model_module": "@jupyter-widgets/controls",
          "model_name": "FloatProgressModel",
          "model_module_version": "1.5.0",
          "state": {
            "_dom_classes": [],
            "_model_module": "@jupyter-widgets/controls",
            "_model_module_version": "1.5.0",
            "_model_name": "FloatProgressModel",
            "_view_count": null,
            "_view_module": "@jupyter-widgets/controls",
            "_view_module_version": "1.5.0",
            "_view_name": "ProgressView",
            "bar_style": "success",
            "description": "",
            "description_tooltip": null,
            "layout": "IPY_MODEL_97255551c0bb4b2d8e345359f191d282",
            "max": 1584,
            "min": 0,
            "orientation": "horizontal",
            "style": "IPY_MODEL_7e4901c8db294ed6a41e89618baf880b",
            "value": 1584
          }
        },
        "2dae1a449b474509b53ff643ae666f34": {
          "model_module": "@jupyter-widgets/controls",
          "model_name": "HTMLModel",
          "model_module_version": "1.5.0",
          "state": {
            "_dom_classes": [],
            "_model_module": "@jupyter-widgets/controls",
            "_model_module_version": "1.5.0",
            "_model_name": "HTMLModel",
            "_view_count": null,
            "_view_module": "@jupyter-widgets/controls",
            "_view_module_version": "1.5.0",
            "_view_name": "HTMLView",
            "description": "",
            "description_tooltip": null,
            "layout": "IPY_MODEL_b7011581177043d598086514749fb41b",
            "placeholder": "​",
            "style": "IPY_MODEL_12d6022bd8564d01b6f8639fa3591e68",
            "value": " 1584/1584 [00:05&lt;00:00, 1407.42it/s]"
          }
        },
        "f82e460d6f274d50850b65c83a1ba594": {
          "model_module": "@jupyter-widgets/base",
          "model_name": "LayoutModel",
          "model_module_version": "1.2.0",
          "state": {
            "_model_module": "@jupyter-widgets/base",
            "_model_module_version": "1.2.0",
            "_model_name": "LayoutModel",
            "_view_count": null,
            "_view_module": "@jupyter-widgets/base",
            "_view_module_version": "1.2.0",
            "_view_name": "LayoutView",
            "align_content": null,
            "align_items": null,
            "align_self": null,
            "border": null,
            "bottom": null,
            "display": null,
            "flex": null,
            "flex_flow": null,
            "grid_area": null,
            "grid_auto_columns": null,
            "grid_auto_flow": null,
            "grid_auto_rows": null,
            "grid_column": null,
            "grid_gap": null,
            "grid_row": null,
            "grid_template_areas": null,
            "grid_template_columns": null,
            "grid_template_rows": null,
            "height": null,
            "justify_content": null,
            "justify_items": null,
            "left": null,
            "margin": null,
            "max_height": null,
            "max_width": null,
            "min_height": null,
            "min_width": null,
            "object_fit": null,
            "object_position": null,
            "order": null,
            "overflow": null,
            "overflow_x": null,
            "overflow_y": null,
            "padding": null,
            "right": null,
            "top": null,
            "visibility": null,
            "width": null
          }
        },
        "d60b9305bd704b46aea2c18cd6b04baa": {
          "model_module": "@jupyter-widgets/base",
          "model_name": "LayoutModel",
          "model_module_version": "1.2.0",
          "state": {
            "_model_module": "@jupyter-widgets/base",
            "_model_module_version": "1.2.0",
            "_model_name": "LayoutModel",
            "_view_count": null,
            "_view_module": "@jupyter-widgets/base",
            "_view_module_version": "1.2.0",
            "_view_name": "LayoutView",
            "align_content": null,
            "align_items": null,
            "align_self": null,
            "border": null,
            "bottom": null,
            "display": null,
            "flex": null,
            "flex_flow": null,
            "grid_area": null,
            "grid_auto_columns": null,
            "grid_auto_flow": null,
            "grid_auto_rows": null,
            "grid_column": null,
            "grid_gap": null,
            "grid_row": null,
            "grid_template_areas": null,
            "grid_template_columns": null,
            "grid_template_rows": null,
            "height": null,
            "justify_content": null,
            "justify_items": null,
            "left": null,
            "margin": null,
            "max_height": null,
            "max_width": null,
            "min_height": null,
            "min_width": null,
            "object_fit": null,
            "object_position": null,
            "order": null,
            "overflow": null,
            "overflow_x": null,
            "overflow_y": null,
            "padding": null,
            "right": null,
            "top": null,
            "visibility": null,
            "width": null
          }
        },
        "73d99a82ade24b6e8d49c38ef08abae1": {
          "model_module": "@jupyter-widgets/controls",
          "model_name": "DescriptionStyleModel",
          "model_module_version": "1.5.0",
          "state": {
            "_model_module": "@jupyter-widgets/controls",
            "_model_module_version": "1.5.0",
            "_model_name": "DescriptionStyleModel",
            "_view_count": null,
            "_view_module": "@jupyter-widgets/base",
            "_view_module_version": "1.2.0",
            "_view_name": "StyleView",
            "description_width": ""
          }
        },
        "97255551c0bb4b2d8e345359f191d282": {
          "model_module": "@jupyter-widgets/base",
          "model_name": "LayoutModel",
          "model_module_version": "1.2.0",
          "state": {
            "_model_module": "@jupyter-widgets/base",
            "_model_module_version": "1.2.0",
            "_model_name": "LayoutModel",
            "_view_count": null,
            "_view_module": "@jupyter-widgets/base",
            "_view_module_version": "1.2.0",
            "_view_name": "LayoutView",
            "align_content": null,
            "align_items": null,
            "align_self": null,
            "border": null,
            "bottom": null,
            "display": null,
            "flex": null,
            "flex_flow": null,
            "grid_area": null,
            "grid_auto_columns": null,
            "grid_auto_flow": null,
            "grid_auto_rows": null,
            "grid_column": null,
            "grid_gap": null,
            "grid_row": null,
            "grid_template_areas": null,
            "grid_template_columns": null,
            "grid_template_rows": null,
            "height": null,
            "justify_content": null,
            "justify_items": null,
            "left": null,
            "margin": null,
            "max_height": null,
            "max_width": null,
            "min_height": null,
            "min_width": null,
            "object_fit": null,
            "object_position": null,
            "order": null,
            "overflow": null,
            "overflow_x": null,
            "overflow_y": null,
            "padding": null,
            "right": null,
            "top": null,
            "visibility": null,
            "width": null
          }
        },
        "7e4901c8db294ed6a41e89618baf880b": {
          "model_module": "@jupyter-widgets/controls",
          "model_name": "ProgressStyleModel",
          "model_module_version": "1.5.0",
          "state": {
            "_model_module": "@jupyter-widgets/controls",
            "_model_module_version": "1.5.0",
            "_model_name": "ProgressStyleModel",
            "_view_count": null,
            "_view_module": "@jupyter-widgets/base",
            "_view_module_version": "1.2.0",
            "_view_name": "StyleView",
            "bar_color": null,
            "description_width": ""
          }
        },
        "b7011581177043d598086514749fb41b": {
          "model_module": "@jupyter-widgets/base",
          "model_name": "LayoutModel",
          "model_module_version": "1.2.0",
          "state": {
            "_model_module": "@jupyter-widgets/base",
            "_model_module_version": "1.2.0",
            "_model_name": "LayoutModel",
            "_view_count": null,
            "_view_module": "@jupyter-widgets/base",
            "_view_module_version": "1.2.0",
            "_view_name": "LayoutView",
            "align_content": null,
            "align_items": null,
            "align_self": null,
            "border": null,
            "bottom": null,
            "display": null,
            "flex": null,
            "flex_flow": null,
            "grid_area": null,
            "grid_auto_columns": null,
            "grid_auto_flow": null,
            "grid_auto_rows": null,
            "grid_column": null,
            "grid_gap": null,
            "grid_row": null,
            "grid_template_areas": null,
            "grid_template_columns": null,
            "grid_template_rows": null,
            "height": null,
            "justify_content": null,
            "justify_items": null,
            "left": null,
            "margin": null,
            "max_height": null,
            "max_width": null,
            "min_height": null,
            "min_width": null,
            "object_fit": null,
            "object_position": null,
            "order": null,
            "overflow": null,
            "overflow_x": null,
            "overflow_y": null,
            "padding": null,
            "right": null,
            "top": null,
            "visibility": null,
            "width": null
          }
        },
        "12d6022bd8564d01b6f8639fa3591e68": {
          "model_module": "@jupyter-widgets/controls",
          "model_name": "DescriptionStyleModel",
          "model_module_version": "1.5.0",
          "state": {
            "_model_module": "@jupyter-widgets/controls",
            "_model_module_version": "1.5.0",
            "_model_name": "DescriptionStyleModel",
            "_view_count": null,
            "_view_module": "@jupyter-widgets/base",
            "_view_module_version": "1.2.0",
            "_view_name": "StyleView",
            "description_width": ""
          }
        },
        "a7b03bbb01d04bf89b7e88c72d3bb0c5": {
          "model_module": "@jupyter-widgets/controls",
          "model_name": "HBoxModel",
          "model_module_version": "1.5.0",
          "state": {
            "_dom_classes": [],
            "_model_module": "@jupyter-widgets/controls",
            "_model_module_version": "1.5.0",
            "_model_name": "HBoxModel",
            "_view_count": null,
            "_view_module": "@jupyter-widgets/controls",
            "_view_module_version": "1.5.0",
            "_view_name": "HBoxView",
            "box_style": "",
            "children": [
              "IPY_MODEL_f8fb050d2d6a4b8d970f301a3fe41a1c",
              "IPY_MODEL_da00d842c13f4269b788dcedcebfcdc6",
              "IPY_MODEL_0412177223234e8b841dad9053082105"
            ],
            "layout": "IPY_MODEL_3ae0e81bc3d348f4ba82d538c15cddc0"
          }
        },
        "f8fb050d2d6a4b8d970f301a3fe41a1c": {
          "model_module": "@jupyter-widgets/controls",
          "model_name": "HTMLModel",
          "model_module_version": "1.5.0",
          "state": {
            "_dom_classes": [],
            "_model_module": "@jupyter-widgets/controls",
            "_model_module_version": "1.5.0",
            "_model_name": "HTMLModel",
            "_view_count": null,
            "_view_module": "@jupyter-widgets/controls",
            "_view_module_version": "1.5.0",
            "_view_name": "HTMLView",
            "description": "",
            "description_tooltip": null,
            "layout": "IPY_MODEL_5bf5e06cb62649f28cc02608a3a1e759",
            "placeholder": "​",
            "style": "IPY_MODEL_3f35a16c04914256a640b2f5938737f7",
            "value": "100%"
          }
        },
        "da00d842c13f4269b788dcedcebfcdc6": {
          "model_module": "@jupyter-widgets/controls",
          "model_name": "FloatProgressModel",
          "model_module_version": "1.5.0",
          "state": {
            "_dom_classes": [],
            "_model_module": "@jupyter-widgets/controls",
            "_model_module_version": "1.5.0",
            "_model_name": "FloatProgressModel",
            "_view_count": null,
            "_view_module": "@jupyter-widgets/controls",
            "_view_module_version": "1.5.0",
            "_view_name": "ProgressView",
            "bar_style": "success",
            "description": "",
            "description_tooltip": null,
            "layout": "IPY_MODEL_061f14e0019a4bc8a602cedf893e377f",
            "max": 190,
            "min": 0,
            "orientation": "horizontal",
            "style": "IPY_MODEL_7454819448be4a2e824b8555d32b4bf1",
            "value": 190
          }
        },
        "0412177223234e8b841dad9053082105": {
          "model_module": "@jupyter-widgets/controls",
          "model_name": "HTMLModel",
          "model_module_version": "1.5.0",
          "state": {
            "_dom_classes": [],
            "_model_module": "@jupyter-widgets/controls",
            "_model_module_version": "1.5.0",
            "_model_name": "HTMLModel",
            "_view_count": null,
            "_view_module": "@jupyter-widgets/controls",
            "_view_module_version": "1.5.0",
            "_view_name": "HTMLView",
            "description": "",
            "description_tooltip": null,
            "layout": "IPY_MODEL_a7f063d34ce344e39cc1b3a08fca8a31",
            "placeholder": "​",
            "style": "IPY_MODEL_f87fd1e014c84805b4e17cf67dab9462",
            "value": " 190/190 [01:10&lt;00:00,  3.39it/s]"
          }
        },
        "3ae0e81bc3d348f4ba82d538c15cddc0": {
          "model_module": "@jupyter-widgets/base",
          "model_name": "LayoutModel",
          "model_module_version": "1.2.0",
          "state": {
            "_model_module": "@jupyter-widgets/base",
            "_model_module_version": "1.2.0",
            "_model_name": "LayoutModel",
            "_view_count": null,
            "_view_module": "@jupyter-widgets/base",
            "_view_module_version": "1.2.0",
            "_view_name": "LayoutView",
            "align_content": null,
            "align_items": null,
            "align_self": null,
            "border": null,
            "bottom": null,
            "display": null,
            "flex": null,
            "flex_flow": null,
            "grid_area": null,
            "grid_auto_columns": null,
            "grid_auto_flow": null,
            "grid_auto_rows": null,
            "grid_column": null,
            "grid_gap": null,
            "grid_row": null,
            "grid_template_areas": null,
            "grid_template_columns": null,
            "grid_template_rows": null,
            "height": null,
            "justify_content": null,
            "justify_items": null,
            "left": null,
            "margin": null,
            "max_height": null,
            "max_width": null,
            "min_height": null,
            "min_width": null,
            "object_fit": null,
            "object_position": null,
            "order": null,
            "overflow": null,
            "overflow_x": null,
            "overflow_y": null,
            "padding": null,
            "right": null,
            "top": null,
            "visibility": null,
            "width": null
          }
        },
        "5bf5e06cb62649f28cc02608a3a1e759": {
          "model_module": "@jupyter-widgets/base",
          "model_name": "LayoutModel",
          "model_module_version": "1.2.0",
          "state": {
            "_model_module": "@jupyter-widgets/base",
            "_model_module_version": "1.2.0",
            "_model_name": "LayoutModel",
            "_view_count": null,
            "_view_module": "@jupyter-widgets/base",
            "_view_module_version": "1.2.0",
            "_view_name": "LayoutView",
            "align_content": null,
            "align_items": null,
            "align_self": null,
            "border": null,
            "bottom": null,
            "display": null,
            "flex": null,
            "flex_flow": null,
            "grid_area": null,
            "grid_auto_columns": null,
            "grid_auto_flow": null,
            "grid_auto_rows": null,
            "grid_column": null,
            "grid_gap": null,
            "grid_row": null,
            "grid_template_areas": null,
            "grid_template_columns": null,
            "grid_template_rows": null,
            "height": null,
            "justify_content": null,
            "justify_items": null,
            "left": null,
            "margin": null,
            "max_height": null,
            "max_width": null,
            "min_height": null,
            "min_width": null,
            "object_fit": null,
            "object_position": null,
            "order": null,
            "overflow": null,
            "overflow_x": null,
            "overflow_y": null,
            "padding": null,
            "right": null,
            "top": null,
            "visibility": null,
            "width": null
          }
        },
        "3f35a16c04914256a640b2f5938737f7": {
          "model_module": "@jupyter-widgets/controls",
          "model_name": "DescriptionStyleModel",
          "model_module_version": "1.5.0",
          "state": {
            "_model_module": "@jupyter-widgets/controls",
            "_model_module_version": "1.5.0",
            "_model_name": "DescriptionStyleModel",
            "_view_count": null,
            "_view_module": "@jupyter-widgets/base",
            "_view_module_version": "1.2.0",
            "_view_name": "StyleView",
            "description_width": ""
          }
        },
        "061f14e0019a4bc8a602cedf893e377f": {
          "model_module": "@jupyter-widgets/base",
          "model_name": "LayoutModel",
          "model_module_version": "1.2.0",
          "state": {
            "_model_module": "@jupyter-widgets/base",
            "_model_module_version": "1.2.0",
            "_model_name": "LayoutModel",
            "_view_count": null,
            "_view_module": "@jupyter-widgets/base",
            "_view_module_version": "1.2.0",
            "_view_name": "LayoutView",
            "align_content": null,
            "align_items": null,
            "align_self": null,
            "border": null,
            "bottom": null,
            "display": null,
            "flex": null,
            "flex_flow": null,
            "grid_area": null,
            "grid_auto_columns": null,
            "grid_auto_flow": null,
            "grid_auto_rows": null,
            "grid_column": null,
            "grid_gap": null,
            "grid_row": null,
            "grid_template_areas": null,
            "grid_template_columns": null,
            "grid_template_rows": null,
            "height": null,
            "justify_content": null,
            "justify_items": null,
            "left": null,
            "margin": null,
            "max_height": null,
            "max_width": null,
            "min_height": null,
            "min_width": null,
            "object_fit": null,
            "object_position": null,
            "order": null,
            "overflow": null,
            "overflow_x": null,
            "overflow_y": null,
            "padding": null,
            "right": null,
            "top": null,
            "visibility": null,
            "width": null
          }
        },
        "7454819448be4a2e824b8555d32b4bf1": {
          "model_module": "@jupyter-widgets/controls",
          "model_name": "ProgressStyleModel",
          "model_module_version": "1.5.0",
          "state": {
            "_model_module": "@jupyter-widgets/controls",
            "_model_module_version": "1.5.0",
            "_model_name": "ProgressStyleModel",
            "_view_count": null,
            "_view_module": "@jupyter-widgets/base",
            "_view_module_version": "1.2.0",
            "_view_name": "StyleView",
            "bar_color": null,
            "description_width": ""
          }
        },
        "a7f063d34ce344e39cc1b3a08fca8a31": {
          "model_module": "@jupyter-widgets/base",
          "model_name": "LayoutModel",
          "model_module_version": "1.2.0",
          "state": {
            "_model_module": "@jupyter-widgets/base",
            "_model_module_version": "1.2.0",
            "_model_name": "LayoutModel",
            "_view_count": null,
            "_view_module": "@jupyter-widgets/base",
            "_view_module_version": "1.2.0",
            "_view_name": "LayoutView",
            "align_content": null,
            "align_items": null,
            "align_self": null,
            "border": null,
            "bottom": null,
            "display": null,
            "flex": null,
            "flex_flow": null,
            "grid_area": null,
            "grid_auto_columns": null,
            "grid_auto_flow": null,
            "grid_auto_rows": null,
            "grid_column": null,
            "grid_gap": null,
            "grid_row": null,
            "grid_template_areas": null,
            "grid_template_columns": null,
            "grid_template_rows": null,
            "height": null,
            "justify_content": null,
            "justify_items": null,
            "left": null,
            "margin": null,
            "max_height": null,
            "max_width": null,
            "min_height": null,
            "min_width": null,
            "object_fit": null,
            "object_position": null,
            "order": null,
            "overflow": null,
            "overflow_x": null,
            "overflow_y": null,
            "padding": null,
            "right": null,
            "top": null,
            "visibility": null,
            "width": null
          }
        },
        "f87fd1e014c84805b4e17cf67dab9462": {
          "model_module": "@jupyter-widgets/controls",
          "model_name": "DescriptionStyleModel",
          "model_module_version": "1.5.0",
          "state": {
            "_model_module": "@jupyter-widgets/controls",
            "_model_module_version": "1.5.0",
            "_model_name": "DescriptionStyleModel",
            "_view_count": null,
            "_view_module": "@jupyter-widgets/base",
            "_view_module_version": "1.2.0",
            "_view_name": "StyleView",
            "description_width": ""
          }
        },
        "95ca22b818e845498f513de35523456c": {
          "model_module": "@jupyter-widgets/controls",
          "model_name": "HBoxModel",
          "model_module_version": "1.5.0",
          "state": {
            "_dom_classes": [],
            "_model_module": "@jupyter-widgets/controls",
            "_model_module_version": "1.5.0",
            "_model_name": "HBoxModel",
            "_view_count": null,
            "_view_module": "@jupyter-widgets/controls",
            "_view_module_version": "1.5.0",
            "_view_name": "HBoxView",
            "box_style": "",
            "children": [
              "IPY_MODEL_a277beef87374156885ddeaf4d0df6bf",
              "IPY_MODEL_f36fe053c4224536a7348e5cdae3f348",
              "IPY_MODEL_4265b6534e744c72b444b081656d3757"
            ],
            "layout": "IPY_MODEL_33b2d115d3f34f52b7e93cc0f1197e4f"
          }
        },
        "a277beef87374156885ddeaf4d0df6bf": {
          "model_module": "@jupyter-widgets/controls",
          "model_name": "HTMLModel",
          "model_module_version": "1.5.0",
          "state": {
            "_dom_classes": [],
            "_model_module": "@jupyter-widgets/controls",
            "_model_module_version": "1.5.0",
            "_model_name": "HTMLModel",
            "_view_count": null,
            "_view_module": "@jupyter-widgets/controls",
            "_view_module_version": "1.5.0",
            "_view_name": "HTMLView",
            "description": "",
            "description_tooltip": null,
            "layout": "IPY_MODEL_22e76d4d210f439e8ef76d6033184371",
            "placeholder": "​",
            "style": "IPY_MODEL_312d749e3170403bbef7a1731454c39b",
            "value": "100%"
          }
        },
        "f36fe053c4224536a7348e5cdae3f348": {
          "model_module": "@jupyter-widgets/controls",
          "model_name": "FloatProgressModel",
          "model_module_version": "1.5.0",
          "state": {
            "_dom_classes": [],
            "_model_module": "@jupyter-widgets/controls",
            "_model_module_version": "1.5.0",
            "_model_name": "FloatProgressModel",
            "_view_count": null,
            "_view_module": "@jupyter-widgets/controls",
            "_view_module_version": "1.5.0",
            "_view_name": "ProgressView",
            "bar_style": "success",
            "description": "",
            "description_tooltip": null,
            "layout": "IPY_MODEL_16a4aafad11a4edc896989930660b4ed",
            "max": 91863,
            "min": 0,
            "orientation": "horizontal",
            "style": "IPY_MODEL_bf53c58b578d41e9a8828be8cc001151",
            "value": 91863
          }
        },
        "4265b6534e744c72b444b081656d3757": {
          "model_module": "@jupyter-widgets/controls",
          "model_name": "HTMLModel",
          "model_module_version": "1.5.0",
          "state": {
            "_dom_classes": [],
            "_model_module": "@jupyter-widgets/controls",
            "_model_module_version": "1.5.0",
            "_model_name": "HTMLModel",
            "_view_count": null,
            "_view_module": "@jupyter-widgets/controls",
            "_view_module_version": "1.5.0",
            "_view_name": "HTMLView",
            "description": "",
            "description_tooltip": null,
            "layout": "IPY_MODEL_5f040e0846f34ec8a5468bde76ee67c2",
            "placeholder": "​",
            "style": "IPY_MODEL_532c5bf0d256474ab0a1aea8b30f9a5b",
            "value": " 91863/91863 [00:25&lt;00:00, 3571.98it/s]"
          }
        },
        "33b2d115d3f34f52b7e93cc0f1197e4f": {
          "model_module": "@jupyter-widgets/base",
          "model_name": "LayoutModel",
          "model_module_version": "1.2.0",
          "state": {
            "_model_module": "@jupyter-widgets/base",
            "_model_module_version": "1.2.0",
            "_model_name": "LayoutModel",
            "_view_count": null,
            "_view_module": "@jupyter-widgets/base",
            "_view_module_version": "1.2.0",
            "_view_name": "LayoutView",
            "align_content": null,
            "align_items": null,
            "align_self": null,
            "border": null,
            "bottom": null,
            "display": null,
            "flex": null,
            "flex_flow": null,
            "grid_area": null,
            "grid_auto_columns": null,
            "grid_auto_flow": null,
            "grid_auto_rows": null,
            "grid_column": null,
            "grid_gap": null,
            "grid_row": null,
            "grid_template_areas": null,
            "grid_template_columns": null,
            "grid_template_rows": null,
            "height": null,
            "justify_content": null,
            "justify_items": null,
            "left": null,
            "margin": null,
            "max_height": null,
            "max_width": null,
            "min_height": null,
            "min_width": null,
            "object_fit": null,
            "object_position": null,
            "order": null,
            "overflow": null,
            "overflow_x": null,
            "overflow_y": null,
            "padding": null,
            "right": null,
            "top": null,
            "visibility": null,
            "width": null
          }
        },
        "22e76d4d210f439e8ef76d6033184371": {
          "model_module": "@jupyter-widgets/base",
          "model_name": "LayoutModel",
          "model_module_version": "1.2.0",
          "state": {
            "_model_module": "@jupyter-widgets/base",
            "_model_module_version": "1.2.0",
            "_model_name": "LayoutModel",
            "_view_count": null,
            "_view_module": "@jupyter-widgets/base",
            "_view_module_version": "1.2.0",
            "_view_name": "LayoutView",
            "align_content": null,
            "align_items": null,
            "align_self": null,
            "border": null,
            "bottom": null,
            "display": null,
            "flex": null,
            "flex_flow": null,
            "grid_area": null,
            "grid_auto_columns": null,
            "grid_auto_flow": null,
            "grid_auto_rows": null,
            "grid_column": null,
            "grid_gap": null,
            "grid_row": null,
            "grid_template_areas": null,
            "grid_template_columns": null,
            "grid_template_rows": null,
            "height": null,
            "justify_content": null,
            "justify_items": null,
            "left": null,
            "margin": null,
            "max_height": null,
            "max_width": null,
            "min_height": null,
            "min_width": null,
            "object_fit": null,
            "object_position": null,
            "order": null,
            "overflow": null,
            "overflow_x": null,
            "overflow_y": null,
            "padding": null,
            "right": null,
            "top": null,
            "visibility": null,
            "width": null
          }
        },
        "312d749e3170403bbef7a1731454c39b": {
          "model_module": "@jupyter-widgets/controls",
          "model_name": "DescriptionStyleModel",
          "model_module_version": "1.5.0",
          "state": {
            "_model_module": "@jupyter-widgets/controls",
            "_model_module_version": "1.5.0",
            "_model_name": "DescriptionStyleModel",
            "_view_count": null,
            "_view_module": "@jupyter-widgets/base",
            "_view_module_version": "1.2.0",
            "_view_name": "StyleView",
            "description_width": ""
          }
        },
        "16a4aafad11a4edc896989930660b4ed": {
          "model_module": "@jupyter-widgets/base",
          "model_name": "LayoutModel",
          "model_module_version": "1.2.0",
          "state": {
            "_model_module": "@jupyter-widgets/base",
            "_model_module_version": "1.2.0",
            "_model_name": "LayoutModel",
            "_view_count": null,
            "_view_module": "@jupyter-widgets/base",
            "_view_module_version": "1.2.0",
            "_view_name": "LayoutView",
            "align_content": null,
            "align_items": null,
            "align_self": null,
            "border": null,
            "bottom": null,
            "display": null,
            "flex": null,
            "flex_flow": null,
            "grid_area": null,
            "grid_auto_columns": null,
            "grid_auto_flow": null,
            "grid_auto_rows": null,
            "grid_column": null,
            "grid_gap": null,
            "grid_row": null,
            "grid_template_areas": null,
            "grid_template_columns": null,
            "grid_template_rows": null,
            "height": null,
            "justify_content": null,
            "justify_items": null,
            "left": null,
            "margin": null,
            "max_height": null,
            "max_width": null,
            "min_height": null,
            "min_width": null,
            "object_fit": null,
            "object_position": null,
            "order": null,
            "overflow": null,
            "overflow_x": null,
            "overflow_y": null,
            "padding": null,
            "right": null,
            "top": null,
            "visibility": null,
            "width": null
          }
        },
        "bf53c58b578d41e9a8828be8cc001151": {
          "model_module": "@jupyter-widgets/controls",
          "model_name": "ProgressStyleModel",
          "model_module_version": "1.5.0",
          "state": {
            "_model_module": "@jupyter-widgets/controls",
            "_model_module_version": "1.5.0",
            "_model_name": "ProgressStyleModel",
            "_view_count": null,
            "_view_module": "@jupyter-widgets/base",
            "_view_module_version": "1.2.0",
            "_view_name": "StyleView",
            "bar_color": null,
            "description_width": ""
          }
        },
        "5f040e0846f34ec8a5468bde76ee67c2": {
          "model_module": "@jupyter-widgets/base",
          "model_name": "LayoutModel",
          "model_module_version": "1.2.0",
          "state": {
            "_model_module": "@jupyter-widgets/base",
            "_model_module_version": "1.2.0",
            "_model_name": "LayoutModel",
            "_view_count": null,
            "_view_module": "@jupyter-widgets/base",
            "_view_module_version": "1.2.0",
            "_view_name": "LayoutView",
            "align_content": null,
            "align_items": null,
            "align_self": null,
            "border": null,
            "bottom": null,
            "display": null,
            "flex": null,
            "flex_flow": null,
            "grid_area": null,
            "grid_auto_columns": null,
            "grid_auto_flow": null,
            "grid_auto_rows": null,
            "grid_column": null,
            "grid_gap": null,
            "grid_row": null,
            "grid_template_areas": null,
            "grid_template_columns": null,
            "grid_template_rows": null,
            "height": null,
            "justify_content": null,
            "justify_items": null,
            "left": null,
            "margin": null,
            "max_height": null,
            "max_width": null,
            "min_height": null,
            "min_width": null,
            "object_fit": null,
            "object_position": null,
            "order": null,
            "overflow": null,
            "overflow_x": null,
            "overflow_y": null,
            "padding": null,
            "right": null,
            "top": null,
            "visibility": null,
            "width": null
          }
        },
        "532c5bf0d256474ab0a1aea8b30f9a5b": {
          "model_module": "@jupyter-widgets/controls",
          "model_name": "DescriptionStyleModel",
          "model_module_version": "1.5.0",
          "state": {
            "_model_module": "@jupyter-widgets/controls",
            "_model_module_version": "1.5.0",
            "_model_name": "DescriptionStyleModel",
            "_view_count": null,
            "_view_module": "@jupyter-widgets/base",
            "_view_module_version": "1.2.0",
            "_view_name": "StyleView",
            "description_width": ""
          }
        },
        "7d94cb9edf99458e9ef1155488d1957f": {
          "model_module": "@jupyter-widgets/controls",
          "model_name": "HBoxModel",
          "model_module_version": "1.5.0",
          "state": {
            "_dom_classes": [],
            "_model_module": "@jupyter-widgets/controls",
            "_model_module_version": "1.5.0",
            "_model_name": "HBoxModel",
            "_view_count": null,
            "_view_module": "@jupyter-widgets/controls",
            "_view_module_version": "1.5.0",
            "_view_name": "HBoxView",
            "box_style": "",
            "children": [
              "IPY_MODEL_6b806513ce84433880a06cc8decfdf80",
              "IPY_MODEL_360cecf97b3849f5976e13553b7e9824",
              "IPY_MODEL_7e28481af79343fcbc89eecb91cf0e37"
            ],
            "layout": "IPY_MODEL_c70b6a01e0c2468ca21b78c41b1ebc20"
          }
        },
        "6b806513ce84433880a06cc8decfdf80": {
          "model_module": "@jupyter-widgets/controls",
          "model_name": "HTMLModel",
          "model_module_version": "1.5.0",
          "state": {
            "_dom_classes": [],
            "_model_module": "@jupyter-widgets/controls",
            "_model_module_version": "1.5.0",
            "_model_name": "HTMLModel",
            "_view_count": null,
            "_view_module": "@jupyter-widgets/controls",
            "_view_module_version": "1.5.0",
            "_view_name": "HTMLView",
            "description": "",
            "description_tooltip": null,
            "layout": "IPY_MODEL_af0737c63bd842ada81c75d3b8f78abd",
            "placeholder": "​",
            "style": "IPY_MODEL_cf4ca3f797204f18b5abf507be11d0d6",
            "value": "100%"
          }
        },
        "360cecf97b3849f5976e13553b7e9824": {
          "model_module": "@jupyter-widgets/controls",
          "model_name": "FloatProgressModel",
          "model_module_version": "1.5.0",
          "state": {
            "_dom_classes": [],
            "_model_module": "@jupyter-widgets/controls",
            "_model_module_version": "1.5.0",
            "_model_name": "FloatProgressModel",
            "_view_count": null,
            "_view_module": "@jupyter-widgets/controls",
            "_view_module_version": "1.5.0",
            "_view_name": "ProgressView",
            "bar_style": "success",
            "description": "",
            "description_tooltip": null,
            "layout": "IPY_MODEL_815f42de49d04ff8bcb603704f50fe53",
            "max": 99,
            "min": 0,
            "orientation": "horizontal",
            "style": "IPY_MODEL_f6a8d887e8804e248464b13c4b8ed6af",
            "value": 99
          }
        },
        "7e28481af79343fcbc89eecb91cf0e37": {
          "model_module": "@jupyter-widgets/controls",
          "model_name": "HTMLModel",
          "model_module_version": "1.5.0",
          "state": {
            "_dom_classes": [],
            "_model_module": "@jupyter-widgets/controls",
            "_model_module_version": "1.5.0",
            "_model_name": "HTMLModel",
            "_view_count": null,
            "_view_module": "@jupyter-widgets/controls",
            "_view_module_version": "1.5.0",
            "_view_name": "HTMLView",
            "description": "",
            "description_tooltip": null,
            "layout": "IPY_MODEL_1039efd7f1c04d7598e6e69a0e68f24d",
            "placeholder": "​",
            "style": "IPY_MODEL_78818dd97eb84874a95a26194764e206",
            "value": " 99/99 [00:21&lt;00:00,  4.77it/s]"
          }
        },
        "c70b6a01e0c2468ca21b78c41b1ebc20": {
          "model_module": "@jupyter-widgets/base",
          "model_name": "LayoutModel",
          "model_module_version": "1.2.0",
          "state": {
            "_model_module": "@jupyter-widgets/base",
            "_model_module_version": "1.2.0",
            "_model_name": "LayoutModel",
            "_view_count": null,
            "_view_module": "@jupyter-widgets/base",
            "_view_module_version": "1.2.0",
            "_view_name": "LayoutView",
            "align_content": null,
            "align_items": null,
            "align_self": null,
            "border": null,
            "bottom": null,
            "display": null,
            "flex": null,
            "flex_flow": null,
            "grid_area": null,
            "grid_auto_columns": null,
            "grid_auto_flow": null,
            "grid_auto_rows": null,
            "grid_column": null,
            "grid_gap": null,
            "grid_row": null,
            "grid_template_areas": null,
            "grid_template_columns": null,
            "grid_template_rows": null,
            "height": null,
            "justify_content": null,
            "justify_items": null,
            "left": null,
            "margin": null,
            "max_height": null,
            "max_width": null,
            "min_height": null,
            "min_width": null,
            "object_fit": null,
            "object_position": null,
            "order": null,
            "overflow": null,
            "overflow_x": null,
            "overflow_y": null,
            "padding": null,
            "right": null,
            "top": null,
            "visibility": null,
            "width": null
          }
        },
        "af0737c63bd842ada81c75d3b8f78abd": {
          "model_module": "@jupyter-widgets/base",
          "model_name": "LayoutModel",
          "model_module_version": "1.2.0",
          "state": {
            "_model_module": "@jupyter-widgets/base",
            "_model_module_version": "1.2.0",
            "_model_name": "LayoutModel",
            "_view_count": null,
            "_view_module": "@jupyter-widgets/base",
            "_view_module_version": "1.2.0",
            "_view_name": "LayoutView",
            "align_content": null,
            "align_items": null,
            "align_self": null,
            "border": null,
            "bottom": null,
            "display": null,
            "flex": null,
            "flex_flow": null,
            "grid_area": null,
            "grid_auto_columns": null,
            "grid_auto_flow": null,
            "grid_auto_rows": null,
            "grid_column": null,
            "grid_gap": null,
            "grid_row": null,
            "grid_template_areas": null,
            "grid_template_columns": null,
            "grid_template_rows": null,
            "height": null,
            "justify_content": null,
            "justify_items": null,
            "left": null,
            "margin": null,
            "max_height": null,
            "max_width": null,
            "min_height": null,
            "min_width": null,
            "object_fit": null,
            "object_position": null,
            "order": null,
            "overflow": null,
            "overflow_x": null,
            "overflow_y": null,
            "padding": null,
            "right": null,
            "top": null,
            "visibility": null,
            "width": null
          }
        },
        "cf4ca3f797204f18b5abf507be11d0d6": {
          "model_module": "@jupyter-widgets/controls",
          "model_name": "DescriptionStyleModel",
          "model_module_version": "1.5.0",
          "state": {
            "_model_module": "@jupyter-widgets/controls",
            "_model_module_version": "1.5.0",
            "_model_name": "DescriptionStyleModel",
            "_view_count": null,
            "_view_module": "@jupyter-widgets/base",
            "_view_module_version": "1.2.0",
            "_view_name": "StyleView",
            "description_width": ""
          }
        },
        "815f42de49d04ff8bcb603704f50fe53": {
          "model_module": "@jupyter-widgets/base",
          "model_name": "LayoutModel",
          "model_module_version": "1.2.0",
          "state": {
            "_model_module": "@jupyter-widgets/base",
            "_model_module_version": "1.2.0",
            "_model_name": "LayoutModel",
            "_view_count": null,
            "_view_module": "@jupyter-widgets/base",
            "_view_module_version": "1.2.0",
            "_view_name": "LayoutView",
            "align_content": null,
            "align_items": null,
            "align_self": null,
            "border": null,
            "bottom": null,
            "display": null,
            "flex": null,
            "flex_flow": null,
            "grid_area": null,
            "grid_auto_columns": null,
            "grid_auto_flow": null,
            "grid_auto_rows": null,
            "grid_column": null,
            "grid_gap": null,
            "grid_row": null,
            "grid_template_areas": null,
            "grid_template_columns": null,
            "grid_template_rows": null,
            "height": null,
            "justify_content": null,
            "justify_items": null,
            "left": null,
            "margin": null,
            "max_height": null,
            "max_width": null,
            "min_height": null,
            "min_width": null,
            "object_fit": null,
            "object_position": null,
            "order": null,
            "overflow": null,
            "overflow_x": null,
            "overflow_y": null,
            "padding": null,
            "right": null,
            "top": null,
            "visibility": null,
            "width": null
          }
        },
        "f6a8d887e8804e248464b13c4b8ed6af": {
          "model_module": "@jupyter-widgets/controls",
          "model_name": "ProgressStyleModel",
          "model_module_version": "1.5.0",
          "state": {
            "_model_module": "@jupyter-widgets/controls",
            "_model_module_version": "1.5.0",
            "_model_name": "ProgressStyleModel",
            "_view_count": null,
            "_view_module": "@jupyter-widgets/base",
            "_view_module_version": "1.2.0",
            "_view_name": "StyleView",
            "bar_color": null,
            "description_width": ""
          }
        },
        "1039efd7f1c04d7598e6e69a0e68f24d": {
          "model_module": "@jupyter-widgets/base",
          "model_name": "LayoutModel",
          "model_module_version": "1.2.0",
          "state": {
            "_model_module": "@jupyter-widgets/base",
            "_model_module_version": "1.2.0",
            "_model_name": "LayoutModel",
            "_view_count": null,
            "_view_module": "@jupyter-widgets/base",
            "_view_module_version": "1.2.0",
            "_view_name": "LayoutView",
            "align_content": null,
            "align_items": null,
            "align_self": null,
            "border": null,
            "bottom": null,
            "display": null,
            "flex": null,
            "flex_flow": null,
            "grid_area": null,
            "grid_auto_columns": null,
            "grid_auto_flow": null,
            "grid_auto_rows": null,
            "grid_column": null,
            "grid_gap": null,
            "grid_row": null,
            "grid_template_areas": null,
            "grid_template_columns": null,
            "grid_template_rows": null,
            "height": null,
            "justify_content": null,
            "justify_items": null,
            "left": null,
            "margin": null,
            "max_height": null,
            "max_width": null,
            "min_height": null,
            "min_width": null,
            "object_fit": null,
            "object_position": null,
            "order": null,
            "overflow": null,
            "overflow_x": null,
            "overflow_y": null,
            "padding": null,
            "right": null,
            "top": null,
            "visibility": null,
            "width": null
          }
        },
        "78818dd97eb84874a95a26194764e206": {
          "model_module": "@jupyter-widgets/controls",
          "model_name": "DescriptionStyleModel",
          "model_module_version": "1.5.0",
          "state": {
            "_model_module": "@jupyter-widgets/controls",
            "_model_module_version": "1.5.0",
            "_model_name": "DescriptionStyleModel",
            "_view_count": null,
            "_view_module": "@jupyter-widgets/base",
            "_view_module_version": "1.2.0",
            "_view_name": "StyleView",
            "description_width": ""
          }
        }
      }
    }
  },
  "cells": [
    {
      "cell_type": "markdown",
      "metadata": {
        "id": "view-in-github",
        "colab_type": "text"
      },
      "source": [
        "<a href=\"https://colab.research.google.com/github/ChabiMax/author_network/blob/main/Code/Question%202.ipynb\" target=\"_parent\"><img src=\"https://colab.research.google.com/assets/colab-badge.svg\" alt=\"Open In Colab\"/></a>"
      ]
    },
    {
      "cell_type": "markdown",
      "source": [
        "<h1><center><strong><font color=\"chillipepper\">Réseau Wikipédia des auteurs francophones</font></strong></center></h1>\n",
        "<h5><center><font color=\"green\">Science des réseaux sociaux et économiques <h3><center>\n",
        "\n",
        "\n",
        "<center>\n",
        "Maxime Chabriel, Yasmine Houri, Mathis Sansu  \n",
        "\n",
        "ENSAE 2022\n",
        "</center>"
      ],
      "metadata": {
        "id": "klrK4tFSs9oi"
      }
    },
    {
      "cell_type": "markdown",
      "source": [
        "<h2><center><strong><font color=\"chillipepper\">Analyses descriptives / Traitement de la problématique</font></strong></center></h2>"
      ],
      "metadata": {
        "id": "KgpVnnFZBA4C"
      }
    },
    {
      "cell_type": "markdown",
      "source": [
        "# Packages"
      ],
      "metadata": {
        "id": "eUPAHQBKtLne"
      }
    },
    {
      "cell_type": "code",
      "execution_count": 213,
      "metadata": {
        "id": "KU33HBgYs3We",
        "colab": {
          "base_uri": "https://localhost:8080/"
        },
        "outputId": "878d5bf1-5454-41c7-c894-3116aaecd7da"
      },
      "outputs": [
        {
          "output_type": "stream",
          "name": "stdout",
          "text": [
            "Requirement already satisfied: python-louvain in /usr/local/lib/python3.7/dist-packages (0.16)\n",
            "Requirement already satisfied: networkx in /usr/local/lib/python3.7/dist-packages (from python-louvain) (2.6.3)\n",
            "Requirement already satisfied: numpy in /usr/local/lib/python3.7/dist-packages (from python-louvain) (1.21.6)\n"
          ]
        }
      ],
      "source": [
        "!pip install python-louvain # Package de détection de communautés\n",
        "from community import community_louvain # Algorithme de Louvain\n",
        "import pandas as pd # Package pour travailler avec des dataframes\n",
        "import networkx as nx # Package pour travailler avec des réseaux\n",
        "#from networkx.algorithms import bipartite\n",
        "import pickle as pkl # Package pour les objets python de type 'pickle'\n",
        "from tqdm import tqdm_notebook # Package pour les barres de progression\n",
        "import statsmodels.formula.api as smf # Package de modèles statistiques\n",
        "import matplotlib.pyplot as plt # Package pour les visualisations graphiques\n",
        "import numpy as np # Package de fonctions mathématiques\n",
        "import seaborn as sns # Package pour les visualisations graphiques\n",
        "from seaborn import matrix\n",
        "from operator import itemgetter"
      ]
    },
    {
      "cell_type": "markdown",
      "source": [
        "# Données"
      ],
      "metadata": {
        "id": "cksUqC2otspw"
      }
    },
    {
      "cell_type": "markdown",
      "source": [
        "## Import"
      ],
      "metadata": {
        "id": "hfsZX26SdE2t"
      }
    },
    {
      "cell_type": "code",
      "source": [
        "git_url = \"https://raw.githubusercontent.com/ChabiMax/author_network/main/\" # Lien du repository GitHub pour récupérer les données\n",
        "data = pd.read_pickle(git_url+'/Data/raw_data.pkl') # Import des données"
      ],
      "metadata": {
        "id": "UPjQEzrZs4wr"
      },
      "execution_count": 214,
      "outputs": []
    },
    {
      "cell_type": "markdown",
      "source": [
        "## Visualisation"
      ],
      "metadata": {
        "id": "CaNrjKXvdGBa"
      }
    },
    {
      "cell_type": "code",
      "source": [
        "df = pd.DataFrame(data).T # Passage du dictionnaire sous forme de dataframe\n",
        "df.head() # Visualisation des premières lignes"
      ],
      "metadata": {
        "colab": {
          "base_uri": "https://localhost:8080/",
          "height": 392
        },
        "id": "ae97egeEuwr8",
        "outputId": "8ada3cb7-95f7-4555-a426-2bcc2676b2fa"
      },
      "execution_count": 215,
      "outputs": [
        {
          "output_type": "execute_result",
          "data": {
            "text/plain": [
              "                     name                                               link  \\\n",
              "0                  Turold               https://fr.wikipedia.org/wiki/Turold   \n",
              "1       Philippe de Thaon    https://fr.wikipedia.org/wiki/Philippe_de_Thaon   \n",
              "2  Benoît de Sainte-Maure  https://fr.wikipedia.org/wiki/Beno%C3%AEt_de_S...   \n",
              "3              Jean Bodel           https://fr.wikipedia.org/wiki/Jean_Bodel   \n",
              "4                    Wace                 https://fr.wikipedia.org/wiki/Wace   \n",
              "\n",
              "  date_mort date_naissance taille_html_article network_interauteur  \\\n",
              "0       NaN            NaN               73673                  []   \n",
              "1       NaN            NaN               68910                  []   \n",
              "2       NaN            NaN               83269                 [4]   \n",
              "3      1165            NaN               73274            [10, 22]   \n",
              "4      1174           1100               99714                 [6]   \n",
              "\n",
              "  poids_liens_interauteur   genres_mentionnes    type          contemporain  \\\n",
              "0                      []                  []  auteur                    []   \n",
              "1                      []                  []  auteur                    []   \n",
              "2                     [1]              [1627]  auteur                    []   \n",
              "3                  [1, 1]  [1663, 1691, 1604]  auteur                    []   \n",
              "4                     [2]        [1591, 1662]  auteur  [5, 6, 7, 9, 10, 11]   \n",
              "\n",
              "  poids_contempo_diff_naissance poids_contempo_annees_communes  \\\n",
              "0                            []                             []   \n",
              "1                            []                             []   \n",
              "2                            []                             []   \n",
              "3                            []                             []   \n",
              "4      [10, 30, 50, 60, 60, 60]       [52, 44, 24, 14, 14, 14]   \n",
              "\n",
              "  auteurs_du_genre debut_genre fin_genre  \n",
              "0              NaN         NaN       NaN  \n",
              "1              NaN         NaN       NaN  \n",
              "2              NaN         NaN       NaN  \n",
              "3              NaN         NaN       NaN  \n",
              "4              NaN         NaN       NaN  "
            ],
            "text/html": [
              "\n",
              "  <div id=\"df-e6aa87ff-73ae-4bef-9bc4-7d0f1eb16b65\">\n",
              "    <div class=\"colab-df-container\">\n",
              "      <div>\n",
              "<style scoped>\n",
              "    .dataframe tbody tr th:only-of-type {\n",
              "        vertical-align: middle;\n",
              "    }\n",
              "\n",
              "    .dataframe tbody tr th {\n",
              "        vertical-align: top;\n",
              "    }\n",
              "\n",
              "    .dataframe thead th {\n",
              "        text-align: right;\n",
              "    }\n",
              "</style>\n",
              "<table border=\"1\" class=\"dataframe\">\n",
              "  <thead>\n",
              "    <tr style=\"text-align: right;\">\n",
              "      <th></th>\n",
              "      <th>name</th>\n",
              "      <th>link</th>\n",
              "      <th>date_mort</th>\n",
              "      <th>date_naissance</th>\n",
              "      <th>taille_html_article</th>\n",
              "      <th>network_interauteur</th>\n",
              "      <th>poids_liens_interauteur</th>\n",
              "      <th>genres_mentionnes</th>\n",
              "      <th>type</th>\n",
              "      <th>contemporain</th>\n",
              "      <th>poids_contempo_diff_naissance</th>\n",
              "      <th>poids_contempo_annees_communes</th>\n",
              "      <th>auteurs_du_genre</th>\n",
              "      <th>debut_genre</th>\n",
              "      <th>fin_genre</th>\n",
              "    </tr>\n",
              "  </thead>\n",
              "  <tbody>\n",
              "    <tr>\n",
              "      <th>0</th>\n",
              "      <td>Turold</td>\n",
              "      <td>https://fr.wikipedia.org/wiki/Turold</td>\n",
              "      <td>NaN</td>\n",
              "      <td>NaN</td>\n",
              "      <td>73673</td>\n",
              "      <td>[]</td>\n",
              "      <td>[]</td>\n",
              "      <td>[]</td>\n",
              "      <td>auteur</td>\n",
              "      <td>[]</td>\n",
              "      <td>[]</td>\n",
              "      <td>[]</td>\n",
              "      <td>NaN</td>\n",
              "      <td>NaN</td>\n",
              "      <td>NaN</td>\n",
              "    </tr>\n",
              "    <tr>\n",
              "      <th>1</th>\n",
              "      <td>Philippe de Thaon</td>\n",
              "      <td>https://fr.wikipedia.org/wiki/Philippe_de_Thaon</td>\n",
              "      <td>NaN</td>\n",
              "      <td>NaN</td>\n",
              "      <td>68910</td>\n",
              "      <td>[]</td>\n",
              "      <td>[]</td>\n",
              "      <td>[]</td>\n",
              "      <td>auteur</td>\n",
              "      <td>[]</td>\n",
              "      <td>[]</td>\n",
              "      <td>[]</td>\n",
              "      <td>NaN</td>\n",
              "      <td>NaN</td>\n",
              "      <td>NaN</td>\n",
              "    </tr>\n",
              "    <tr>\n",
              "      <th>2</th>\n",
              "      <td>Benoît de Sainte-Maure</td>\n",
              "      <td>https://fr.wikipedia.org/wiki/Beno%C3%AEt_de_S...</td>\n",
              "      <td>NaN</td>\n",
              "      <td>NaN</td>\n",
              "      <td>83269</td>\n",
              "      <td>[4]</td>\n",
              "      <td>[1]</td>\n",
              "      <td>[1627]</td>\n",
              "      <td>auteur</td>\n",
              "      <td>[]</td>\n",
              "      <td>[]</td>\n",
              "      <td>[]</td>\n",
              "      <td>NaN</td>\n",
              "      <td>NaN</td>\n",
              "      <td>NaN</td>\n",
              "    </tr>\n",
              "    <tr>\n",
              "      <th>3</th>\n",
              "      <td>Jean Bodel</td>\n",
              "      <td>https://fr.wikipedia.org/wiki/Jean_Bodel</td>\n",
              "      <td>1165</td>\n",
              "      <td>NaN</td>\n",
              "      <td>73274</td>\n",
              "      <td>[10, 22]</td>\n",
              "      <td>[1, 1]</td>\n",
              "      <td>[1663, 1691, 1604]</td>\n",
              "      <td>auteur</td>\n",
              "      <td>[]</td>\n",
              "      <td>[]</td>\n",
              "      <td>[]</td>\n",
              "      <td>NaN</td>\n",
              "      <td>NaN</td>\n",
              "      <td>NaN</td>\n",
              "    </tr>\n",
              "    <tr>\n",
              "      <th>4</th>\n",
              "      <td>Wace</td>\n",
              "      <td>https://fr.wikipedia.org/wiki/Wace</td>\n",
              "      <td>1174</td>\n",
              "      <td>1100</td>\n",
              "      <td>99714</td>\n",
              "      <td>[6]</td>\n",
              "      <td>[2]</td>\n",
              "      <td>[1591, 1662]</td>\n",
              "      <td>auteur</td>\n",
              "      <td>[5, 6, 7, 9, 10, 11]</td>\n",
              "      <td>[10, 30, 50, 60, 60, 60]</td>\n",
              "      <td>[52, 44, 24, 14, 14, 14]</td>\n",
              "      <td>NaN</td>\n",
              "      <td>NaN</td>\n",
              "      <td>NaN</td>\n",
              "    </tr>\n",
              "  </tbody>\n",
              "</table>\n",
              "</div>\n",
              "      <button class=\"colab-df-convert\" onclick=\"convertToInteractive('df-e6aa87ff-73ae-4bef-9bc4-7d0f1eb16b65')\"\n",
              "              title=\"Convert this dataframe to an interactive table.\"\n",
              "              style=\"display:none;\">\n",
              "        \n",
              "  <svg xmlns=\"http://www.w3.org/2000/svg\" height=\"24px\"viewBox=\"0 0 24 24\"\n",
              "       width=\"24px\">\n",
              "    <path d=\"M0 0h24v24H0V0z\" fill=\"none\"/>\n",
              "    <path d=\"M18.56 5.44l.94 2.06.94-2.06 2.06-.94-2.06-.94-.94-2.06-.94 2.06-2.06.94zm-11 1L8.5 8.5l.94-2.06 2.06-.94-2.06-.94L8.5 2.5l-.94 2.06-2.06.94zm10 10l.94 2.06.94-2.06 2.06-.94-2.06-.94-.94-2.06-.94 2.06-2.06.94z\"/><path d=\"M17.41 7.96l-1.37-1.37c-.4-.4-.92-.59-1.43-.59-.52 0-1.04.2-1.43.59L10.3 9.45l-7.72 7.72c-.78.78-.78 2.05 0 2.83L4 21.41c.39.39.9.59 1.41.59.51 0 1.02-.2 1.41-.59l7.78-7.78 2.81-2.81c.8-.78.8-2.07 0-2.86zM5.41 20L4 18.59l7.72-7.72 1.47 1.35L5.41 20z\"/>\n",
              "  </svg>\n",
              "      </button>\n",
              "      \n",
              "  <style>\n",
              "    .colab-df-container {\n",
              "      display:flex;\n",
              "      flex-wrap:wrap;\n",
              "      gap: 12px;\n",
              "    }\n",
              "\n",
              "    .colab-df-convert {\n",
              "      background-color: #E8F0FE;\n",
              "      border: none;\n",
              "      border-radius: 50%;\n",
              "      cursor: pointer;\n",
              "      display: none;\n",
              "      fill: #1967D2;\n",
              "      height: 32px;\n",
              "      padding: 0 0 0 0;\n",
              "      width: 32px;\n",
              "    }\n",
              "\n",
              "    .colab-df-convert:hover {\n",
              "      background-color: #E2EBFA;\n",
              "      box-shadow: 0px 1px 2px rgba(60, 64, 67, 0.3), 0px 1px 3px 1px rgba(60, 64, 67, 0.15);\n",
              "      fill: #174EA6;\n",
              "    }\n",
              "\n",
              "    [theme=dark] .colab-df-convert {\n",
              "      background-color: #3B4455;\n",
              "      fill: #D2E3FC;\n",
              "    }\n",
              "\n",
              "    [theme=dark] .colab-df-convert:hover {\n",
              "      background-color: #434B5C;\n",
              "      box-shadow: 0px 1px 3px 1px rgba(0, 0, 0, 0.15);\n",
              "      filter: drop-shadow(0px 1px 2px rgba(0, 0, 0, 0.3));\n",
              "      fill: #FFFFFF;\n",
              "    }\n",
              "  </style>\n",
              "\n",
              "      <script>\n",
              "        const buttonEl =\n",
              "          document.querySelector('#df-e6aa87ff-73ae-4bef-9bc4-7d0f1eb16b65 button.colab-df-convert');\n",
              "        buttonEl.style.display =\n",
              "          google.colab.kernel.accessAllowed ? 'block' : 'none';\n",
              "\n",
              "        async function convertToInteractive(key) {\n",
              "          const element = document.querySelector('#df-e6aa87ff-73ae-4bef-9bc4-7d0f1eb16b65');\n",
              "          const dataTable =\n",
              "            await google.colab.kernel.invokeFunction('convertToInteractive',\n",
              "                                                     [key], {});\n",
              "          if (!dataTable) return;\n",
              "\n",
              "          const docLinkHtml = 'Like what you see? Visit the ' +\n",
              "            '<a target=\"_blank\" href=https://colab.research.google.com/notebooks/data_table.ipynb>data table notebook</a>'\n",
              "            + ' to learn more about interactive tables.';\n",
              "          element.innerHTML = '';\n",
              "          dataTable['output_type'] = 'display_data';\n",
              "          await google.colab.output.renderOutput(dataTable, element);\n",
              "          const docLink = document.createElement('div');\n",
              "          docLink.innerHTML = docLinkHtml;\n",
              "          element.appendChild(docLink);\n",
              "        }\n",
              "      </script>\n",
              "    </div>\n",
              "  </div>\n",
              "  "
            ]
          },
          "metadata": {},
          "execution_count": 215
        }
      ]
    },
    {
      "cell_type": "markdown",
      "source": [
        "# Réseau interauteurs : hyperliens auteurs sur les pages auteurs"
      ],
      "metadata": {
        "id": "Typ_bmEFF4rj"
      }
    },
    {
      "cell_type": "markdown",
      "source": [
        "## Table d'adjacence"
      ],
      "metadata": {
        "id": "z48PVMb3mgkI"
      }
    },
    {
      "cell_type": "code",
      "source": [
        "id = 0 # Initialisation\n",
        "id_link = id  # Identifiant\n",
        "link_table = dict() # Création du dictionnaire pour stocker les données\n",
        "\n",
        "for source in tqdm_notebook(df.index) : # Boucle sur nos lignes de dataframe brut\n",
        "  if df.iloc[id]['type'] == \"auteur\": # En conditionnant au fait que les lignes se réfèrent aux auteurs\n",
        "    for i in range(len(df.iloc[id]['network_interauteur'])): # On boucle sur les auteurs en lien avec l'auteur 'source'\n",
        "      target = df.iloc[id]['network_interauteur'][i] # Récupération de l'auteur 'target'\n",
        "      link_table[id_link] = {'source' : source, 'target' : target} # Création du lein entre auteurs dans le dictionnaire\n",
        "      weight = df.iloc[id]['poids_liens_interauteur'][i] # Récupération du poids du lien\n",
        "      link_table[id_link]['weight'] = weight # Assignation du poids au lien dans le dictionnaire\n",
        "      if target in df.iloc[id]['contemporain'] : # Condition pour voir si l'auteur 'target' est contemporain de 'source'\n",
        "        index_contemp = df.iloc[id]['contemporain'].index(target) # Récupération de l'identifiant du 'target'\n",
        "        contemporain = 1\n",
        "        diff_naissance = df.iloc[id]['poids_contempo_diff_naissance'][index_contemp]\n",
        "        annees_communes = df.iloc[id]['poids_contempo_annees_communes'][index_contemp]\n",
        "      else:\n",
        "        contemporain = 0\n",
        "        diff_naissance = 0\n",
        "        annees_communes = 0\n",
        "      link_table[id_link]['contemporain'] = contemporain\n",
        "      link_table[id_link]['diff_naissance'] = diff_naissance\n",
        "      link_table[id_link]['annees_communes'] = annees_communes\n",
        "      id_link +=1\n",
        "    id += 1\n",
        "edge_links = pd.DataFrame(link_table).T\n",
        "edge_links.head()"
      ],
      "metadata": {
        "id": "Mgmtj-Uk1e-z",
        "colab": {
          "base_uri": "https://localhost:8080/",
          "height": 290,
          "referenced_widgets": [
            "e9de6156098f44fba4bc49c4931f8dd7",
            "acac01a36a6a462c89068bfea7817316",
            "84463dd2dbb446678f97866ac725b064",
            "816acb54a94c4e4f9063ac8250d10339",
            "3342f84217444abb90c352254f55c7f8",
            "713f395738e748be8ce7cfe14869a6ad",
            "b368c3cdf4de4e3c9b4d7a6479842841",
            "b8a227122e31429692b89534466fe804",
            "9cd3d321921046aa8c5217966748f808",
            "97dce319b60c454c8864cc1b552b3a00",
            "e4c09e8564364fb6a3d6e4c4c5fff9f4"
          ]
        },
        "outputId": "457f70be-67e9-48af-ca60-e3dbfafdedf5"
      },
      "execution_count": 216,
      "outputs": [
        {
          "output_type": "stream",
          "name": "stderr",
          "text": [
            "/usr/local/lib/python3.7/dist-packages/ipykernel_launcher.py:5: TqdmDeprecationWarning: This function will be removed in tqdm==5.0.0\n",
            "Please use `tqdm.notebook.tqdm` instead of `tqdm.tqdm_notebook`\n",
            "  \"\"\"\n"
          ]
        },
        {
          "output_type": "display_data",
          "data": {
            "text/plain": [
              "  0%|          | 0/1786 [00:00<?, ?it/s]"
            ],
            "application/vnd.jupyter.widget-view+json": {
              "version_major": 2,
              "version_minor": 0,
              "model_id": "e9de6156098f44fba4bc49c4931f8dd7"
            }
          },
          "metadata": {}
        },
        {
          "output_type": "execute_result",
          "data": {
            "text/plain": [
              "   source  target  weight  contemporain  diff_naissance  annees_communes\n",
              "0       2       4       1             0               0                0\n",
              "1       3      10       1             0               0                0\n",
              "2       3      22       1             0               0                0\n",
              "3       4       6       2             1              30               44\n",
              "4       6       4       1             1              30               44"
            ],
            "text/html": [
              "\n",
              "  <div id=\"df-38f8cddc-0607-4a80-8815-1c887683c047\">\n",
              "    <div class=\"colab-df-container\">\n",
              "      <div>\n",
              "<style scoped>\n",
              "    .dataframe tbody tr th:only-of-type {\n",
              "        vertical-align: middle;\n",
              "    }\n",
              "\n",
              "    .dataframe tbody tr th {\n",
              "        vertical-align: top;\n",
              "    }\n",
              "\n",
              "    .dataframe thead th {\n",
              "        text-align: right;\n",
              "    }\n",
              "</style>\n",
              "<table border=\"1\" class=\"dataframe\">\n",
              "  <thead>\n",
              "    <tr style=\"text-align: right;\">\n",
              "      <th></th>\n",
              "      <th>source</th>\n",
              "      <th>target</th>\n",
              "      <th>weight</th>\n",
              "      <th>contemporain</th>\n",
              "      <th>diff_naissance</th>\n",
              "      <th>annees_communes</th>\n",
              "    </tr>\n",
              "  </thead>\n",
              "  <tbody>\n",
              "    <tr>\n",
              "      <th>0</th>\n",
              "      <td>2</td>\n",
              "      <td>4</td>\n",
              "      <td>1</td>\n",
              "      <td>0</td>\n",
              "      <td>0</td>\n",
              "      <td>0</td>\n",
              "    </tr>\n",
              "    <tr>\n",
              "      <th>1</th>\n",
              "      <td>3</td>\n",
              "      <td>10</td>\n",
              "      <td>1</td>\n",
              "      <td>0</td>\n",
              "      <td>0</td>\n",
              "      <td>0</td>\n",
              "    </tr>\n",
              "    <tr>\n",
              "      <th>2</th>\n",
              "      <td>3</td>\n",
              "      <td>22</td>\n",
              "      <td>1</td>\n",
              "      <td>0</td>\n",
              "      <td>0</td>\n",
              "      <td>0</td>\n",
              "    </tr>\n",
              "    <tr>\n",
              "      <th>3</th>\n",
              "      <td>4</td>\n",
              "      <td>6</td>\n",
              "      <td>2</td>\n",
              "      <td>1</td>\n",
              "      <td>30</td>\n",
              "      <td>44</td>\n",
              "    </tr>\n",
              "    <tr>\n",
              "      <th>4</th>\n",
              "      <td>6</td>\n",
              "      <td>4</td>\n",
              "      <td>1</td>\n",
              "      <td>1</td>\n",
              "      <td>30</td>\n",
              "      <td>44</td>\n",
              "    </tr>\n",
              "  </tbody>\n",
              "</table>\n",
              "</div>\n",
              "      <button class=\"colab-df-convert\" onclick=\"convertToInteractive('df-38f8cddc-0607-4a80-8815-1c887683c047')\"\n",
              "              title=\"Convert this dataframe to an interactive table.\"\n",
              "              style=\"display:none;\">\n",
              "        \n",
              "  <svg xmlns=\"http://www.w3.org/2000/svg\" height=\"24px\"viewBox=\"0 0 24 24\"\n",
              "       width=\"24px\">\n",
              "    <path d=\"M0 0h24v24H0V0z\" fill=\"none\"/>\n",
              "    <path d=\"M18.56 5.44l.94 2.06.94-2.06 2.06-.94-2.06-.94-.94-2.06-.94 2.06-2.06.94zm-11 1L8.5 8.5l.94-2.06 2.06-.94-2.06-.94L8.5 2.5l-.94 2.06-2.06.94zm10 10l.94 2.06.94-2.06 2.06-.94-2.06-.94-.94-2.06-.94 2.06-2.06.94z\"/><path d=\"M17.41 7.96l-1.37-1.37c-.4-.4-.92-.59-1.43-.59-.52 0-1.04.2-1.43.59L10.3 9.45l-7.72 7.72c-.78.78-.78 2.05 0 2.83L4 21.41c.39.39.9.59 1.41.59.51 0 1.02-.2 1.41-.59l7.78-7.78 2.81-2.81c.8-.78.8-2.07 0-2.86zM5.41 20L4 18.59l7.72-7.72 1.47 1.35L5.41 20z\"/>\n",
              "  </svg>\n",
              "      </button>\n",
              "      \n",
              "  <style>\n",
              "    .colab-df-container {\n",
              "      display:flex;\n",
              "      flex-wrap:wrap;\n",
              "      gap: 12px;\n",
              "    }\n",
              "\n",
              "    .colab-df-convert {\n",
              "      background-color: #E8F0FE;\n",
              "      border: none;\n",
              "      border-radius: 50%;\n",
              "      cursor: pointer;\n",
              "      display: none;\n",
              "      fill: #1967D2;\n",
              "      height: 32px;\n",
              "      padding: 0 0 0 0;\n",
              "      width: 32px;\n",
              "    }\n",
              "\n",
              "    .colab-df-convert:hover {\n",
              "      background-color: #E2EBFA;\n",
              "      box-shadow: 0px 1px 2px rgba(60, 64, 67, 0.3), 0px 1px 3px 1px rgba(60, 64, 67, 0.15);\n",
              "      fill: #174EA6;\n",
              "    }\n",
              "\n",
              "    [theme=dark] .colab-df-convert {\n",
              "      background-color: #3B4455;\n",
              "      fill: #D2E3FC;\n",
              "    }\n",
              "\n",
              "    [theme=dark] .colab-df-convert:hover {\n",
              "      background-color: #434B5C;\n",
              "      box-shadow: 0px 1px 3px 1px rgba(0, 0, 0, 0.15);\n",
              "      filter: drop-shadow(0px 1px 2px rgba(0, 0, 0, 0.3));\n",
              "      fill: #FFFFFF;\n",
              "    }\n",
              "  </style>\n",
              "\n",
              "      <script>\n",
              "        const buttonEl =\n",
              "          document.querySelector('#df-38f8cddc-0607-4a80-8815-1c887683c047 button.colab-df-convert');\n",
              "        buttonEl.style.display =\n",
              "          google.colab.kernel.accessAllowed ? 'block' : 'none';\n",
              "\n",
              "        async function convertToInteractive(key) {\n",
              "          const element = document.querySelector('#df-38f8cddc-0607-4a80-8815-1c887683c047');\n",
              "          const dataTable =\n",
              "            await google.colab.kernel.invokeFunction('convertToInteractive',\n",
              "                                                     [key], {});\n",
              "          if (!dataTable) return;\n",
              "\n",
              "          const docLinkHtml = 'Like what you see? Visit the ' +\n",
              "            '<a target=\"_blank\" href=https://colab.research.google.com/notebooks/data_table.ipynb>data table notebook</a>'\n",
              "            + ' to learn more about interactive tables.';\n",
              "          element.innerHTML = '';\n",
              "          dataTable['output_type'] = 'display_data';\n",
              "          await google.colab.output.renderOutput(dataTable, element);\n",
              "          const docLink = document.createElement('div');\n",
              "          docLink.innerHTML = docLinkHtml;\n",
              "          element.appendChild(docLink);\n",
              "        }\n",
              "      </script>\n",
              "    </div>\n",
              "  </div>\n",
              "  "
            ]
          },
          "metadata": {},
          "execution_count": 216
        }
      ]
    },
    {
      "cell_type": "markdown",
      "source": [
        "## Graph networkx\n"
      ],
      "metadata": {
        "id": "ZaXg5-3eccmH"
      }
    },
    {
      "cell_type": "code",
      "source": [
        "# Création du graph orienté\n",
        "GraphAuthorLink = nx.from_pandas_edgelist(edge_links, 'source', 'target', edge_attr = True, create_using=nx.DiGraph())\n",
        "# On rajoute les attributs aux noeuds\n",
        "df_node = df[df[\"type\"] == \"auteur\"]\n",
        "df_node['Node'] = df_node.index\n",
        "NodeData = df_node.set_index('Node').to_dict('index').items()\n",
        "GraphAuthorLink.add_nodes_from(NodeData)\n",
        "print(nx.info(GraphAuthorLink))"
      ],
      "metadata": {
        "colab": {
          "base_uri": "https://localhost:8080/"
        },
        "outputId": "95c48fa2-4af9-4228-da86-d8a405d4830e",
        "id": "qBODMbFG-k3M"
      },
      "execution_count": 217,
      "outputs": [
        {
          "output_type": "stream",
          "name": "stdout",
          "text": [
            "DiGraph with 1584 nodes and 13021 edges\n"
          ]
        },
        {
          "output_type": "stream",
          "name": "stderr",
          "text": [
            "/usr/local/lib/python3.7/dist-packages/ipykernel_launcher.py:5: SettingWithCopyWarning: \n",
            "A value is trying to be set on a copy of a slice from a DataFrame.\n",
            "Try using .loc[row_indexer,col_indexer] = value instead\n",
            "\n",
            "See the caveats in the documentation: https://pandas.pydata.org/pandas-docs/stable/user_guide/indexing.html#returning-a-view-versus-a-copy\n",
            "  \"\"\"\n"
          ]
        }
      ]
    },
    {
      "cell_type": "markdown",
      "source": [
        "# Réseau interauteurs : partage d'un genre en commun"
      ],
      "metadata": {
        "id": "AoMIWH2Zf3ma"
      }
    },
    {
      "cell_type": "markdown",
      "source": [
        "## Table d'adjacence"
      ],
      "metadata": {
        "id": "sdHdyhTopbGm"
      }
    },
    {
      "cell_type": "code",
      "source": [
        "df_genre = df[df['type'] == 'genre']\n",
        "\n",
        "list_link = []\n",
        "for genre in tqdm_notebook(df_genre.index) :\n",
        "  auteur_du_genre = df_genre['auteurs_du_genre'][genre]\n",
        "  if len(auteur_du_genre) > 1 :\n",
        "    auteur_vu = []\n",
        "    for auteur in auteur_du_genre :\n",
        "      if auteur is not None : \n",
        "        for auteur_bis in auteur_du_genre :\n",
        "          if (auteur != auteur_bis) & (auteur_bis not in auteur_vu) :\n",
        "            list_link.append([auteur, auteur_bis])\n",
        "        auteur_vu.append(auteur)\n",
        "\n",
        "edge_genre = pd.DataFrame(data = list_link)\n",
        "edge_genre.rename(columns={0: \"source\", 1: \"target\"}, inplace = True)\n",
        "edge_genre['weight'] = 1\n",
        "edge_genre = edge_genre.groupby(['source','target'])['weight'].agg('count').reset_index()\n",
        "edge_genre['contemporain'] = 0\n",
        "edge_genre['diff_naissance'] = 0\n",
        "edge_genre['annees_communes'] = 0\n",
        "edge_genre['taille_html_article'] = 0\n",
        "\n",
        "for i in tqdm_notebook(edge_genre.index) :\n",
        "  source = edge_genre.iloc[i]['source']\n",
        "  target = edge_genre.iloc[i]['target']\n",
        "  taille = df.iloc[source]['taille_html_article']\n",
        "  if target in df.iloc[source]['contemporain'] :\n",
        "    index_contemp = df.iloc[source]['contemporain'].index(target)\n",
        "    contemporain = 1\n",
        "    diff_naissance = df.iloc[source]['poids_contempo_diff_naissance'][index_contemp]\n",
        "    annees_communes = df.iloc[source]['poids_contempo_annees_communes'][index_contemp]\n",
        "  else :\n",
        "    contemporain = 0\n",
        "    diff_naissance = 0\n",
        "    annees_communes = 0\n",
        "  edge_genre['contemporain'][i] = contemporain\n",
        "  edge_genre['diff_naissance'][i] = diff_naissance\n",
        "  edge_genre['annees_communes'][i] = annees_communes\n",
        "  edge_genre['taille_html_article'][i] = taille\n",
        "\n"
      ],
      "metadata": {
        "colab": {
          "base_uri": "https://localhost:8080/",
          "height": 168,
          "referenced_widgets": [
            "8d3e558932b6457080964b6a6c93cc6a",
            "1efa72c743484fe297e4a8283b574a0d",
            "34bee9a55ada42788535538d2386e4eb",
            "ed46795a7cec451da41828c94b8b525f",
            "f57dd103b0f448c8976e356069c93c40",
            "7ba268fa17c5409aab994d3fd828aee8",
            "de8c77f114b34990a7121dd45a219441",
            "26d1ea6a53f941e2bd923cf9c91bcd35",
            "89baaf4082f846a4b320c03c82f15c35",
            "0fb92728a99e40b59322f880c3c7f70e",
            "c2586c8ba7dd4654abb24a824da6161d",
            "4e9a585ac5a248698c663723acb6c88f",
            "3945708990ed413da62abf4bd75612c8",
            "cf764f13c3c542a9805a8b9df6043468",
            "c92235ea2cc145ed9e8e47ff9efda7a0",
            "2bd7f607fd55413081fb5d4eb82a2a67",
            "5844807ac5504018a41bf6bf56f98a22",
            "68c1906881c6464a94a9ecf973754348",
            "3b38517f5f9a4b9e95fa35baa2a8f793",
            "3dbca93e41f140f8b9cf7636901ec85d",
            "bb776280216f41869771a0488bdbb7e0",
            "b33d91e98c974ad0bf96735edda49ba0"
          ]
        },
        "id": "2oFqSnabf2tX",
        "outputId": "12eb1918-211f-4fbf-fe8e-ccf037f7aba1"
      },
      "execution_count": 218,
      "outputs": [
        {
          "output_type": "stream",
          "name": "stderr",
          "text": [
            "/usr/local/lib/python3.7/dist-packages/ipykernel_launcher.py:4: TqdmDeprecationWarning: This function will be removed in tqdm==5.0.0\n",
            "Please use `tqdm.notebook.tqdm` instead of `tqdm.tqdm_notebook`\n",
            "  after removing the cwd from sys.path.\n"
          ]
        },
        {
          "output_type": "display_data",
          "data": {
            "text/plain": [
              "  0%|          | 0/202 [00:00<?, ?it/s]"
            ],
            "application/vnd.jupyter.widget-view+json": {
              "version_major": 2,
              "version_minor": 0,
              "model_id": "8d3e558932b6457080964b6a6c93cc6a"
            }
          },
          "metadata": {}
        },
        {
          "output_type": "stream",
          "name": "stderr",
          "text": [
            "/usr/local/lib/python3.7/dist-packages/ipykernel_launcher.py:24: TqdmDeprecationWarning: This function will be removed in tqdm==5.0.0\n",
            "Please use `tqdm.notebook.tqdm` instead of `tqdm.tqdm_notebook`\n"
          ]
        },
        {
          "output_type": "display_data",
          "data": {
            "text/plain": [
              "  0%|          | 0/91863 [00:00<?, ?it/s]"
            ],
            "application/vnd.jupyter.widget-view+json": {
              "version_major": 2,
              "version_minor": 0,
              "model_id": "4e9a585ac5a248698c663723acb6c88f"
            }
          },
          "metadata": {}
        }
      ]
    },
    {
      "cell_type": "markdown",
      "source": [
        "## Graph networkx\n"
      ],
      "metadata": {
        "id": "gFxPpwgXgh_T"
      }
    },
    {
      "cell_type": "code",
      "source": [
        "# Création du graph non orienté\n",
        "GraphGenreLink = nx.from_pandas_edgelist(edge_genre, 'source', 'target', edge_attr = True, create_using=nx.Graph())\n",
        "# On rajoute les attributs aux noeuds\n",
        "df_node = df[df[\"type\"] == \"auteur\"]\n",
        "df_node['Node'] = df_node.index\n",
        "NodeData = df_node.set_index('Node').to_dict('index').items()\n",
        "GraphGenreLink.add_nodes_from(NodeData)\n",
        "print(nx.info(GraphGenreLink))"
      ],
      "metadata": {
        "colab": {
          "base_uri": "https://localhost:8080/"
        },
        "id": "kiwv-2J9gZvN",
        "outputId": "eb5b1906-0335-4aae-baba-e5b68aa38971"
      },
      "execution_count": 220,
      "outputs": [
        {
          "output_type": "stream",
          "name": "stdout",
          "text": [
            "Graph with 1584 nodes and 91863 edges\n"
          ]
        },
        {
          "output_type": "stream",
          "name": "stderr",
          "text": [
            "/usr/local/lib/python3.7/dist-packages/ipykernel_launcher.py:5: SettingWithCopyWarning: \n",
            "A value is trying to be set on a copy of a slice from a DataFrame.\n",
            "Try using .loc[row_indexer,col_indexer] = value instead\n",
            "\n",
            "See the caveats in the documentation: https://pandas.pydata.org/pandas-docs/stable/user_guide/indexing.html#returning-a-view-versus-a-copy\n",
            "  \"\"\"\n"
          ]
        }
      ]
    },
    {
      "cell_type": "markdown",
      "source": [
        "# Contrôle de la taille des articles : création de coefficients de pondérations\n"
      ],
      "metadata": {
        "id": "2fJhS0KX-k3K"
      }
    },
    {
      "cell_type": "markdown",
      "source": [
        "Visualisation de la répartition des tailles d'articles (mise au log)."
      ],
      "metadata": {
        "id": "I9qg6loE2yYt"
      }
    },
    {
      "cell_type": "code",
      "source": [
        "plt.rcParams['figure.figsize'] = [20, 5]\n",
        "plt.hist(np.log(pd.to_numeric(df['taille_html_article'])), bins = 40)"
      ],
      "metadata": {
        "id": "wR5anlsC2i4e"
      },
      "execution_count": null,
      "outputs": []
    },
    {
      "cell_type": "markdown",
      "source": [
        "## Réseau interauteurs via auteurs\n",
        "\n"
      ],
      "metadata": {
        "id": "ExfyZCWJpz0o"
      }
    },
    {
      "cell_type": "markdown",
      "source": [
        "### Visualisation"
      ],
      "metadata": {
        "id": "bBCu_2_dqLQZ"
      }
    },
    {
      "cell_type": "markdown",
      "source": [
        "On visualise la relation entre la taille de l'article d'un auteur et son nombre de connexions (degré sortant). "
      ],
      "metadata": {
        "id": "sldM4Hmp-k3L"
      }
    },
    {
      "cell_type": "code",
      "source": [
        "plt.rcParams['figure.figsize'] = [20, 5]\n",
        "\n",
        "tailles = nx.get_node_attributes(GraphAuthorLink, 'taille_html_article')\n",
        "tailles = pd.DataFrame(tailles.items())\n",
        "degrees = dict()\n",
        "for (node, val) in GraphAuthorLink.out_degree() :\n",
        "  degrees[node] = val\n",
        "degrees = pd.DataFrame(degrees.items())\n",
        "degree_tailles_df = pd.merge(degrees, tailles, on=0, how='outer')\n",
        "degree_tailles_df.columns = ['Id', 'degree', 'taille_html_article']\n",
        "degree_tailles_df['taille_html_article_log'] = np.log(degree_tailles_df['taille_html_article'])\n",
        "sns.lmplot(y = \"degree\", x = \"taille_html_article_log\", data = degree_tailles_df, height = 10, aspect = 15/10).set(ylim=(-1, None))"
      ],
      "metadata": {
        "colab": {
          "base_uri": "https://localhost:8080/",
          "height": 746
        },
        "outputId": "13e5ba60-9cf2-455c-e5f8-720ca85f1df5",
        "id": "YadsGSQB-k3L"
      },
      "execution_count": 251,
      "outputs": [
        {
          "output_type": "execute_result",
          "data": {
            "text/plain": [
              "<seaborn.axisgrid.FacetGrid at 0x7fc3cde65b50>"
            ]
          },
          "metadata": {},
          "execution_count": 251
        },
        {
          "output_type": "display_data",
          "data": {
            "text/plain": [
              "<Figure size 1080x720 with 1 Axes>"
            ],
            "image/png": "[encoded data removed]"
          },
          "metadata": {
            "needs_background": "light"
          }
        }
      ]
    },
    {
      "cell_type": "markdown",
      "source": [
        "### Construction de la pondération"
      ],
      "metadata": {
        "id": "F0QPK64wqySo"
      }
    },
    {
      "cell_type": "markdown",
      "source": [
        "Un poids de la relation de l'auteur $i$ à l'auteur $j$ par la présence d'un hyperlien dans vers $j$ dans la page de $i$ était déjà fixé en fonction du nombre d'hyperliens vers $j$ que l'on trouvait dans la page de $i$ (notons ce poids $w_{i,j}$). Pour déterminer l'influence de la taille d'un article $i$ ($X_{i}$) sur son nombre de connexion ($Y_{i}$), on décide d'effectuer une régression linéaire :\n",
        "\n",
        "$Y_{i} = \\beta log(X_{i}) + ϵ_{i} ~~~~~ (1)~$\n",
        "\n",
        "Notons bien que l'intercept est fixé à 0 (en effet, la relation $f$ entre la taille d'un article x et le nombre d'hypeliens qu'il inclut en son sein $f(x)$ ne fait aucun sens si l'on ne fixe pas $f(x) = 0$, c'est-à-dire simplement qu'un article de taille $0$ ne peut pas avoir d'hyperlien en son sein). Les résidus $ϵ$ de (1) (qu'on maximise à au minimum 0.1 pour éviter de faire disparaître certains liens) sont alors le nombre \"réel\" de relations (c'est à dire le nombre de relations retranché de l'effet artificiel de la taille de l'article) que l'auteur possède avec d'autres auteurs par les hyperliens présents sur sa page. Pour une discussion de ce choix de pondération, se référer à la partie \"Discussion\" du rapport.\n",
        "\n",
        "Les poids $w_{i,j}$ sont donc actualisés en des poids $w'_{i,j}$ de façon à ce que leur somme fasse $ϵ_{i}$. On écrit :\n",
        "\n",
        "$w'_{i,j} = w_{i,j}*\\frac{max(ϵ_{i}, \\: 0.1)}{\\sum_{j}w_{i,j}} ~~~~   (2)$\n"
      ],
      "metadata": {
        "id": "q5NDDj9N-k3L"
      }
    },
    {
      "cell_type": "code",
      "source": [
        "model = smf.ols(\"degree ~ taille_html_article_log -1\", data = degree_tailles_df)\n",
        "model = model.fit()\n",
        "coeff_reg = model.params['taille_html_article_log']\n",
        "# intercept_reg = model.params['Intercept']\n",
        "\n",
        "df['poids_liens_interauteur2'] = None\n",
        "min_true_degrees = 0\n",
        "for auteur in tqdm_notebook(df['name'][df['type'] == 'auteur']) :\n",
        "  idx = int(df[df['name'] == auteur].index[0])\n",
        "  poids = df[df['name'] == auteur]['poids_liens_interauteur']\n",
        "  poids = list(poids)[0]\n",
        "  if poids != [] :\n",
        "    taille_article = df[df['name'] == auteur]['taille_html_article'].values[0]\n",
        "    degree = len(df[df['name'] == auteur]['poids_liens_interauteur'].values[0])\n",
        "    true_degree = degree - coeff_reg*np.log(taille_article)\n",
        "    min_true_degrees = min(min_true_degrees, true_degree)\n",
        "\n",
        "for auteur in tqdm_notebook(df['name'][df['type'] == 'auteur']) :\n",
        "  idx = int(df[df['name'] == auteur].index[0])\n",
        "  poids = df[df['name'] == auteur]['poids_liens_interauteur']\n",
        "  poids = list(poids)[0]\n",
        "  if poids != [] :\n",
        "    true_degree = list(len(df[df['name'] == auteur]['poids_liens_interauteur'].values[0]) - coeff_reg*np.log(pd.to_numeric(df[df['name'] == auteur]['taille_html_article'])))[0]\n",
        "    #normalisation_coeff = (true_degree - min_true_degrees + 0.1) / sum(poids)\n",
        "    normalisation_coeff = max(true_degree, 0.1) / sum(poids)\n",
        "    poids = [poid * normalisation_coeff for poid in poids]\n",
        "  else :\n",
        "    poids = []\n",
        "  df.at[idx,'poids_liens_interauteur2'] = poids"
      ],
      "metadata": {
        "colab": {
          "base_uri": "https://localhost:8080/",
          "height": 168,
          "referenced_widgets": [
            "82d9559e1c8a4ce896ee87f4b787302b",
            "34670eed93204193b671c6b3c9914853",
            "9362285632a14422a8f8d5891a0b5ff2",
            "ee42a538b4d4438495300c2e82efccf9",
            "a3086c88854749b4825988876352199c",
            "8c494e67238f4e379c6c3191b09a1622",
            "d96a24d94cfc4d6fbaf9d3a3ef8bc1af",
            "51c6bfb5bdfa4303b196306e77bec75e",
            "12fc7ac43ae04809ae598afb8f2753a4",
            "d036b97f0daf40c1b2cecc63b8d2e3b7",
            "1b09aede72964ec8920154b98ef6e876",
            "8b0d164bda5a4e3cba6aa0d380e1a725",
            "e92fa5d85198472cb85d9c39c307d9c7",
            "1a9abbc03edf49a6900664bd5ba56ead",
            "50aef16acdf24d2ebc736b66aff4982b",
            "0b2e3a5fd5d24bcf8cfec1bae0647e38",
            "3ac5e2e6b8cc4dc1bd0857aec1ac5f98",
            "504865ef118748ae80bd1f034a0cfc75",
            "6f9613c83990421ab9c109b1e428e065",
            "fe83e1c1032f4a4ea1c7a86c98643fa7",
            "2384c02b873743bfa9a97b8bcc5fd97f",
            "f734657893f04637bfed2909cbc8d36b"
          ]
        },
        "outputId": "76c3ca39-9dda-43f0-da24-65fcf77e8ffb",
        "id": "WU1ZvO-3-k3L"
      },
      "execution_count": 222,
      "outputs": [
        {
          "output_type": "stream",
          "name": "stderr",
          "text": [
            "/usr/local/lib/python3.7/dist-packages/ipykernel_launcher.py:8: TqdmDeprecationWarning: This function will be removed in tqdm==5.0.0\n",
            "Please use `tqdm.notebook.tqdm` instead of `tqdm.tqdm_notebook`\n",
            "  \n"
          ]
        },
        {
          "output_type": "display_data",
          "data": {
            "text/plain": [
              "  0%|          | 0/1584 [00:00<?, ?it/s]"
            ],
            "application/vnd.jupyter.widget-view+json": {
              "version_major": 2,
              "version_minor": 0,
              "model_id": "82d9559e1c8a4ce896ee87f4b787302b"
            }
          },
          "metadata": {}
        },
        {
          "output_type": "stream",
          "name": "stderr",
          "text": [
            "/usr/local/lib/python3.7/dist-packages/ipykernel_launcher.py:18: TqdmDeprecationWarning: This function will be removed in tqdm==5.0.0\n",
            "Please use `tqdm.notebook.tqdm` instead of `tqdm.tqdm_notebook`\n"
          ]
        },
        {
          "output_type": "display_data",
          "data": {
            "text/plain": [
              "  0%|          | 0/1584 [00:00<?, ?it/s]"
            ],
            "application/vnd.jupyter.widget-view+json": {
              "version_major": 2,
              "version_minor": 0,
              "model_id": "8b0d164bda5a4e3cba6aa0d380e1a725"
            }
          },
          "metadata": {}
        }
      ]
    },
    {
      "cell_type": "markdown",
      "source": [
        "Assignation des poids dans l'objet networkx"
      ],
      "metadata": {
        "id": "o6ZUCkCZs5Wj"
      }
    },
    {
      "cell_type": "code",
      "source": [
        "for node in GraphAuthorLink.nodes() :\n",
        "  network = df['network_interauteur'][node]\n",
        "  for i in range(0, len(network)) :\n",
        "    indiv = network[i]\n",
        "    GraphAuthorLink[node][indiv]['weight2'] = df['poids_liens_interauteur2'][node][i]"
      ],
      "metadata": {
        "id": "bJHwTd949N1G"
      },
      "execution_count": 223,
      "outputs": []
    },
    {
      "cell_type": "markdown",
      "source": [
        "## Réseau interauteurs via genres\n"
      ],
      "metadata": {
        "id": "CF2mhsj3izlq"
      }
    },
    {
      "cell_type": "markdown",
      "source": [
        "### Visualisation"
      ],
      "metadata": {
        "id": "KVuY-DwmtHRF"
      }
    },
    {
      "cell_type": "markdown",
      "source": [
        "On visualise la relation entre la taille de l'article d'un auteur et son nombre de connexions (degré). On note que la relation est beaucoup plus discontinue. Cela est dû au fait que certains genres regroupent énormément d'auteurs tels que \"roman\" ou \"art poétique\", et donc cette co-participation à un gros genre augmente mécaniquement le degré des auteurs y participant."
      ],
      "metadata": {
        "id": "lCSS6uVQtlnD"
      }
    },
    {
      "cell_type": "code",
      "source": [
        "plt.rcParams['figure.figsize'] = [20, 5]\n",
        "\n",
        "tailles_genre = nx.get_node_attributes(GraphGenreLink, 'taille_html_article')\n",
        "tailles_genre = pd.DataFrame(tailles_genre.items())\n",
        "degrees_genre = dict()\n",
        "for (node, val) in GraphGenreLink.degree() :\n",
        "  degrees_genre[node] = val\n",
        "degrees_genre = pd.DataFrame(degrees_genre.items())\n",
        "degree_genre_tailles_df = pd.merge(degrees_genre, tailles_genre, on=0, how='outer')\n",
        "degree_genre_tailles_df.columns = ['Id', 'degree', 'taille_html_article']\n",
        "degree_genre_tailles_df['taille_html_article_log'] = np.log(degree_genre_tailles_df['taille_html_article'])\n",
        "sns.lmplot(y = \"degree\", x = \"taille_html_article_log\", data = degree_genre_tailles_df, height = 10, aspect = 15/10).set(ylim=(-4, None))"
      ],
      "metadata": {
        "colab": {
          "base_uri": "https://localhost:8080/",
          "height": 746
        },
        "id": "1BEUVRyeiylL",
        "outputId": "c1d20da6-c1a1-427a-e4f2-45dc7bb99c35"
      },
      "execution_count": 254,
      "outputs": [
        {
          "output_type": "execute_result",
          "data": {
            "text/plain": [
              "<seaborn.axisgrid.FacetGrid at 0x7fc3cf0bf990>"
            ]
          },
          "metadata": {},
          "execution_count": 254
        },
        {
          "output_type": "display_data",
          "data": {
            "text/plain": [
              "<Figure size 1080x720 with 1 Axes>"
            ],
            "image/png": "[encoded data removed]"
          },
          "metadata": {
            "needs_background": "light"
          }
        }
      ]
    },
    {
      "cell_type": "markdown",
      "source": [
        "### Construction de la pondération"
      ],
      "metadata": {
        "id": "Kf_-1q6muONl"
      }
    },
    {
      "cell_type": "markdown",
      "source": [
        "On construit la pondération de la même manière qu'explicité plus haut à une différence près : le réseau est non dirigé (les liens reposent sur la co-participation) et donc la pondération doit prendre en compte les attibuts de chaque noeud du lien, à avoir les tailles des deux articles d'auteurs ici. Pour ce faire, on calcule le coefficient de pondération pour chacun des nouds comme s'il produisait des liens dirigés. Chaque lien a donc deux coefficients de pondération qui lui sont rattachés selon la taille de l'article de chaque auteur du lien. Pour aassigner le poids au lien, on prend la moyenne de ces deux coefficients de pondération."
      ],
      "metadata": {
        "id": "_dp-AixJuSrB"
      }
    },
    {
      "cell_type": "code",
      "source": [
        "model = smf.ols(\"degree ~ taille_html_article_log -1\", data = degree_genre_tailles_df)\n",
        "model = model.fit()\n",
        "coeff_reg = model.params['taille_html_article_log']\n",
        "\n",
        "min_true_degrees = 0\n",
        "for auteur in tqdm_notebook(degree_genre_tailles_df['Id']) :\n",
        "  idx = int(degree_genre_tailles_df[degree_genre_tailles_df['Id'] == auteur].index[0])\n",
        "  if degree_genre_tailles_df.at[idx,'degree'] != 0 :\n",
        "    taille_article = degree_genre_tailles_df.at[idx,'taille_html_article']\n",
        "    degree = degree_genre_tailles_df.at[idx,'degree']\n",
        "    true_degree = degree - coeff_reg*np.log(taille_article)\n",
        "    min_true_degrees = min(min_true_degrees, true_degree)\n",
        "\n",
        "edge_genre['poids_liens_taille_article_source'] = edge_genre['weight']\n",
        "edge_genre['poids_liens_taille_article_target'] = edge_genre['weight']\n",
        "degree_genre_tailles_df['true_degree'] = 0.0\n",
        "for auteur in tqdm_notebook(degree_genre_tailles_df['Id']) :\n",
        "  idx = int(degree_genre_tailles_df[degree_genre_tailles_df['Id'] == auteur].index[0])\n",
        "  if degree_genre_tailles_df.at[idx,'degree'] != 0 :\n",
        "    degree = degree_genre_tailles_df.at[idx,'degree']\n",
        "    taille_article = degree_genre_tailles_df.at[idx,'taille_html_article']\n",
        "    true_degree = degree - coeff_reg*np.log(taille_article)\n",
        "    degree_genre_tailles_df.at[idx, 'true_degree'] = true_degree\n",
        "    sum_poids = edge_genre['weight'][edge_genre['source'] == auteur].sum() + edge_genre['weight'][edge_genre['target'] == auteur].sum()\n",
        "    #normalisation_coeff = (true_degree - min_true_degrees + 0.1) / sum_poids\n",
        "    normalisation_coeff = max(true_degree, 0.1) / sum_poids\n",
        "    index = edge_genre[edge_genre['source'] == auteur].index\n",
        "    if len(index) != 0 :\n",
        "      edge_genre.loc[index, 'poids_liens_taille_article_source'] *= normalisation_coeff\n",
        "    index = edge_genre[edge_genre['target'] == auteur].index\n",
        "    if len(index) != 0 :\n",
        "      edge_genre.loc[index, 'poids_liens_taille_article_target'] *= normalisation_coeff\n",
        "\n",
        "edge_genre['weight2'] = edge_genre[['poids_liens_taille_article_source','poids_liens_taille_article_target']].mean(axis = 1)"
      ],
      "metadata": {
        "colab": {
          "base_uri": "https://localhost:8080/",
          "height": 168,
          "referenced_widgets": [
            "da8b01be86e14e9eb28462a35dbaab9c",
            "208aed65b73d4d2f93be4c8560f89daa",
            "aaabfb12f89045c9bff5feec041afa40",
            "b7c58d6de6874aed9dbba1e023628c7b",
            "f5429e793a9044939b18abc84f9ac276",
            "9cad6aaa7d3649afbbbbac77ee5a3d31",
            "796e12a30f1e4d0b8cb74543f3844148",
            "a04c01048f0d43799a136a7fd62aa9d6",
            "64972c13fcd7493793c1d365ca75c249",
            "8359e7a74bfe45b388898f006f57f586",
            "c2f71f3df5a3473585c201f65f955559",
            "2a23b3c5dd5b483ab7da6cf7b3d11306",
            "315ea94519b74d9f8f4b798e73aae4c3",
            "f409d98cf78844bdba968608a6e9e73d",
            "2dae1a449b474509b53ff643ae666f34",
            "f82e460d6f274d50850b65c83a1ba594",
            "d60b9305bd704b46aea2c18cd6b04baa",
            "73d99a82ade24b6e8d49c38ef08abae1",
            "97255551c0bb4b2d8e345359f191d282",
            "7e4901c8db294ed6a41e89618baf880b",
            "b7011581177043d598086514749fb41b",
            "12d6022bd8564d01b6f8639fa3591e68"
          ]
        },
        "id": "Tf5nObIojOtN",
        "outputId": "61c1b85b-20a9-4abe-bdd4-753799293e9f"
      },
      "execution_count": 225,
      "outputs": [
        {
          "output_type": "stream",
          "name": "stderr",
          "text": [
            "/usr/local/lib/python3.7/dist-packages/ipykernel_launcher.py:6: TqdmDeprecationWarning: This function will be removed in tqdm==5.0.0\n",
            "Please use `tqdm.notebook.tqdm` instead of `tqdm.tqdm_notebook`\n",
            "  \n"
          ]
        },
        {
          "output_type": "display_data",
          "data": {
            "text/plain": [
              "  0%|          | 0/1584 [00:00<?, ?it/s]"
            ],
            "application/vnd.jupyter.widget-view+json": {
              "version_major": 2,
              "version_minor": 0,
              "model_id": "da8b01be86e14e9eb28462a35dbaab9c"
            }
          },
          "metadata": {}
        },
        {
          "output_type": "stream",
          "name": "stderr",
          "text": [
            "/usr/local/lib/python3.7/dist-packages/ipykernel_launcher.py:18: TqdmDeprecationWarning: This function will be removed in tqdm==5.0.0\n",
            "Please use `tqdm.notebook.tqdm` instead of `tqdm.tqdm_notebook`\n"
          ]
        },
        {
          "output_type": "display_data",
          "data": {
            "text/plain": [
              "  0%|          | 0/1584 [00:00<?, ?it/s]"
            ],
            "application/vnd.jupyter.widget-view+json": {
              "version_major": 2,
              "version_minor": 0,
              "model_id": "2a23b3c5dd5b483ab7da6cf7b3d11306"
            }
          },
          "metadata": {}
        }
      ]
    },
    {
      "cell_type": "markdown",
      "source": [
        "Assignation des poids à l'objet networkx"
      ],
      "metadata": {
        "id": "nH-0F9fIv12n"
      }
    },
    {
      "cell_type": "code",
      "source": [
        "# Création du graph non orienté\n",
        "GraphGenreLink = nx.from_pandas_edgelist(edge_genre, 'source', 'target', edge_attr = True, create_using=nx.Graph())\n",
        "# On rajoute les attributs\n",
        "df_node = df[df[\"type\"] == \"auteur\"]\n",
        "df_node['Node'] = df_node.index\n",
        "NodeData = df_node.set_index('Node').to_dict('index').items()\n",
        "GraphGenreLink.add_nodes_from(NodeData)\n",
        "print(nx.info(GraphGenreLink)) "
      ],
      "metadata": {
        "colab": {
          "base_uri": "https://localhost:8080/"
        },
        "id": "nNfRpPE3oXC8",
        "outputId": "84953923-b61e-47f4-b6bc-19b3efcd4264"
      },
      "execution_count": 226,
      "outputs": [
        {
          "output_type": "stream",
          "name": "stdout",
          "text": [
            "Graph with 1584 nodes and 91863 edges\n"
          ]
        },
        {
          "output_type": "stream",
          "name": "stderr",
          "text": [
            "/usr/local/lib/python3.7/dist-packages/ipykernel_launcher.py:5: SettingWithCopyWarning: \n",
            "A value is trying to be set on a copy of a slice from a DataFrame.\n",
            "Try using .loc[row_indexer,col_indexer] = value instead\n",
            "\n",
            "See the caveats in the documentation: https://pandas.pydata.org/pandas-docs/stable/user_guide/indexing.html#returning-a-view-versus-a-copy\n",
            "  \"\"\"\n"
          ]
        }
      ]
    },
    {
      "cell_type": "markdown",
      "source": [
        "# Contrôle de l'éclatement des genres : création de coefficients de pondérations"
      ],
      "metadata": {
        "id": "F7-BFfIm-k3M"
      }
    },
    {
      "cell_type": "markdown",
      "source": [
        "Les genres sont problématiques car leur dénombrement est confronté à de nombreux biais. Notamment, certains genres sont imbriqués les uns dans les autres ('roman historique' est une sous-catégorie de 'roman' par exemple), ce qui les démultiplie artificiellement. Cependant on ne peut pas non plus les subsumer les uns dans les autres car on est confronté à la création de nouvelles interférences : quels genres subsumer, à quel niveau ? Tous les genres ne sont pas exactement imbriqués les uns dans les autres, et les recoupements se font dans un espace continu, comment prendre cette dimension en compte ? \n",
        "\n",
        "Notre projet avait ainsi défini le genre littéraire : un vision de l'écriture ou une manière d'écrire qui peut se définir par une communauté d'auteurs partageant cette vision ou empruntant des éléments du genre en question dans leur propre travail. Si un genre peut se définir par une communauté d'auteurs, on peut alors dire que la proximité entre deux genres peut se mesurer par le nombre d'auteurs communs à leurs communautés respectives. Pour un genre $i$, on peut définir un poids $w_{i}$ tel que : \n",
        "\n",
        "$w_{i} = \\prod_{j} \\frac{\\#(auteur \\: dans \\: i \\: ou \\: j)}{\\#(auteurs \\: dans \\: i) \\:+\\: \\#(auteurs \\: dans \\: j)} ~~~~ (3)$\n",
        "\n",
        "Plus un genre se distingue des autres genres en termes de communauté d'auteurs, plus son coefficient de pondération associé sera proche de 1."
      ],
      "metadata": {
        "id": "8jwb903s-k3M"
      }
    },
    {
      "cell_type": "code",
      "source": [
        "df['poids_genre'] = None\n",
        "df.loc[df['type'] == 'genre', 'poids_genre'] = 1\n",
        "\n",
        "for genre in tqdm_notebook(np.unique(df[df['type'] == 'genre']['name'])) :\n",
        "  for genre_bis in np.unique(df[df['type'] == 'genre']['name']) :\n",
        "    if genre != genre_bis :\n",
        "      auteurs_du_genre = df.loc[df['name'] == genre, 'auteurs_du_genre']\n",
        "      auteurs_du_genre_bis = df.loc[df['name'] == genre_bis, 'auteurs_du_genre']\n",
        "      liste = list(auteurs_du_genre)[0]\n",
        "      liste_bis = list(auteurs_du_genre_bis)[0]\n",
        "      if (len(liste) != 0) & (len(liste_bis) != 0) :\n",
        "        coeff = len(np.unique(liste + liste_bis)) / (len(liste) + len(liste_bis))\n",
        "        df.loc[df['name'] == genre, 'poids_genre'] = df.loc[df['name'] == genre, 'poids_genre']*((1+ coeff)/2)\n",
        "        "
      ],
      "metadata": {
        "colab": {
          "base_uri": "https://localhost:8080/",
          "height": 101,
          "referenced_widgets": [
            "a7b03bbb01d04bf89b7e88c72d3bb0c5",
            "f8fb050d2d6a4b8d970f301a3fe41a1c",
            "da00d842c13f4269b788dcedcebfcdc6",
            "0412177223234e8b841dad9053082105",
            "3ae0e81bc3d348f4ba82d538c15cddc0",
            "5bf5e06cb62649f28cc02608a3a1e759",
            "3f35a16c04914256a640b2f5938737f7",
            "061f14e0019a4bc8a602cedf893e377f",
            "7454819448be4a2e824b8555d32b4bf1",
            "a7f063d34ce344e39cc1b3a08fca8a31",
            "f87fd1e014c84805b4e17cf67dab9462"
          ]
        },
        "outputId": "e92e0566-662f-48fd-a4c6-f41675e2222c",
        "id": "7Q_r0Cz5-k3M"
      },
      "execution_count": 228,
      "outputs": [
        {
          "output_type": "stream",
          "name": "stderr",
          "text": [
            "/usr/local/lib/python3.7/dist-packages/ipykernel_launcher.py:4: TqdmDeprecationWarning: This function will be removed in tqdm==5.0.0\n",
            "Please use `tqdm.notebook.tqdm` instead of `tqdm.tqdm_notebook`\n",
            "  after removing the cwd from sys.path.\n"
          ]
        },
        {
          "output_type": "display_data",
          "data": {
            "text/plain": [
              "  0%|          | 0/190 [00:00<?, ?it/s]"
            ],
            "application/vnd.jupyter.widget-view+json": {
              "version_major": 2,
              "version_minor": 0,
              "model_id": "a7b03bbb01d04bf89b7e88c72d3bb0c5"
            }
          },
          "metadata": {}
        }
      ]
    },
    {
      "cell_type": "markdown",
      "source": [
        "Pour le graph interauteurs via genres, il faut pouvoir traduire les poids des genres en poids des liens entre deux auteurs. Le poids du lien entre les nodes $i$ et $j$ est alors défini comme la somme des poids des genres qu'ils ont en commun. "
      ],
      "metadata": {
        "id": "gel92v_UCJg0"
      }
    },
    {
      "cell_type": "code",
      "source": [
        "for source, target in tqdm_notebook(GraphGenreLink.edges()) :\n",
        "  genres_source = df.iloc[source]['genres_mentionnes']\n",
        "  genres_target = df.iloc[target]['genres_mentionnes']\n",
        "  genres_communs = [genre for genre in genres_source if genre in genres_target]\n",
        "  genres_communs_poids = [df.iloc[genre]['poids_genre'] for genre in genres_communs]\n",
        "  weight = np.sum(genres_communs_poids)\n",
        "  GraphGenreLink[source][target]['weight3'] = weight"
      ],
      "metadata": {
        "id": "JKyFkPUv3X90",
        "outputId": "89ad6ad4-f32d-4e1d-dc78-748086127e80",
        "colab": {
          "base_uri": "https://localhost:8080/",
          "height": 101,
          "referenced_widgets": [
            "95ca22b818e845498f513de35523456c",
            "a277beef87374156885ddeaf4d0df6bf",
            "f36fe053c4224536a7348e5cdae3f348",
            "4265b6534e744c72b444b081656d3757",
            "33b2d115d3f34f52b7e93cc0f1197e4f",
            "22e76d4d210f439e8ef76d6033184371",
            "312d749e3170403bbef7a1731454c39b",
            "16a4aafad11a4edc896989930660b4ed",
            "bf53c58b578d41e9a8828be8cc001151",
            "5f040e0846f34ec8a5468bde76ee67c2",
            "532c5bf0d256474ab0a1aea8b30f9a5b"
          ]
        }
      },
      "execution_count": 231,
      "outputs": [
        {
          "output_type": "stream",
          "name": "stderr",
          "text": [
            "/usr/local/lib/python3.7/dist-packages/ipykernel_launcher.py:1: TqdmDeprecationWarning: This function will be removed in tqdm==5.0.0\n",
            "Please use `tqdm.notebook.tqdm` instead of `tqdm.tqdm_notebook`\n",
            "  \"\"\"Entry point for launching an IPython kernel.\n"
          ]
        },
        {
          "output_type": "display_data",
          "data": {
            "text/plain": [
              "  0%|          | 0/91863 [00:00<?, ?it/s]"
            ],
            "application/vnd.jupyter.widget-view+json": {
              "version_major": 2,
              "version_minor": 0,
              "model_id": "95ca22b818e845498f513de35523456c"
            }
          },
          "metadata": {}
        }
      ]
    },
    {
      "cell_type": "markdown",
      "source": [
        "Enfin, on concilie nos deux approches de pondération en créant un dernière pondération qui prend en compte les deux dimensions (biais de la taille des articles et biais de la catégorisation des genres) : on associe au lien entre deux auteurs pour le réseau interauteurs via genre le poids correpondant au produit des deux coefficients de pondération précédemment calculés."
      ],
      "metadata": {
        "id": "2YUrvsiAxmwP"
      }
    },
    {
      "cell_type": "code",
      "source": [
        "  GraphGenreLink[source][target]['weight4'] = GraphGenreLink[source][target]['weight2'] * GraphGenreLink[source][target]['weight3']"
      ],
      "metadata": {
        "id": "BmOe-MsFxkhg"
      },
      "execution_count": null,
      "outputs": []
    },
    {
      "cell_type": "markdown",
      "source": [
        "# Statisiques descriptives du réseau 1 (interauteurs via auteurs)"
      ],
      "metadata": {
        "id": "j3-bGTmxA732"
      }
    },
    {
      "cell_type": "markdown",
      "source": [
        "Caractérisitique du graph des auteurs liés par les hyperliens sans isolats. "
      ],
      "metadata": {
        "id": "QN5vjeBxzVyX"
      }
    },
    {
      "cell_type": "code",
      "source": [
        "# Removing isolates\n",
        "GraphAuthorLink_withoutiso = GraphAuthorLink\n",
        "GraphAuthorLink_withoutiso.remove_nodes_from(list(nx.isolates(GraphAuthorLink_withoutiso)))\n",
        "\n",
        "print('Dirigé :')\n",
        "print(type(GraphAuthorLink))\n",
        "print('\\nNombre de noeuds :')\n",
        "print(GraphAuthorLink_withoutiso.number_of_nodes())\n",
        "print('\\nDensité :')\n",
        "print(nx.density(GraphAuthorLink_withoutiso))\n",
        "print('\\nRéciprocité globale :')\n",
        "print(nx.reciprocity(GraphAuthorLink_withoutiso))\n",
        "print('\\nTransitivité :')\n",
        "print(nx.transitivity(GraphAuthorLink_withoutiso)) # Coeff de cluster global\n",
        "print('\\nAverage clustering :')\n",
        "print(nx.average_clustering(GraphAuthorLink_withoutiso)) \n",
        "print('\\nNombre de cliques :')\n",
        "print(len(list(nx.find_cliques(GraphAuthorLink_withoutiso.to_undirected()))))\n",
        "print('\\nLe graph est connecté :')\n",
        "print(nx.is_connected(GraphAuthorLink_withoutiso.to_undirected()))\n",
        "print('\\nLe graph est faiblement connecté :')\n",
        "print(nx.is_weakly_connected(GraphAuthorLink_withoutiso))"
      ],
      "metadata": {
        "colab": {
          "base_uri": "https://localhost:8080/"
        },
        "id": "IW4q4OBDor8n",
        "outputId": "5a6e0e3b-97a7-4dcd-aae2-2af6cde85ac5"
      },
      "execution_count": 235,
      "outputs": [
        {
          "output_type": "stream",
          "name": "stdout",
          "text": [
            "Dirigé :\n",
            "<class 'networkx.classes.digraph.DiGraph'>\n",
            "\n",
            "Nombre de noeuds :\n",
            "1250\n",
            "\n",
            "Densité :\n",
            "0.008340112089671737\n",
            "\n",
            "Réciprocité globale :\n",
            "0.5131710314107979\n",
            "\n",
            "Transitivité :\n",
            "0.3258701289432364\n",
            "\n",
            "Average clustering :\n",
            "0.201685607790658\n",
            "\n",
            "Nombre de cliques :\n",
            "6421\n",
            "\n",
            "Le graph est connecté :\n",
            "False\n",
            "\n",
            "Le graph est faiblement connecté :\n",
            "False\n"
          ]
        }
      ]
    },
    {
      "cell_type": "markdown",
      "source": [
        "# Statisiques descriptives du réseau 2 (interauteurs via genres)"
      ],
      "metadata": {
        "id": "6Ii8nLlRgnxf"
      }
    },
    {
      "cell_type": "markdown",
      "source": [
        "Caractérisitique du graph des auteurs liés par les genres sans isolats. "
      ],
      "metadata": {
        "id": "f5wVHhhjgnxg"
      }
    },
    {
      "cell_type": "code",
      "source": [
        "# Removing isolates\n",
        "GraphGenreLink_withoutiso = GraphGenreLink.copy()\n",
        "GraphGenreLink_withoutiso.remove_nodes_from(list(nx.isolates(GraphGenreLink_withoutiso)))\n",
        "\n",
        "print('Dirigé :')\n",
        "print(type(GraphGenreLink))\n",
        "print('\\nNombre de noeuds :')\n",
        "print(GraphGenreLink.number_of_nodes())\n",
        "print('\\nNombre de noeuds non isolés :')\n",
        "print(GraphGenreLink_withoutiso.number_of_nodes())\n",
        "print('\\nDensité :')\n",
        "#print(nx.density(GraphGenreLink_withoutiso)) # Pas de réciprocité, le graph est non dirigé\n",
        "#print('\\nRéciprocité globale :')\n",
        "print(nx.reciprocity(GraphGenreLink_withoutiso))\n",
        "print('\\nTransitivité :')\n",
        "print(nx.transitivity(GraphGenreLink_withoutiso)) # Coeff de cluster global\n",
        "print('\\nAverage clustering :')\n",
        "print(nx.average_clustering(GraphGenreLink_withoutiso)) \n",
        "print('\\nNombre de cliques :')\n",
        "print(len(list(nx.find_cliques(GraphGenreLink_withoutiso))))\n",
        "print('\\nLe graph est connecté :')\n",
        "print(nx.is_connected(GraphGenreLink))\n"
      ],
      "metadata": {
        "colab": {
          "base_uri": "https://localhost:8080/"
        },
        "outputId": "6092faf2-d39c-487c-8381-77f48c535ba1",
        "id": "RIV7kcgTgnxg"
      },
      "execution_count": 236,
      "outputs": [
        {
          "output_type": "stream",
          "name": "stdout",
          "text": [
            "Dirigé :\n",
            "<class 'networkx.classes.graph.Graph'>\n",
            "\n",
            "Nombre de noeuds :\n",
            "1584\n",
            "\n",
            "Nombre de noeuds non isolés :\n",
            "731\n",
            "\n",
            "Densité :\n",
            "0.0\n",
            "\n",
            "Transitivité :\n",
            "0.9280802707512089\n",
            "\n",
            "Average clustering :\n",
            "0.9037918887809653\n",
            "\n",
            "Nombre de cliques :\n",
            "592\n",
            "\n",
            "Le graph est connecté :\n",
            "False\n"
          ]
        }
      ]
    },
    {
      "cell_type": "markdown",
      "source": [
        "# Question 1 : Les structures des réseaux 1 et 2 sont-elles comparables ? "
      ],
      "metadata": {
        "id": "fU1bMAs-beA2"
      }
    },
    {
      "cell_type": "markdown",
      "source": [
        "On établit des métriques qui servent à comparer les deux réseaux. \n"
      ],
      "metadata": {
        "id": "uhZDMM2geo95"
      }
    },
    {
      "cell_type": "markdown",
      "source": [
        "## Comparaison des noeuds les plus importants de chacun des réseaux"
      ],
      "metadata": {
        "id": "4Vi6avyuhjXF"
      }
    },
    {
      "cell_type": "code",
      "source": [
        "matrix_data_importance = np.zeros((100,100))\n",
        "\n",
        "for importance_noeud_genre in tqdm_notebook(range(1, 100)) :\n",
        "\n",
        "  for importance_noeud_hyperlink in range(1, 100) :\n",
        "\n",
        "    central_AuthorLink = dict(sorted(nx.degree_centrality(GraphAuthorLink).items(), key = itemgetter(1), reverse = True)[:importance_noeud_hyperlink])\n",
        "    central_GenreLink = dict(sorted(nx.degree_centrality(GraphGenreLink).items(), key = itemgetter(1), reverse = True)[:importance_noeud_genre])\n",
        "\n",
        "    common_central_nodes = central_AuthorLink.keys() & central_GenreLink.keys()\n",
        "    ratio_genre_dans_hyperlink = len(common_central_nodes) / importance_noeud_hyperlink\n",
        "\n",
        "    matrix_data_importance[importance_noeud_genre][importance_noeud_hyperlink] = ratio_genre_dans_hyperlink"
      ],
      "metadata": {
        "id": "3qM43xYYfo46",
        "colab": {
          "base_uri": "https://localhost:8080/",
          "height": 101,
          "referenced_widgets": [
            "7d94cb9edf99458e9ef1155488d1957f",
            "6b806513ce84433880a06cc8decfdf80",
            "360cecf97b3849f5976e13553b7e9824",
            "7e28481af79343fcbc89eecb91cf0e37",
            "c70b6a01e0c2468ca21b78c41b1ebc20",
            "af0737c63bd842ada81c75d3b8f78abd",
            "cf4ca3f797204f18b5abf507be11d0d6",
            "815f42de49d04ff8bcb603704f50fe53",
            "f6a8d887e8804e248464b13c4b8ed6af",
            "1039efd7f1c04d7598e6e69a0e68f24d",
            "78818dd97eb84874a95a26194764e206"
          ]
        },
        "outputId": "c35043f2-e7e8-4219-80cb-17c7a662c3e7"
      },
      "execution_count": 237,
      "outputs": [
        {
          "output_type": "stream",
          "name": "stderr",
          "text": [
            "/usr/local/lib/python3.7/dist-packages/ipykernel_launcher.py:6: TqdmDeprecationWarning: This function will be removed in tqdm==5.0.0\n",
            "Please use `tqdm.notebook.tqdm` instead of `tqdm.tqdm_notebook`\n",
            "  \n"
          ]
        },
        {
          "output_type": "display_data",
          "data": {
            "text/plain": [
              "  0%|          | 0/99 [00:00<?, ?it/s]"
            ],
            "application/vnd.jupyter.widget-view+json": {
              "version_major": 2,
              "version_minor": 0,
              "model_id": "7d94cb9edf99458e9ef1155488d1957f"
            }
          },
          "metadata": {}
        }
      ]
    },
    {
      "cell_type": "code",
      "source": [
        "plt.rcParams['figure.figsize'] = [15, 12]\n",
        "\n",
        "heatmap_data_importance = pd.DataFrame(matrix_data_importance)\n",
        "# heatmap_data_importance = heatmap_data_importance.reindex(index = heatmap_data_importance.index[::-1])\n",
        "\n",
        "sns.heatmap(heatmap_data_importance)\n",
        "plt.xlabel(\"Des x noeuds les plus importants dans le graph genre...\")\n",
        "plt.ylabel(\"% sont dans les y noeuds les plus importants du graph hyperlink.\")\n",
        "plt.tick_params(axis='both', which='major', labelsize=10, labelbottom = False, bottom=False, top = False, labeltop=True)"
      ],
      "metadata": {
        "id": "MNwsOL3Cic89",
        "colab": {
          "base_uri": "https://localhost:8080/",
          "height": 714
        },
        "outputId": "84143935-7ce1-4f9f-942f-bb8f25d04b0c"
      },
      "execution_count": 238,
      "outputs": [
        {
          "output_type": "display_data",
          "data": {
            "text/plain": [
              "<Figure size 1080x864 with 2 Axes>"
            ],
            "image/png": "[encoded data removed]"
          },
          "metadata": {
            "needs_background": "light"
          }
        }
      ]
    },
    {
      "cell_type": "code",
      "source": [
        "y_egal_5 = heatmap_data_importance[5]\n",
        "y_egal_10 = heatmap_data_importance[10]\n",
        "y_egal_20 = heatmap_data_importance[20]\n",
        "y_egal_50 = heatmap_data_importance[50]\n",
        "y_egal_80 = heatmap_data_importance[80]\n",
        "x_axis = heatmap_data_importance.columns + 1\n",
        "\n",
        "plt.plot(x_axis, y_egal_5, label = 'y_egal_5')\n",
        "plt.plot(x_axis, y_egal_10, label = 'y_egal_10')\n",
        "plt.plot(x_axis, y_egal_20, label = 'y_egal_20')\n",
        "plt.plot(x_axis, y_egal_50, label = 'y_egal_50')\n",
        "plt.plot( x_axis, y_egal_80, label = 'y_egal_80')\n",
        "plt.ylabel(\"% des y noeuds les plus importants du graph genre...\")\n",
        "plt.xlabel(\"...sont dans les x plus importants du graph hyperlink.\")\n",
        "plt.legend()\n",
        "plt.show()"
      ],
      "metadata": {
        "id": "VpIE53obs1Rw",
        "colab": {
          "base_uri": "https://localhost:8080/",
          "height": 714
        },
        "outputId": "212d47d8-ed3b-49cc-cbfb-ae1e37976a80"
      },
      "execution_count": 239,
      "outputs": [
        {
          "output_type": "display_data",
          "data": {
            "text/plain": [
              "<Figure size 1080x864 with 1 Axes>"
            ],
            "image/png": "[encoded data removed]"
          },
          "metadata": {
            "needs_background": "light"
          }
        }
      ]
    },
    {
      "cell_type": "markdown",
      "source": [
        "## Comparaison de la distribution des degrés d'un graph à l'autre"
      ],
      "metadata": {
        "id": "p_fTEBIaveYA"
      }
    },
    {
      "cell_type": "code",
      "source": [
        "degrees_auteur = dict(GraphAuthorLink.out_degree(weight = 'weight2'))\n",
        "degrees_genre = dict(GraphGenreLink.degree(weight = 'weight4'))\n",
        "\n",
        "degree_df = pd.merge(pd.DataFrame(degrees_auteur, index = ['Degree auteur']).T, pd.DataFrame(degrees_genre, index = ['Degree genre']).T, left_index = True, right_index = True)"
      ],
      "metadata": {
        "id": "3NAauTosvefx"
      },
      "execution_count": 240,
      "outputs": []
    },
    {
      "cell_type": "code",
      "source": [
        "sns.lmplot(y = \"Degree auteur\", x = \"Degree genre\", data = degree_df, height = 10, aspect = 15/10)"
      ],
      "metadata": {
        "colab": {
          "base_uri": "https://localhost:8080/",
          "height": 746
        },
        "id": "cskknzI_v1bf",
        "outputId": "a3dc351d-728b-4d60-d42f-213b1defad4f"
      },
      "execution_count": 243,
      "outputs": [
        {
          "output_type": "execute_result",
          "data": {
            "text/plain": [
              "<seaborn.axisgrid.FacetGrid at 0x7fc3d9344d10>"
            ]
          },
          "metadata": {},
          "execution_count": 243
        },
        {
          "output_type": "display_data",
          "data": {
            "text/plain": [
              "<Figure size 1080x720 with 1 Axes>"
            ],
            "image/png": "[encoded data removed]"
          },
          "metadata": {
            "needs_background": "light"
          }
        }
      ]
    },
    {
      "cell_type": "code",
      "source": [
        "BOOL = (degree_df['Degree auteur'] != 0.1) & (degree_df['Degree genre'] != 0)\n",
        "sns.lmplot(y = \"Degree auteur\", x = \"Degree genre\", data = degree_df[BOOL], height = 10, aspect = 15/10)"
      ],
      "metadata": {
        "colab": {
          "base_uri": "https://localhost:8080/",
          "height": 746
        },
        "id": "9GRMHM9wK23u",
        "outputId": "d072216d-0ea7-4c43-f74a-ee3bf68a813b"
      },
      "execution_count": 248,
      "outputs": [
        {
          "output_type": "execute_result",
          "data": {
            "text/plain": [
              "<seaborn.axisgrid.FacetGrid at 0x7fc3ce59ec90>"
            ]
          },
          "metadata": {},
          "execution_count": 248
        },
        {
          "output_type": "display_data",
          "data": {
            "text/plain": [
              "<Figure size 1080x720 with 1 Axes>"
            ],
            "image/png": "[encoded data removed]"
          },
          "metadata": {
            "needs_background": "light"
          }
        }
      ]
    },
    {
      "cell_type": "markdown",
      "source": [
        "S'il semble y avoir un lien positif entre certaines caractéristiques des deux réseaux, ce lien ne permet de conclure à une franche similarité de ces derniers."
      ],
      "metadata": {
        "id": "zcGg3qXGzfTd"
      }
    },
    {
      "cell_type": "markdown",
      "source": [
        "# Question 2 : Est-ce que une structure du réseau d'auteur permet d'expliquer l'émergence des genres ? \n"
      ],
      "metadata": {
        "id": "XKhHI2SBGCvS"
      }
    },
    {
      "cell_type": "markdown",
      "source": [
        "On utilise dans la suite le réseau 1 (réseau interauteurs via auteurs) pour rendre compte des phénomènes d'émergence de genre. Le but est d'évaluer si les connexions entre individus (sur Wikipédia) recréent des mouvements collectifs : il est donc logique de s'appuyer sur ce réseau (et non le réseau 2 qui est construit par l'appartenence au genre)."
      ],
      "metadata": {
        "id": "wD8Y765t0oAY"
      }
    },
    {
      "cell_type": "markdown",
      "source": [
        "## Baseline (sans poids)"
      ],
      "metadata": {
        "id": "kuwAKMobz1Ky"
      }
    },
    {
      "cell_type": "markdown",
      "source": [
        "On visualise notre variable dépendente : le nombre de nouveaux genres littéraires apparaissant à une date donnée. "
      ],
      "metadata": {
        "id": "E3bw6y04GVyU"
      }
    },
    {
      "cell_type": "code",
      "source": [
        "import matplotlib.pyplot as plt\n",
        "plt.rcParams['figure.figsize'] = [20, 5]\n",
        "\n",
        "df_genre = df[df['type'] == 'genre']\n",
        "df_genre = df_genre[df_genre['debut_genre'] != 9999]\n",
        "\n",
        "plt.hist(df_genre['debut_genre'], bins = 40)"
      ],
      "metadata": {
        "id": "uhnsCpErOqs9"
      },
      "execution_count": null,
      "outputs": []
    },
    {
      "cell_type": "markdown",
      "source": [
        "On produit des métriques pour chaque sous-graphe par année pour tester visuellement s'il existe une relation potentielle entre les structures du réseau et l'apparition d'un nouveau genre."
      ],
      "metadata": {
        "id": "QdcuX2XRGeeO"
      }
    },
    {
      "cell_type": "code",
      "source": [
        "# Year subsets and building metrics\n",
        "df_auteurs = df[df['type'] == 'auteur']\n",
        "measure_list = {}\n",
        "for année in tqdm_notebook(reversed(range(1000, 2025, 5))) :\n",
        "  selected_nodes = [node for node, value in GraphAuthorLink.nodes(data=True) if (value['date_mort'] >= année) & (value['date_naissance'] <= année)] \n",
        "  subgraph = GraphAuthorLink.subgraph(selected_nodes)\n",
        "  # if len(selected_nodes) > 10 :\n",
        "  if len(selected_nodes) > 1 :\n",
        "    try :\n",
        "      subgraph_undirected = subgraph.to_undirected()\n",
        "      subgraph_undirected_connected_components = sorted(nx.connected_components(subgraph_undirected), key=len, reverse=True)\n",
        "      subgraph_undirected_giant = subgraph_undirected.subgraph(subgraph_undirected_connected_components[0])\n",
        "      community = community_louvain.best_partition(subgraph_undirected, randomize = False)\n",
        "      community_giant = community_louvain.best_partition(subgraph_undirected_giant, randomize = False)\n",
        "      measure_list[année] = {'graph_size' : subgraph.number_of_nodes(),\n",
        "                             'graph_giant_size' : subgraph_undirected_giant.number_of_nodes(),\n",
        "                             'density_undirected' : nx.density(subgraph_undirected),\n",
        "                             'density_directed' : nx.density(subgraph), \n",
        "                             'density_giant' : nx.density(subgraph_undirected_giant),\n",
        "                             'average_clustering' : nx.average_clustering(subgraph_undirected_giant),\n",
        "                             'transitivity' : nx.transitivity(subgraph),\n",
        "                             'community' : max(list(community)),\n",
        "                             'community_giant' : max(list(community_giant.values())),\n",
        "                             'community_giant_variance' : np.var(list(community_giant.values())),\n",
        "                             'modularity' : community_louvain.modularity(community_giant, subgraph_undirected_giant)}\n",
        "    except : \n",
        "      pass\n",
        "\n",
        "annee_data = pd.DataFrame(measure_list).T\n",
        "annee_data['annee'] = annee_data.index"
      ],
      "metadata": {
        "id": "uycU4-dHTjQM"
      },
      "execution_count": null,
      "outputs": []
    },
    {
      "cell_type": "markdown",
      "source": [
        "### Taille du réseau et de sa composante géante"
      ],
      "metadata": {
        "id": "rm3jTKTK0ZDV"
      }
    },
    {
      "cell_type": "code",
      "source": [
        "plt.rcParams['figure.figsize'] = [15, 10]\n",
        "\n",
        "plt.plot(annee_data['annee'], annee_data['graph_size'], label = 'graph_size')\n",
        "plt.plot(annee_data['annee'], annee_data['graph_giant_size'], label = 'graph_giant_size')\n",
        "plt.legend()\n",
        "plt.show()"
      ],
      "metadata": {
        "id": "s0VOevU_VtBl"
      },
      "execution_count": null,
      "outputs": []
    },
    {
      "cell_type": "markdown",
      "source": [
        "### Mesures de densité\n"
      ],
      "metadata": {
        "id": "jjUmC5X60fsP"
      }
    },
    {
      "cell_type": "code",
      "source": [
        "plt.rcParams['figure.figsize'] = [15, 10]\n",
        "\n",
        "plt.plot(annee_data['annee'], annee_data['density_directed'], label = 'density_directed')\n",
        "plt.plot(annee_data['annee'], annee_data['density_undirected'], label = 'density_undirected')\n",
        "plt.plot(annee_data['annee'], annee_data['density_giant'], label = 'density_giant')\n",
        "plt.legend()\n",
        "plt.show()"
      ],
      "metadata": {
        "id": "LjylrEiWYmDh"
      },
      "execution_count": null,
      "outputs": []
    },
    {
      "cell_type": "markdown",
      "source": [
        "### Mesure de transitivité"
      ],
      "metadata": {
        "id": "GDGHGLgh1UOr"
      }
    },
    {
      "cell_type": "code",
      "source": [
        "plt.rcParams['figure.figsize'] = [15, 10]\n",
        "\n",
        "plt.plot(annee_data['annee'], annee_data['transitivity'], label = 'transitivity')\n",
        "plt.legend()\n",
        "plt.show()"
      ],
      "metadata": {
        "id": "wP9LZf_wYkF9"
      },
      "execution_count": null,
      "outputs": []
    },
    {
      "cell_type": "markdown",
      "source": [
        "### Mesure de clusterisation (moyenne des coefficients locaux de clusterisation)"
      ],
      "metadata": {
        "id": "MeF5O-JU1Y5F"
      }
    },
    {
      "cell_type": "code",
      "source": [
        "plt.rcParams['figure.figsize'] = [15, 10]\n",
        "\n",
        "plt.plot(annee_data['annee'], annee_data['average_clustering'], label = 'average_clustering')\n",
        "plt.legend()\n",
        "plt.show()"
      ],
      "metadata": {
        "id": "qKb3FIBiYiDU"
      },
      "execution_count": null,
      "outputs": []
    },
    {
      "cell_type": "markdown",
      "source": [
        "### Mesure du nombre de communautés détectées par l'algorithme de Louvain"
      ],
      "metadata": {
        "id": "uvtBA-Im1mf0"
      }
    },
    {
      "cell_type": "code",
      "source": [
        "plt.rcParams['figure.figsize'] = [15, 10]\n",
        "\n",
        "plt.plot(annee_data['annee'], annee_data['community'], label = 'community')\n",
        "plt.plot(annee_data['annee'], annee_data['community_giant'], label = 'community_giant')\n",
        "plt.legend()\n",
        "plt.show()"
      ],
      "metadata": {
        "id": "aUUuaKi79QfG"
      },
      "execution_count": null,
      "outputs": []
    },
    {
      "cell_type": "markdown",
      "source": [
        "### Mesure de variance et de modularité"
      ],
      "metadata": {
        "id": "SXs2iZx314WM"
      }
    },
    {
      "cell_type": "code",
      "source": [
        "plt.rcParams['figure.figsize'] = [15, 10]\n",
        "\n",
        "plt.plot(annee_data['annee'], annee_data['community_giant_variance'], label = 'community_giant_variance')\n",
        "plt.legend()\n",
        "plt.show()"
      ],
      "metadata": {
        "id": "DF_BhMKsIrAM"
      },
      "execution_count": null,
      "outputs": []
    },
    {
      "cell_type": "code",
      "source": [
        "plt.rcParams['figure.figsize'] = [15, 10]\n",
        "\n",
        "plt.plot(annee_data['annee'], annee_data['modularity'], label = 'modularity')\n",
        "plt.legend()\n",
        "plt.show()"
      ],
      "metadata": {
        "id": "fXloQ6qlKuiH"
      },
      "execution_count": null,
      "outputs": []
    },
    {
      "cell_type": "markdown",
      "source": [
        "Comparaison"
      ],
      "metadata": {
        "id": "cRQ0wZ_mY3th"
      }
    },
    {
      "cell_type": "code",
      "source": [
        "plt.rcParams['figure.figsize'] = [20, 5]\n",
        "\n",
        "df_genre = df[df['type'] == 'genre']\n",
        "df_genre = df_genre[df_genre['debut_genre'] != 9999]\n",
        "\n",
        "fig, ax1 = plt.subplots()\n",
        "\n",
        "ax2 = ax1.twinx()\n",
        "ax1.plot(annee_data['annee'], annee_data['average_clustering'], label = 'average_clustering')\n",
        "sns.kdeplot(df_genre['debut_genre'], bw=0.05, ax = ax2)\n",
        "\n",
        "ax1.set_xlabel('Year')\n",
        "ax1.set_ylabel('average_clustering')\n",
        "ax2.set_ylabel('density nb new graph')\n",
        "\n",
        "plt.show()\n",
        "\n"
      ],
      "metadata": {
        "colab": {
          "base_uri": "https://localhost:8080/",
          "height": 409
        },
        "id": "Em4tlwzzZl5v",
        "outputId": "ac8a1f26-fa66-494f-c7de-a52b91014406"
      },
      "execution_count": null,
      "outputs": [
        {
          "output_type": "execute_result",
          "data": {
            "text/plain": [
              "[<matplotlib.lines.Line2D at 0x7f4938a8fa50>]"
            ]
          },
          "metadata": {},
          "execution_count": 613
        },
        {
          "output_type": "stream",
          "name": "stderr",
          "text": [
            "/usr/local/lib/python3.7/dist-packages/seaborn/distributions.py:1699: FutureWarning: The `bw` parameter is deprecated in favor of `bw_method` and `bw_adjust`. Using 0.05 for `bw_method`, but please see the docs for the new parameters and update your code.\n",
            "  warnings.warn(msg, FutureWarning)\n"
          ]
        },
        {
          "output_type": "execute_result",
          "data": {
            "text/plain": [
              "<matplotlib.axes._subplots.AxesSubplot at 0x7f49372c3c50>"
            ]
          },
          "metadata": {},
          "execution_count": 613
        },
        {
          "output_type": "execute_result",
          "data": {
            "text/plain": [
              "Text(0.5, 0, 'Year')"
            ]
          },
          "metadata": {},
          "execution_count": 613
        },
        {
          "output_type": "execute_result",
          "data": {
            "text/plain": [
              "Text(0, 0.5, 'average_clustering')"
            ]
          },
          "metadata": {},
          "execution_count": 613
        },
        {
          "output_type": "execute_result",
          "data": {
            "text/plain": [
              "Text(0, 0.5, 'density nb new graph')"
            ]
          },
          "metadata": {},
          "execution_count": 613
        },
        {
          "output_type": "display_data",
          "data": {
            "text/plain": [
              "<Figure size 1440x360 with 2 Axes>"
            ],
            "image/png": "[encoded data removed]"
          },
          "metadata": {
            "needs_background": "light"
          }
        }
      ]
    },
    {
      "cell_type": "markdown",
      "source": [
        "# Question 2 : Avec les poids"
      ],
      "metadata": {
        "id": "9Sn_Ks-4bXo8"
      }
    },
    {
      "cell_type": "markdown",
      "source": [
        "L'année dite de début d'un genre est très sensible aux légères variabilités (théorie des valeurs extrêmes) : un genre mentionné par simple hasard sur la page d'un auteur du sièce précédent fait décaler toute la valeur d'un siècle. Pour désigner l'année de début, on peut se résoudre à faire un moyenne des 2 premières années d'apparition, en excluant la première. "
      ],
      "metadata": {
        "id": "rc9aMksCbzOv"
      }
    },
    {
      "cell_type": "code",
      "source": [
        "df['debut_genre_moyenne3'] = None\n",
        "for genre in df[df['type'] == 'genre'].index :\n",
        "  subset = df[df['genres_mentionnes'].apply(str).str.contains(str(genre)).tolist()]\n",
        "  annees = np.unique(subset.date_naissance)\n",
        "  annees = [x for x in annees if str(x) != 'nan']\n",
        "  annees = np.sort(annees)[1:3]\n",
        "  if len(annees) >= 2 :\n",
        "    df.loc[genre, 'debut_genre_moyenne3'] = np.average(annees)"
      ],
      "metadata": {
        "id": "TQMQhqGNcKOI"
      },
      "execution_count": null,
      "outputs": []
    },
    {
      "cell_type": "markdown",
      "source": [
        "On visualise la différence entre la densité avec poids et sans poids."
      ],
      "metadata": {
        "id": "VrIfsuKTa1b3"
      }
    },
    {
      "cell_type": "code",
      "source": [
        "df_genre = df[df['type'] == 'genre']\n",
        "date_debut = 1500 \n",
        "date_fin = 2050\n",
        "BOOL_genre = (df_genre['debut_genre'] > date_debut) & (df_genre['debut_genre'] < date_fin)\n",
        "\n",
        "sns.kdeplot('debut_genre', bw=0.025, weights= 'poids_genre', label = 'Nb nouveau genre par année', color = 'blue', data = df_genre[BOOL_genre])\n",
        "sns.kdeplot('debut_genre', bw=0.025, color = 'red', data = df_genre[BOOL_genre])"
      ],
      "metadata": {
        "colab": {
          "base_uri": "https://localhost:8080/",
          "height": 447
        },
        "id": "nRbn6Y7uU4Z1",
        "outputId": "a9cd0298-0ddb-44ba-e042-1bdd143ccf95"
      },
      "execution_count": null,
      "outputs": [
        {
          "output_type": "stream",
          "name": "stderr",
          "text": [
            "/usr/local/lib/python3.7/dist-packages/seaborn/distributions.py:1699: FutureWarning: The `bw` parameter is deprecated in favor of `bw_method` and `bw_adjust`. Using 0.025 for `bw_method`, but please see the docs for the new parameters and update your code.\n",
            "  warnings.warn(msg, FutureWarning)\n"
          ]
        },
        {
          "output_type": "execute_result",
          "data": {
            "text/plain": [
              "<matplotlib.axes._subplots.AxesSubplot at 0x7f49301d0c10>"
            ]
          },
          "metadata": {},
          "execution_count": 616
        },
        {
          "output_type": "stream",
          "name": "stderr",
          "text": [
            "/usr/local/lib/python3.7/dist-packages/seaborn/distributions.py:1699: FutureWarning: The `bw` parameter is deprecated in favor of `bw_method` and `bw_adjust`. Using 0.025 for `bw_method`, but please see the docs for the new parameters and update your code.\n",
            "  warnings.warn(msg, FutureWarning)\n"
          ]
        },
        {
          "output_type": "execute_result",
          "data": {
            "text/plain": [
              "<matplotlib.axes._subplots.AxesSubplot at 0x7f49301d0c10>"
            ]
          },
          "metadata": {},
          "execution_count": 616
        },
        {
          "output_type": "display_data",
          "data": {
            "text/plain": [
              "<Figure size 1440x360 with 1 Axes>"
            ],
            "image/png": "[encoded data removed]"
          },
          "metadata": {
            "needs_background": "light"
          }
        }
      ]
    },
    {
      "cell_type": "code",
      "source": [
        "date_debut = 1500 \n",
        "date_fin = 2050 \n",
        "BOOL_genre = (df_genre['debut_genre_moyenne3'] > date_debut) & (df_genre['debut_genre_moyenne3'] < date_fin)\n",
        "\n",
        "sns.kdeplot('debut_genre_moyenne3', bw=0.025, weights= 'poids_genre', label = 'Nb nouveau genre par année', color = 'blue', data = df_genre[BOOL_genre])\n",
        "sns.kdeplot('debut_genre_moyenne3', bw=0.025, color = 'red', data = df_genre[BOOL_genre])"
      ],
      "metadata": {
        "colab": {
          "base_uri": "https://localhost:8080/",
          "height": 447
        },
        "id": "Z9NKjTMfc8ni",
        "outputId": "d7766242-3e20-46d5-d0b5-cb9bcf05a166"
      },
      "execution_count": null,
      "outputs": [
        {
          "output_type": "stream",
          "name": "stderr",
          "text": [
            "/usr/local/lib/python3.7/dist-packages/seaborn/distributions.py:1699: FutureWarning: The `bw` parameter is deprecated in favor of `bw_method` and `bw_adjust`. Using 0.025 for `bw_method`, but please see the docs for the new parameters and update your code.\n",
            "  warnings.warn(msg, FutureWarning)\n"
          ]
        },
        {
          "output_type": "execute_result",
          "data": {
            "text/plain": [
              "<matplotlib.axes._subplots.AxesSubplot at 0x7f4961744150>"
            ]
          },
          "metadata": {},
          "execution_count": 617
        },
        {
          "output_type": "stream",
          "name": "stderr",
          "text": [
            "/usr/local/lib/python3.7/dist-packages/seaborn/distributions.py:1699: FutureWarning: The `bw` parameter is deprecated in favor of `bw_method` and `bw_adjust`. Using 0.025 for `bw_method`, but please see the docs for the new parameters and update your code.\n",
            "  warnings.warn(msg, FutureWarning)\n"
          ]
        },
        {
          "output_type": "execute_result",
          "data": {
            "text/plain": [
              "<matplotlib.axes._subplots.AxesSubplot at 0x7f4961744150>"
            ]
          },
          "metadata": {},
          "execution_count": 617
        },
        {
          "output_type": "display_data",
          "data": {
            "text/plain": [
              "<Figure size 1440x360 with 1 Axes>"
            ],
            "image/png": "[encoded data removed]"
          },
          "metadata": {
            "needs_background": "light"
          }
        }
      ]
    },
    {
      "cell_type": "markdown",
      "source": [
        "On recalcule les métriques des subgraph-année avec les poids actualisés. "
      ],
      "metadata": {
        "id": "NQ56vjIqLEKg"
      }
    },
    {
      "cell_type": "code",
      "source": [
        "from tqdm import tqdm_notebook\n",
        "\n",
        "# Year subsets and building metrics\n",
        "df_auteurs = df\n",
        "measure_list = {}\n",
        "for année in tqdm_notebook(reversed(range(1000, 2025, 5))) :\n",
        "  selected_nodes = [node for node, value in GraphAuthorLink.nodes(data=True) if (value['date_mort'] >= année) & (value['date_naissance'] <= année)] \n",
        "  subgraph = GraphAuthorLink.subgraph(selected_nodes)\n",
        "  # if len(selected_nodes) > 10 :\n",
        "  if len(selected_nodes) > 1 :\n",
        "    try :\n",
        "      volume_annuel = nx.get_node_attributes(subgraph, 'taille_html_article')\n",
        "      subgraph_undirected = subgraph.to_undirected()\n",
        "      subgraph_undirected_connected_components = sorted(nx.connected_components(subgraph_undirected), key=len, reverse=True)\n",
        "      subgraph_undirected_giant = subgraph_undirected.subgraph(subgraph_undirected_connected_components[0])\n",
        "      total_articles_len = 0\n",
        "      community_giant = community_louvain.best_partition(subgraph_undirected_giant, randomize = False)\n",
        "      for key in subgraph.nodes() :\n",
        "        total_articles_len += np.log(nx.get_node_attributes(subgraph, 'taille_html_article')[key])\n",
        "      measure_list[année] = {'average_clustering' : nx.average_clustering(subgraph),\n",
        "                             'average_clustering_weight' : nx.average_clustering(subgraph, weight = 'weight'),\n",
        "                             'average_clustering_weight2' : nx.average_clustering(subgraph, weight = 'weight2'),\n",
        "                             'total_articles_len' : total_articles_len,\n",
        "                             'modularity' : community_louvain.modularity(community_giant, subgraph_undirected_giant, weight = None),\n",
        "                             'modularity_weight' : community_louvain.modularity(community_giant, subgraph_undirected_giant, weight = 'weight'),\n",
        "                             'modularity_weight2' : community_louvain.modularity(community_giant, subgraph_undirected_giant, weight = 'weight2')}\n",
        "    except : \n",
        "      pass\n",
        "\n",
        "annee_data = pd.DataFrame(measure_list).T\n",
        "annee_data['annee'] = annee_data.index"
      ],
      "metadata": {
        "outputId": "0a7a39f5-6b3a-4ed9-ba49-9db9fee97e23",
        "colab": {
          "base_uri": "https://localhost:8080/",
          "height": 104,
          "referenced_widgets": [
            "d85fea2fc3b34308805ba78cfb775975",
            "37aebd43ee3946b0bb6d5d05b657d328",
            "32c0d40c7ac44ef893b1eb1e01972c49",
            "08a66b6cd5d54623bc3d9f110a76685b",
            "1876bc9b510b4b598517ac0a82d76f52",
            "3bc7eda52e6847a289b47c390b7073a1",
            "dec985c2f88048f5849d976d1fc5078a",
            "0a67221f299f49ea9835fc2ed8fab6ee",
            "ad119c1069af4f9c8dd400d9fe19ffa6",
            "5dfd0e3fc2fa428b896779ca948b80a5",
            "8c00637d41cb4421b180ea19b436ed4d"
          ]
        },
        "id": "SqvUhatXc4XO"
      },
      "execution_count": null,
      "outputs": [
        {
          "output_type": "stream",
          "name": "stderr",
          "text": [
            "/usr/local/lib/python3.7/dist-packages/ipykernel_launcher.py:6: TqdmDeprecationWarning: This function will be removed in tqdm==5.0.0\n",
            "Please use `tqdm.notebook.tqdm` instead of `tqdm.tqdm_notebook`\n",
            "  \n"
          ]
        },
        {
          "output_type": "display_data",
          "data": {
            "text/plain": [
              "0it [00:00, ?it/s]"
            ],
            "application/vnd.jupyter.widget-view+json": {
              "version_major": 2,
              "version_minor": 0,
              "model_id": "d85fea2fc3b34308805ba78cfb775975"
            }
          },
          "metadata": {}
        }
      ]
    },
    {
      "cell_type": "markdown",
      "source": [
        "Et on visualise avec la variable d'étude pour une approche visuelle des corrélations."
      ],
      "metadata": {
        "id": "9s-xWGNnflrK"
      }
    },
    {
      "cell_type": "code",
      "source": [
        "import seaborn as sns\n",
        "\n",
        "plt.rcParams['figure.figsize'] = [20, 10]\n",
        "\n",
        "date_debut = 1500 \n",
        "date_fin = 2050 \n",
        "BOOL_genre = (df_genre['debut_genre_moyenne3'] > date_debut) & (df_genre['debut_genre_moyenne3'] < date_fin)\n",
        "BOOL_data = (annee_data['annee'] > date_debut) & (annee_data['annee'] < date_fin)\n",
        "\n",
        "fig, ax1 = plt.subplots()\n",
        "\n",
        "sns.kdeplot('debut_genre_moyenne3', bw=0.025, weights= 'poids_genre', label = 'Nb nouveau genre par année', data = df_genre[BOOL_genre])\n",
        "ax1.set_xlabel('Year')\n",
        "ax1.set_ylabel('density nb new graph')\n",
        "ax1.legend(loc='upper left')\n",
        "\n",
        "ax2 = ax1.twinx()\n",
        "plt.plot(annee_data['annee'][BOOL_data], annee_data['average_clustering'][BOOL_data]*0.25, label = 'average_clustering', color = 'g')\n",
        "plt.plot(annee_data['annee'][BOOL_data], annee_data['average_clustering_weight'][BOOL_data], label = 'average_clustering_weight', color = 'y')\n",
        "plt.plot(annee_data['annee'][BOOL_data], annee_data['average_clustering_weight2'][BOOL_data], label = 'average_clustering_weight2', color = 'r')\n",
        "\n",
        "plt.legend()\n",
        "ax2.set_ylabel('average_clustering')\n",
        "\n",
        "plt.show()\n",
        "\n"
      ],
      "metadata": {
        "id": "i_pjdYpKc4XQ"
      },
      "execution_count": null,
      "outputs": []
    },
    {
      "cell_type": "code",
      "source": [
        "import seaborn as sns\n",
        "\n",
        "plt.rcParams['figure.figsize'] = [20, 10]\n",
        "\n",
        "date_debut = 1500 \n",
        "date_fin = 2050 \n",
        "BOOL_genre = (df_genre['debut_genre_moyenne3'] > date_debut) & (df_genre['debut_genre_moyenne3'] < date_fin)\n",
        "BOOL_data = (annee_data['annee'] > date_debut) & (annee_data['annee'] < date_fin)\n",
        "\n",
        "fig, ax1 = plt.subplots()\n",
        "\n",
        "sns.kdeplot('debut_genre_moyenne3', bw=0.025, weights= 'poids_genre', label = 'Nb nouveau genre par année', data = df_genre[BOOL_genre])\n",
        "ax1.set_xlabel('Year')\n",
        "ax1.set_ylabel('density nb new graph')\n",
        "ax1.legend(loc='upper left')\n",
        "\n",
        "ax2 = ax1.twinx()\n",
        "plt.plot(annee_data['annee'][BOOL_data], annee_data['modularity'][BOOL_data], label = 'modularity', color = 'g')\n",
        "plt.plot(annee_data['annee'][BOOL_data], annee_data['modularity_weight'][BOOL_data], label = 'modularity_weight', color = 'y')\n",
        "plt.plot(annee_data['annee'][BOOL_data], annee_data['modularity_weight2'][BOOL_data], label = 'modularity_weight2', color = 'r')\n",
        "\n",
        "plt.legend()\n",
        "ax2.set_ylabel('modularity')\n",
        "\n",
        "plt.show()\n",
        "\n"
      ],
      "metadata": {
        "id": "_mVADc7iOmuw"
      },
      "execution_count": null,
      "outputs": []
    },
    {
      "cell_type": "code",
      "source": [
        "import seaborn as sns\n",
        "\n",
        "plt.rcParams['figure.figsize'] = [20, 10]\n",
        "\n",
        "date_debut = 1500 \n",
        "date_fin = 2050 \n",
        "BOOL_genre = (df_genre['debut_genre_moyenne3'] > date_debut) & (df_genre['debut_genre_moyenne3'] < date_fin)\n",
        "BOOL_data = (annee_data['annee'] > date_debut) & (annee_data['annee'] < date_fin)\n",
        "\n",
        "fig, ax1 = plt.subplots()\n",
        "\n",
        "sns.kdeplot('debut_genre_moyenne3', bw=0.025, weights= 'poids_genre', label = 'Nb nouveau genre par année', data = df_genre[BOOL_genre])\n",
        "ax1.set_xlabel('Year')\n",
        "ax1.set_ylabel('density nb new graph')\n",
        "ax1.legend(loc='upper left')\n",
        "\n",
        "ax2 = ax1.twinx()\n",
        "plt.plot(annee_data['annee'][BOOL_data], annee_data['total_articles_len'][BOOL_data], label = 'total_articles_len', color = 'g')\n",
        "\n",
        "plt.legend()\n",
        "ax2.set_ylabel('total_articles_len')\n",
        "\n",
        "plt.show()\n",
        "\n"
      ],
      "metadata": {
        "id": "75FFGUZSP_Gp"
      },
      "execution_count": null,
      "outputs": []
    },
    {
      "cell_type": "code",
      "source": [
        "date_debut = 1100 \n",
        "date_fin = 2100 \n",
        "BOOL_genre = (df_genre['debut_genre_moyenne3'] > date_debut) & (df_genre['debut_genre_moyenne3'] < date_fin)\n",
        "\n",
        "plot = sns.kdeplot('debut_genre_moyenne3', bw=0.025, weights= 'poids_genre', label = 'Nb nouveau genre par année', data = df_genre[BOOL_genre])\n",
        "\n",
        "annee_mean_liste = list(plot.get_lines()[0].get_data()[1])\n",
        "annees = list(plot.get_lines()[0].get_data()[0])\n",
        "annees = [int(annee) for annee in annees]\n",
        "annee_mean_df = pd.DataFrame({'annee' : annees, 'annee_mean' : annee_mean_liste})\n",
        "annee_mean_df = pd.merge(pd.DataFrame({'annee' : range(date_debut, date_fin)}), annee_mean_df, on = 'annee', how = 'outer')\n",
        "annee_mean_df['annee_mean'][-1:] = 0\n",
        "annee_mean_df['annee_mean_interpolated' ] = annee_mean_df.annee_mean.interpolate(method = 'polynomial', order = 2, limit_direction = 'both')\n",
        "\n",
        "regression_data = pd.merge(annee_data, annee_mean_df, on = 'annee', how = 'inner')"
      ],
      "metadata": {
        "id": "B-GAApfteMCc"
      },
      "execution_count": null,
      "outputs": []
    },
    {
      "cell_type": "code",
      "source": [
        "from IPython.core.interactiveshell import InteractiveShell\n",
        "InteractiveShell.ast_node_interactivity = 'all'\n",
        "import statsmodels.formula.api as smf\n",
        "\n",
        "def regression(periode, var_dependante, vars_explicatives, vars_controle, data_reg, lag_explicatives = 0, annee_correction = 0) :\n",
        "\n",
        "  regression_subset = data_reg.copy()\n",
        "\n",
        "  regression_subset[var_dependante] = 1000*regression_subset[var_dependante]\n",
        "\n",
        "  regression_subset[var_dependante] = regression_subset[var_dependante].shift(int(annee_correction/5))\n",
        "  regression_subset[vars_controle] = regression_subset[vars_controle].shift(int(annee_correction/5))\n",
        "\n",
        "  date_debut = periode[0] \n",
        "  date_fin = periode[1] \n",
        "  BOOL_regression = (regression_subset['annee'] > date_debut) & (regression_subset['annee'] < date_fin)\n",
        "  regression_subset = regression_subset[BOOL_regression]\n",
        "\n",
        "  for var in vars_explicatives :\n",
        "    regression_subset[var] = regression_subset[var].shift(-int(lag_explicatives/5))\n",
        "\n",
        "  regression_subset = regression_subset[[var_dependante] + vars_explicatives + vars_controle]\n",
        "  regression_subset = regression_subset.dropna()\n",
        "\n",
        "  expression = var_dependante + ' ~ ' + ' + '.join(vars_explicatives) + ' + ' + ' + '.join(vars_controle)\n",
        "  model = smf.ols(expression, data = regression_subset).fit()\n",
        "  summary = model.summary()\n",
        "  params = '\\n'.join(['periode' + ' :  ' + str(periode), \n",
        "                     'var_dependante' + ' :  ' + str(var_dependante), \n",
        "                     'vars_explicatives' + ' :  ' + str(vars_explicatives), \n",
        "                     'vars_controle' + ' :  ' + str(vars_controle), \n",
        "                     'lag_explicatives' + ' :  ' + str(lag_explicatives),\n",
        "                     'annee_correction' + ' : ' + str(annee_correction)])\n",
        "  \n",
        "  return(summary, params, regression_subset)\n"
      ],
      "metadata": {
        "id": "kRZ9uLvTcySY"
      },
      "execution_count": null,
      "outputs": []
    },
    {
      "cell_type": "code",
      "source": [
        "reg, params, reg_data = regression(periode = [1500, 1990],\n",
        "                          var_dependante = 'annee_mean_interpolated',\n",
        "                          vars_explicatives = ['modularity_weight2'],\n",
        "                          vars_controle = ['total_articles_len', 'annee'],\n",
        "                          lag_explicatives = 50,\n",
        "                          annee_correction = 30, \n",
        "                          data_reg = regression_data)\n",
        "print(params)\n",
        "print(reg)\n",
        "print('\\n\\n\\n888888888888888888888888888888888888888888888888888888888888888888888888888888888888\\n\\n\\n')\n"
      ],
      "metadata": {
        "id": "Etk21dUordjb"
      },
      "execution_count": null,
      "outputs": []
    },
    {
      "cell_type": "code",
      "source": [
        ""
      ],
      "metadata": {
        "id": "FvkKzfpAyxqh"
      },
      "execution_count": null,
      "outputs": []
    }
  ]
}