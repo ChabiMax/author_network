{
  "nbformat": 4,
  "nbformat_minor": 0,
  "metadata": {
    "colab": {
      "name": "Untitled1.ipynb",
      "provenance": [],
      "include_colab_link": true
    },
    "kernelspec": {
      "name": "python3",
      "display_name": "Python 3"
    },
    "language_info": {
      "name": "python"
    }
  },
  "cells": [
    {
      "cell_type": "markdown",
      "metadata": {
        "id": "view-in-github",
        "colab_type": "text"
      },
      "source": [
        "<a href=\"https://colab.research.google.com/github/ChabiMax/author_network/blob/main/Graph_from_raw_data.ipynb\" target=\"_parent\"><img src=\"https://colab.research.google.com/assets/colab-badge.svg\" alt=\"Open In Colab\"/></a>"
      ]
    },
    {
      "cell_type": "markdown",
      "source": [
        "<h1><center><strong><font color=\"chillipepper\">Réseau Wikipédia des auteurs francophones</font></strong></center></h1>\n",
        "<h5><center><font color=\"green\">Science des réseaux sociaux et économiques <h3><center>\n",
        "\n",
        "\n",
        "<center>\n",
        "Maxime Chabriel, Yasmine Houri, Mathis Sansu  \n",
        "\n",
        "ENSAE 2022\n",
        "</center>"
      ],
      "metadata": {
        "id": "klrK4tFSs9oi"
      }
    },
    {
      "cell_type": "markdown",
      "source": [
        "<h2><center><strong><font color=\"chillipepper\">Analyses</font></strong></center></h2>"
      ],
      "metadata": {
        "id": "KgpVnnFZBA4C"
      }
    },
    {
      "cell_type": "markdown",
      "source": [
        "# Graph bipartite"
      ],
      "metadata": {
        "id": "x4FY4ZLDs5pk"
      }
    },
    {
      "cell_type": "markdown",
      "source": [
        "## Packages"
      ],
      "metadata": {
        "id": "eUPAHQBKtLne"
      }
    },
    {
      "cell_type": "code",
      "execution_count": 24,
      "metadata": {
        "id": "KU33HBgYs3We"
      },
      "outputs": [],
      "source": [
        "import pandas as pd\n",
        "import networkx as nx\n",
        "from networkx.algorithms import bipartite\n",
        "import pickle as pkl"
      ]
    },
    {
      "cell_type": "markdown",
      "source": [
        "## Données"
      ],
      "metadata": {
        "id": "cksUqC2otspw"
      }
    },
    {
      "cell_type": "code",
      "source": [
        "# Lien du repository GitHub pour récupérer les données\n",
        "git_url = \"https://raw.githubusercontent.com/ChabiMax/author_network/main/\"\n",
        "data = pd.read_pickle(git_url+'/Data/dictionary_pickle.pkl')"
      ],
      "metadata": {
        "id": "UPjQEzrZs4wr"
      },
      "execution_count": 25,
      "outputs": []
    },
    {
      "cell_type": "code",
      "source": [
        "# Passage du dictionnaire sous forme de dataframe\n",
        "df = pd.DataFrame(data).T\n",
        "df['index'] = df.index\n",
        "df.insert(0, 'index', df.pop('index'))\n",
        "df.head()"
      ],
      "metadata": {
        "colab": {
          "base_uri": "https://localhost:8080/",
          "height": 206
        },
        "id": "ae97egeEuwr8",
        "outputId": "0a700fde-0fd5-42a4-fe68-8a99c11425f6"
      },
      "execution_count": 29,
      "outputs": [
        {
          "output_type": "execute_result",
          "data": {
            "text/plain": [
              "    index                    name  \\\n",
              "6       6                  Turold   \n",
              "10     10       Philippe de Thaon   \n",
              "14     14  Benoît de Sainte-Maure   \n",
              "16     16              Jean Bodel   \n",
              "17     17                    Wace   \n",
              "\n",
              "                                                 link date_mort  \\\n",
              "6                https://fr.wikipedia.org/wiki/Turold      2025   \n",
              "10    https://fr.wikipedia.org/wiki/Philippe_de_Thaon      2025   \n",
              "14  https://fr.wikipedia.org/wiki/Beno%C3%AEt_de_S...      2025   \n",
              "16           https://fr.wikipedia.org/wiki/Jean_Bodel      1165   \n",
              "17                 https://fr.wikipedia.org/wiki/Wace      1174   \n",
              "\n",
              "   date_naissance taille_article   network weights         net_genre  \\\n",
              "6            None          72468        []      []            [None]   \n",
              "10           None          67944        []      []            [None]   \n",
              "14           None          82324      [17]     [1]            [[94]]   \n",
              "16           None          72283  [23, 43]  [1, 1]  [[129, 164, 69]]   \n",
              "17           1100          98720      [19]     [2]       [[56, 128]]   \n",
              "\n",
              "                                           meme_genre  \\\n",
              "6                                                  []   \n",
              "10                                                 []   \n",
              "14  [1538, 1542, 1545, 1550, 529, 1557, 26, 1055, ...   \n",
              "16                                                 []   \n",
              "17                                         [536, 554]   \n",
              "\n",
              "                contemporain  \n",
              "6                         []  \n",
              "10                        []  \n",
              "14                        []  \n",
              "16                        []  \n",
              "17  [18, 19, 20, 22, 23, 24]  "
            ],
            "text/html": [
              "\n",
              "  <div id=\"df-e0836f9a-0505-42ef-b098-c3ed11b45bf6\">\n",
              "    <div class=\"colab-df-container\">\n",
              "      <div>\n",
              "<style scoped>\n",
              "    .dataframe tbody tr th:only-of-type {\n",
              "        vertical-align: middle;\n",
              "    }\n",
              "\n",
              "    .dataframe tbody tr th {\n",
              "        vertical-align: top;\n",
              "    }\n",
              "\n",
              "    .dataframe thead th {\n",
              "        text-align: right;\n",
              "    }\n",
              "</style>\n",
              "<table border=\"1\" class=\"dataframe\">\n",
              "  <thead>\n",
              "    <tr style=\"text-align: right;\">\n",
              "      <th></th>\n",
              "      <th>index</th>\n",
              "      <th>name</th>\n",
              "      <th>link</th>\n",
              "      <th>date_mort</th>\n",
              "      <th>date_naissance</th>\n",
              "      <th>taille_article</th>\n",
              "      <th>network</th>\n",
              "      <th>weights</th>\n",
              "      <th>net_genre</th>\n",
              "      <th>meme_genre</th>\n",
              "      <th>contemporain</th>\n",
              "    </tr>\n",
              "  </thead>\n",
              "  <tbody>\n",
              "    <tr>\n",
              "      <th>6</th>\n",
              "      <td>6</td>\n",
              "      <td>Turold</td>\n",
              "      <td>https://fr.wikipedia.org/wiki/Turold</td>\n",
              "      <td>2025</td>\n",
              "      <td>None</td>\n",
              "      <td>72468</td>\n",
              "      <td>[]</td>\n",
              "      <td>[]</td>\n",
              "      <td>[None]</td>\n",
              "      <td>[]</td>\n",
              "      <td>[]</td>\n",
              "    </tr>\n",
              "    <tr>\n",
              "      <th>10</th>\n",
              "      <td>10</td>\n",
              "      <td>Philippe de Thaon</td>\n",
              "      <td>https://fr.wikipedia.org/wiki/Philippe_de_Thaon</td>\n",
              "      <td>2025</td>\n",
              "      <td>None</td>\n",
              "      <td>67944</td>\n",
              "      <td>[]</td>\n",
              "      <td>[]</td>\n",
              "      <td>[None]</td>\n",
              "      <td>[]</td>\n",
              "      <td>[]</td>\n",
              "    </tr>\n",
              "    <tr>\n",
              "      <th>14</th>\n",
              "      <td>14</td>\n",
              "      <td>Benoît de Sainte-Maure</td>\n",
              "      <td>https://fr.wikipedia.org/wiki/Beno%C3%AEt_de_S...</td>\n",
              "      <td>2025</td>\n",
              "      <td>None</td>\n",
              "      <td>82324</td>\n",
              "      <td>[17]</td>\n",
              "      <td>[1]</td>\n",
              "      <td>[[94]]</td>\n",
              "      <td>[1538, 1542, 1545, 1550, 529, 1557, 26, 1055, ...</td>\n",
              "      <td>[]</td>\n",
              "    </tr>\n",
              "    <tr>\n",
              "      <th>16</th>\n",
              "      <td>16</td>\n",
              "      <td>Jean Bodel</td>\n",
              "      <td>https://fr.wikipedia.org/wiki/Jean_Bodel</td>\n",
              "      <td>1165</td>\n",
              "      <td>None</td>\n",
              "      <td>72283</td>\n",
              "      <td>[23, 43]</td>\n",
              "      <td>[1, 1]</td>\n",
              "      <td>[[129, 164, 69]]</td>\n",
              "      <td>[]</td>\n",
              "      <td>[]</td>\n",
              "    </tr>\n",
              "    <tr>\n",
              "      <th>17</th>\n",
              "      <td>17</td>\n",
              "      <td>Wace</td>\n",
              "      <td>https://fr.wikipedia.org/wiki/Wace</td>\n",
              "      <td>1174</td>\n",
              "      <td>1100</td>\n",
              "      <td>98720</td>\n",
              "      <td>[19]</td>\n",
              "      <td>[2]</td>\n",
              "      <td>[[56, 128]]</td>\n",
              "      <td>[536, 554]</td>\n",
              "      <td>[18, 19, 20, 22, 23, 24]</td>\n",
              "    </tr>\n",
              "  </tbody>\n",
              "</table>\n",
              "</div>\n",
              "      <button class=\"colab-df-convert\" onclick=\"convertToInteractive('df-e0836f9a-0505-42ef-b098-c3ed11b45bf6')\"\n",
              "              title=\"Convert this dataframe to an interactive table.\"\n",
              "              style=\"display:none;\">\n",
              "        \n",
              "  <svg xmlns=\"http://www.w3.org/2000/svg\" height=\"24px\"viewBox=\"0 0 24 24\"\n",
              "       width=\"24px\">\n",
              "    <path d=\"M0 0h24v24H0V0z\" fill=\"none\"/>\n",
              "    <path d=\"M18.56 5.44l.94 2.06.94-2.06 2.06-.94-2.06-.94-.94-2.06-.94 2.06-2.06.94zm-11 1L8.5 8.5l.94-2.06 2.06-.94-2.06-.94L8.5 2.5l-.94 2.06-2.06.94zm10 10l.94 2.06.94-2.06 2.06-.94-2.06-.94-.94-2.06-.94 2.06-2.06.94z\"/><path d=\"M17.41 7.96l-1.37-1.37c-.4-.4-.92-.59-1.43-.59-.52 0-1.04.2-1.43.59L10.3 9.45l-7.72 7.72c-.78.78-.78 2.05 0 2.83L4 21.41c.39.39.9.59 1.41.59.51 0 1.02-.2 1.41-.59l7.78-7.78 2.81-2.81c.8-.78.8-2.07 0-2.86zM5.41 20L4 18.59l7.72-7.72 1.47 1.35L5.41 20z\"/>\n",
              "  </svg>\n",
              "      </button>\n",
              "      \n",
              "  <style>\n",
              "    .colab-df-container {\n",
              "      display:flex;\n",
              "      flex-wrap:wrap;\n",
              "      gap: 12px;\n",
              "    }\n",
              "\n",
              "    .colab-df-convert {\n",
              "      background-color: #E8F0FE;\n",
              "      border: none;\n",
              "      border-radius: 50%;\n",
              "      cursor: pointer;\n",
              "      display: none;\n",
              "      fill: #1967D2;\n",
              "      height: 32px;\n",
              "      padding: 0 0 0 0;\n",
              "      width: 32px;\n",
              "    }\n",
              "\n",
              "    .colab-df-convert:hover {\n",
              "      background-color: #E2EBFA;\n",
              "      box-shadow: 0px 1px 2px rgba(60, 64, 67, 0.3), 0px 1px 3px 1px rgba(60, 64, 67, 0.15);\n",
              "      fill: #174EA6;\n",
              "    }\n",
              "\n",
              "    [theme=dark] .colab-df-convert {\n",
              "      background-color: #3B4455;\n",
              "      fill: #D2E3FC;\n",
              "    }\n",
              "\n",
              "    [theme=dark] .colab-df-convert:hover {\n",
              "      background-color: #434B5C;\n",
              "      box-shadow: 0px 1px 3px 1px rgba(0, 0, 0, 0.15);\n",
              "      filter: drop-shadow(0px 1px 2px rgba(0, 0, 0, 0.3));\n",
              "      fill: #FFFFFF;\n",
              "    }\n",
              "  </style>\n",
              "\n",
              "      <script>\n",
              "        const buttonEl =\n",
              "          document.querySelector('#df-e0836f9a-0505-42ef-b098-c3ed11b45bf6 button.colab-df-convert');\n",
              "        buttonEl.style.display =\n",
              "          google.colab.kernel.accessAllowed ? 'block' : 'none';\n",
              "\n",
              "        async function convertToInteractive(key) {\n",
              "          const element = document.querySelector('#df-e0836f9a-0505-42ef-b098-c3ed11b45bf6');\n",
              "          const dataTable =\n",
              "            await google.colab.kernel.invokeFunction('convertToInteractive',\n",
              "                                                     [key], {});\n",
              "          if (!dataTable) return;\n",
              "\n",
              "          const docLinkHtml = 'Like what you see? Visit the ' +\n",
              "            '<a target=\"_blank\" href=https://colab.research.google.com/notebooks/data_table.ipynb>data table notebook</a>'\n",
              "            + ' to learn more about interactive tables.';\n",
              "          element.innerHTML = '';\n",
              "          dataTable['output_type'] = 'display_data';\n",
              "          await google.colab.output.renderOutput(dataTable, element);\n",
              "          const docLink = document.createElement('div');\n",
              "          docLink.innerHTML = docLinkHtml;\n",
              "          element.appendChild(docLink);\n",
              "        }\n",
              "      </script>\n",
              "    </div>\n",
              "  </div>\n",
              "  "
            ]
          },
          "metadata": {},
          "execution_count": 29
        }
      ]
    },
    {
      "cell_type": "markdown",
      "source": [
        "### Create links network"
      ],
      "metadata": {
        "id": "Typ_bmEFF4rj"
      }
    },
    {
      "cell_type": "code",
      "source": [
        "id = 0\n",
        "id_link = id\n",
        "link_table = dict()\n",
        "\n",
        "for source in df.index :\n",
        "  # print(\"id: \", id)\n",
        "  # print(\"Source: \", source)\n",
        "  for i in range(len(df.iloc[id]['network'])):\n",
        "    # print(\"i: \", i)\n",
        "    # print(\"id_link: \", id_link)\n",
        "    target = df.iloc[id]['network'][i]\n",
        "    # print(\"Target: \",target)\n",
        "    link_table[id_link] = {'source' : source, 'target' : target}\n",
        "    weight = df.iloc[id]['weights'][i]\n",
        "    # print(\"Weight: \", weight)\n",
        "    link_table[id_link]['weight'] = weight\n",
        "    id_link +=1\n",
        "  id += 1"
      ],
      "metadata": {
        "id": "Mgmtj-Uk1e-z"
      },
      "execution_count": 30,
      "outputs": []
    },
    {
      "cell_type": "code",
      "source": [
        "# link_table"
      ],
      "metadata": {
        "id": "1r0worvh3Cwf"
      },
      "execution_count": 31,
      "outputs": []
    },
    {
      "cell_type": "code",
      "source": [
        "edge_links = pd.DataFrame(link_table).T\n",
        "edge_links.head()"
      ],
      "metadata": {
        "colab": {
          "base_uri": "https://localhost:8080/",
          "height": 215
        },
        "id": "GiGo0uT3zb5-",
        "outputId": "2f6a7803-9ddd-42ba-9ba9-2c63266b433b"
      },
      "execution_count": 33,
      "outputs": [
        {
          "output_type": "execute_result",
          "data": {
            "text/plain": [
              "   source  target  weight\n",
              "0      14      17       1\n",
              "1      16      23       1\n",
              "2      16      43       1\n",
              "3      17      19       2\n",
              "4      19      17       1"
            ],
            "text/html": [
              "\n",
              "  <div id=\"df-b0253026-936b-47a4-94b9-68dfb631bb83\">\n",
              "    <div class=\"colab-df-container\">\n",
              "      <div>\n",
              "<style scoped>\n",
              "    .dataframe tbody tr th:only-of-type {\n",
              "        vertical-align: middle;\n",
              "    }\n",
              "\n",
              "    .dataframe tbody tr th {\n",
              "        vertical-align: top;\n",
              "    }\n",
              "\n",
              "    .dataframe thead th {\n",
              "        text-align: right;\n",
              "    }\n",
              "</style>\n",
              "<table border=\"1\" class=\"dataframe\">\n",
              "  <thead>\n",
              "    <tr style=\"text-align: right;\">\n",
              "      <th></th>\n",
              "      <th>source</th>\n",
              "      <th>target</th>\n",
              "      <th>weight</th>\n",
              "    </tr>\n",
              "  </thead>\n",
              "  <tbody>\n",
              "    <tr>\n",
              "      <th>0</th>\n",
              "      <td>14</td>\n",
              "      <td>17</td>\n",
              "      <td>1</td>\n",
              "    </tr>\n",
              "    <tr>\n",
              "      <th>1</th>\n",
              "      <td>16</td>\n",
              "      <td>23</td>\n",
              "      <td>1</td>\n",
              "    </tr>\n",
              "    <tr>\n",
              "      <th>2</th>\n",
              "      <td>16</td>\n",
              "      <td>43</td>\n",
              "      <td>1</td>\n",
              "    </tr>\n",
              "    <tr>\n",
              "      <th>3</th>\n",
              "      <td>17</td>\n",
              "      <td>19</td>\n",
              "      <td>2</td>\n",
              "    </tr>\n",
              "    <tr>\n",
              "      <th>4</th>\n",
              "      <td>19</td>\n",
              "      <td>17</td>\n",
              "      <td>1</td>\n",
              "    </tr>\n",
              "  </tbody>\n",
              "</table>\n",
              "</div>\n",
              "      <button class=\"colab-df-convert\" onclick=\"convertToInteractive('df-b0253026-936b-47a4-94b9-68dfb631bb83')\"\n",
              "              title=\"Convert this dataframe to an interactive table.\"\n",
              "              style=\"display:none;\">\n",
              "        \n",
              "  <svg xmlns=\"http://www.w3.org/2000/svg\" height=\"24px\"viewBox=\"0 0 24 24\"\n",
              "       width=\"24px\">\n",
              "    <path d=\"M0 0h24v24H0V0z\" fill=\"none\"/>\n",
              "    <path d=\"M18.56 5.44l.94 2.06.94-2.06 2.06-.94-2.06-.94-.94-2.06-.94 2.06-2.06.94zm-11 1L8.5 8.5l.94-2.06 2.06-.94-2.06-.94L8.5 2.5l-.94 2.06-2.06.94zm10 10l.94 2.06.94-2.06 2.06-.94-2.06-.94-.94-2.06-.94 2.06-2.06.94z\"/><path d=\"M17.41 7.96l-1.37-1.37c-.4-.4-.92-.59-1.43-.59-.52 0-1.04.2-1.43.59L10.3 9.45l-7.72 7.72c-.78.78-.78 2.05 0 2.83L4 21.41c.39.39.9.59 1.41.59.51 0 1.02-.2 1.41-.59l7.78-7.78 2.81-2.81c.8-.78.8-2.07 0-2.86zM5.41 20L4 18.59l7.72-7.72 1.47 1.35L5.41 20z\"/>\n",
              "  </svg>\n",
              "      </button>\n",
              "      \n",
              "  <style>\n",
              "    .colab-df-container {\n",
              "      display:flex;\n",
              "      flex-wrap:wrap;\n",
              "      gap: 12px;\n",
              "    }\n",
              "\n",
              "    .colab-df-convert {\n",
              "      background-color: #E8F0FE;\n",
              "      border: none;\n",
              "      border-radius: 50%;\n",
              "      cursor: pointer;\n",
              "      display: none;\n",
              "      fill: #1967D2;\n",
              "      height: 32px;\n",
              "      padding: 0 0 0 0;\n",
              "      width: 32px;\n",
              "    }\n",
              "\n",
              "    .colab-df-convert:hover {\n",
              "      background-color: #E2EBFA;\n",
              "      box-shadow: 0px 1px 2px rgba(60, 64, 67, 0.3), 0px 1px 3px 1px rgba(60, 64, 67, 0.15);\n",
              "      fill: #174EA6;\n",
              "    }\n",
              "\n",
              "    [theme=dark] .colab-df-convert {\n",
              "      background-color: #3B4455;\n",
              "      fill: #D2E3FC;\n",
              "    }\n",
              "\n",
              "    [theme=dark] .colab-df-convert:hover {\n",
              "      background-color: #434B5C;\n",
              "      box-shadow: 0px 1px 3px 1px rgba(0, 0, 0, 0.15);\n",
              "      filter: drop-shadow(0px 1px 2px rgba(0, 0, 0, 0.3));\n",
              "      fill: #FFFFFF;\n",
              "    }\n",
              "  </style>\n",
              "\n",
              "      <script>\n",
              "        const buttonEl =\n",
              "          document.querySelector('#df-b0253026-936b-47a4-94b9-68dfb631bb83 button.colab-df-convert');\n",
              "        buttonEl.style.display =\n",
              "          google.colab.kernel.accessAllowed ? 'block' : 'none';\n",
              "\n",
              "        async function convertToInteractive(key) {\n",
              "          const element = document.querySelector('#df-b0253026-936b-47a4-94b9-68dfb631bb83');\n",
              "          const dataTable =\n",
              "            await google.colab.kernel.invokeFunction('convertToInteractive',\n",
              "                                                     [key], {});\n",
              "          if (!dataTable) return;\n",
              "\n",
              "          const docLinkHtml = 'Like what you see? Visit the ' +\n",
              "            '<a target=\"_blank\" href=https://colab.research.google.com/notebooks/data_table.ipynb>data table notebook</a>'\n",
              "            + ' to learn more about interactive tables.';\n",
              "          element.innerHTML = '';\n",
              "          dataTable['output_type'] = 'display_data';\n",
              "          await google.colab.output.renderOutput(dataTable, element);\n",
              "          const docLink = document.createElement('div');\n",
              "          docLink.innerHTML = docLinkHtml;\n",
              "          element.appendChild(docLink);\n",
              "        }\n",
              "      </script>\n",
              "    </div>\n",
              "  </div>\n",
              "  "
            ]
          },
          "metadata": {},
          "execution_count": 33
        }
      ]
    },
    {
      "cell_type": "code",
      "source": [
        "G_links = nx.Graph(edge_links,source=\"source\",target=\"target\")\n",
        "nx.info(G_links)"
      ],
      "metadata": {
        "colab": {
          "base_uri": "https://localhost:8080/",
          "height": 35
        },
        "id": "zE6eovalFhNJ",
        "outputId": "59adec01-bed9-4de8-9fb4-bc13f3f6c0ff"
      },
      "execution_count": 34,
      "outputs": [
        {
          "output_type": "execute_result",
          "data": {
            "text/plain": [
              "'Graph with 1252 nodes and 9673 edges'"
            ],
            "application/vnd.google.colaboratory.intrinsic+json": {
              "type": "string"
            }
          },
          "metadata": {},
          "execution_count": 34
        }
      ]
    },
    {
      "cell_type": "markdown",
      "source": [
        "### Create genre graph"
      ],
      "metadata": {
        "id": "XKhHI2SBGCvS"
      }
    },
    {
      "cell_type": "code",
      "source": [
        "id = 0\n",
        "id_link = id\n",
        "genre_table = dict()\n",
        "\n",
        "for source in df.index :\n",
        "  # print(\"id: \", id)\n",
        "  # print(\"Source: \", source)\n",
        "  for i in range(len(df.iloc[id]['meme_genre'])):\n",
        "    # print(\"i: \", i)\n",
        "    # print(\"id_link: \", id_link)\n",
        "    target = df.iloc[id]['meme_genre'][i]\n",
        "    # print(\"Target: \",target)\n",
        "    genre_table[id_link] = {'source' : source, 'target' : target}\n",
        "    id_link +=1\n",
        "  id += 1"
      ],
      "metadata": {
        "id": "U3zO__l5Fqg6"
      },
      "execution_count": 35,
      "outputs": []
    },
    {
      "cell_type": "code",
      "source": [
        "# genre_table"
      ],
      "metadata": {
        "id": "eU-TPzGhGbdj"
      },
      "execution_count": 36,
      "outputs": []
    },
    {
      "cell_type": "code",
      "source": [
        "edge_genres = pd.DataFrame(genre_table).T\n",
        "edge_genres['weights'] = 1\n",
        "edge_genres.head()"
      ],
      "metadata": {
        "colab": {
          "base_uri": "https://localhost:8080/",
          "height": 206
        },
        "id": "9lfdUPm-Ghew",
        "outputId": "37224f66-bdec-4f34-9c05-c72957b00a33"
      },
      "execution_count": 37,
      "outputs": [
        {
          "output_type": "execute_result",
          "data": {
            "text/plain": [
              "   source  target  weights\n",
              "0      14    1538        1\n",
              "1      14    1542        1\n",
              "2      14    1545        1\n",
              "3      14    1550        1\n",
              "4      14     529        1"
            ],
            "text/html": [
              "\n",
              "  <div id=\"df-2e8a5db8-0dc0-4c76-8b31-c3b02198ef71\">\n",
              "    <div class=\"colab-df-container\">\n",
              "      <div>\n",
              "<style scoped>\n",
              "    .dataframe tbody tr th:only-of-type {\n",
              "        vertical-align: middle;\n",
              "    }\n",
              "\n",
              "    .dataframe tbody tr th {\n",
              "        vertical-align: top;\n",
              "    }\n",
              "\n",
              "    .dataframe thead th {\n",
              "        text-align: right;\n",
              "    }\n",
              "</style>\n",
              "<table border=\"1\" class=\"dataframe\">\n",
              "  <thead>\n",
              "    <tr style=\"text-align: right;\">\n",
              "      <th></th>\n",
              "      <th>source</th>\n",
              "      <th>target</th>\n",
              "      <th>weights</th>\n",
              "    </tr>\n",
              "  </thead>\n",
              "  <tbody>\n",
              "    <tr>\n",
              "      <th>0</th>\n",
              "      <td>14</td>\n",
              "      <td>1538</td>\n",
              "      <td>1</td>\n",
              "    </tr>\n",
              "    <tr>\n",
              "      <th>1</th>\n",
              "      <td>14</td>\n",
              "      <td>1542</td>\n",
              "      <td>1</td>\n",
              "    </tr>\n",
              "    <tr>\n",
              "      <th>2</th>\n",
              "      <td>14</td>\n",
              "      <td>1545</td>\n",
              "      <td>1</td>\n",
              "    </tr>\n",
              "    <tr>\n",
              "      <th>3</th>\n",
              "      <td>14</td>\n",
              "      <td>1550</td>\n",
              "      <td>1</td>\n",
              "    </tr>\n",
              "    <tr>\n",
              "      <th>4</th>\n",
              "      <td>14</td>\n",
              "      <td>529</td>\n",
              "      <td>1</td>\n",
              "    </tr>\n",
              "  </tbody>\n",
              "</table>\n",
              "</div>\n",
              "      <button class=\"colab-df-convert\" onclick=\"convertToInteractive('df-2e8a5db8-0dc0-4c76-8b31-c3b02198ef71')\"\n",
              "              title=\"Convert this dataframe to an interactive table.\"\n",
              "              style=\"display:none;\">\n",
              "        \n",
              "  <svg xmlns=\"http://www.w3.org/2000/svg\" height=\"24px\"viewBox=\"0 0 24 24\"\n",
              "       width=\"24px\">\n",
              "    <path d=\"M0 0h24v24H0V0z\" fill=\"none\"/>\n",
              "    <path d=\"M18.56 5.44l.94 2.06.94-2.06 2.06-.94-2.06-.94-.94-2.06-.94 2.06-2.06.94zm-11 1L8.5 8.5l.94-2.06 2.06-.94-2.06-.94L8.5 2.5l-.94 2.06-2.06.94zm10 10l.94 2.06.94-2.06 2.06-.94-2.06-.94-.94-2.06-.94 2.06-2.06.94z\"/><path d=\"M17.41 7.96l-1.37-1.37c-.4-.4-.92-.59-1.43-.59-.52 0-1.04.2-1.43.59L10.3 9.45l-7.72 7.72c-.78.78-.78 2.05 0 2.83L4 21.41c.39.39.9.59 1.41.59.51 0 1.02-.2 1.41-.59l7.78-7.78 2.81-2.81c.8-.78.8-2.07 0-2.86zM5.41 20L4 18.59l7.72-7.72 1.47 1.35L5.41 20z\"/>\n",
              "  </svg>\n",
              "      </button>\n",
              "      \n",
              "  <style>\n",
              "    .colab-df-container {\n",
              "      display:flex;\n",
              "      flex-wrap:wrap;\n",
              "      gap: 12px;\n",
              "    }\n",
              "\n",
              "    .colab-df-convert {\n",
              "      background-color: #E8F0FE;\n",
              "      border: none;\n",
              "      border-radius: 50%;\n",
              "      cursor: pointer;\n",
              "      display: none;\n",
              "      fill: #1967D2;\n",
              "      height: 32px;\n",
              "      padding: 0 0 0 0;\n",
              "      width: 32px;\n",
              "    }\n",
              "\n",
              "    .colab-df-convert:hover {\n",
              "      background-color: #E2EBFA;\n",
              "      box-shadow: 0px 1px 2px rgba(60, 64, 67, 0.3), 0px 1px 3px 1px rgba(60, 64, 67, 0.15);\n",
              "      fill: #174EA6;\n",
              "    }\n",
              "\n",
              "    [theme=dark] .colab-df-convert {\n",
              "      background-color: #3B4455;\n",
              "      fill: #D2E3FC;\n",
              "    }\n",
              "\n",
              "    [theme=dark] .colab-df-convert:hover {\n",
              "      background-color: #434B5C;\n",
              "      box-shadow: 0px 1px 3px 1px rgba(0, 0, 0, 0.15);\n",
              "      filter: drop-shadow(0px 1px 2px rgba(0, 0, 0, 0.3));\n",
              "      fill: #FFFFFF;\n",
              "    }\n",
              "  </style>\n",
              "\n",
              "      <script>\n",
              "        const buttonEl =\n",
              "          document.querySelector('#df-2e8a5db8-0dc0-4c76-8b31-c3b02198ef71 button.colab-df-convert');\n",
              "        buttonEl.style.display =\n",
              "          google.colab.kernel.accessAllowed ? 'block' : 'none';\n",
              "\n",
              "        async function convertToInteractive(key) {\n",
              "          const element = document.querySelector('#df-2e8a5db8-0dc0-4c76-8b31-c3b02198ef71');\n",
              "          const dataTable =\n",
              "            await google.colab.kernel.invokeFunction('convertToInteractive',\n",
              "                                                     [key], {});\n",
              "          if (!dataTable) return;\n",
              "\n",
              "          const docLinkHtml = 'Like what you see? Visit the ' +\n",
              "            '<a target=\"_blank\" href=https://colab.research.google.com/notebooks/data_table.ipynb>data table notebook</a>'\n",
              "            + ' to learn more about interactive tables.';\n",
              "          element.innerHTML = '';\n",
              "          dataTable['output_type'] = 'display_data';\n",
              "          await google.colab.output.renderOutput(dataTable, element);\n",
              "          const docLink = document.createElement('div');\n",
              "          docLink.innerHTML = docLinkHtml;\n",
              "          element.appendChild(docLink);\n",
              "        }\n",
              "      </script>\n",
              "    </div>\n",
              "  </div>\n",
              "  "
            ]
          },
          "metadata": {},
          "execution_count": 37
        }
      ]
    },
    {
      "cell_type": "code",
      "source": [
        "G_genres = nx.Graph(edge_genres,source=\"source\",target=\"target\")\n",
        "nx.info(G_genres)"
      ],
      "metadata": {
        "colab": {
          "base_uri": "https://localhost:8080/",
          "height": 35
        },
        "id": "LgIcQc-oHB1u",
        "outputId": "b4f62828-c925-4fb2-8522-d07ef6cf3d88"
      },
      "execution_count": 38,
      "outputs": [
        {
          "output_type": "execute_result",
          "data": {
            "text/plain": [
              "'Graph with 444 nodes and 12563 edges'"
            ],
            "application/vnd.google.colaboratory.intrinsic+json": {
              "type": "string"
            }
          },
          "metadata": {},
          "execution_count": 38
        }
      ]
    },
    {
      "cell_type": "code",
      "source": [
        ""
      ],
      "metadata": {
        "id": "pIaOjcCMD9dv"
      },
      "execution_count": null,
      "outputs": []
    }
  ]
}