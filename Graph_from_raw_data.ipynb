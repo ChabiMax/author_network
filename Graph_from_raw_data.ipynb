{
  "nbformat": 4,
  "nbformat_minor": 0,
  "metadata": {
    "colab": {
      "name": "Untitled1.ipynb",
      "provenance": [],
      "include_colab_link": true
    },
    "kernelspec": {
      "name": "python3",
      "display_name": "Python 3"
    },
    "language_info": {
      "name": "python"
    }
  },
  "cells": [
    {
      "cell_type": "markdown",
      "metadata": {
        "id": "view-in-github",
        "colab_type": "text"
      },
      "source": [
        "<a href=\"https://colab.research.google.com/github/ChabiMax/author_network/blob/main/Graph_from_raw_data.ipynb\" target=\"_parent\"><img src=\"https://colab.research.google.com/assets/colab-badge.svg\" alt=\"Open In Colab\"/></a>"
      ]
    },
    {
      "cell_type": "markdown",
      "source": [
        "<h1><center><strong><font color=\"chillipepper\">Réseau Wikipédia des auteurs francophones</font></strong></center></h1>\n",
        "<h5><center><font color=\"green\">Science des réseaux sociaux et économiques <h3><center>\n",
        "\n",
        "\n",
        "<center>\n",
        "Maxime Chabriel, Yasmine Houri, Mathis Sansu  \n",
        "\n",
        "ENSAE 2022\n",
        "</center>"
      ],
      "metadata": {
        "id": "klrK4tFSs9oi"
      }
    },
    {
      "cell_type": "markdown",
      "source": [
        "<h2><center><strong><font color=\"chillipepper\">Analyses</font></strong></center></h2>"
      ],
      "metadata": {
        "id": "KgpVnnFZBA4C"
      }
    },
    {
      "cell_type": "markdown",
      "source": [
        "# Graph bipartite"
      ],
      "metadata": {
        "id": "x4FY4ZLDs5pk"
      }
    },
    {
      "cell_type": "markdown",
      "source": [
        "## Packages"
      ],
      "metadata": {
        "id": "eUPAHQBKtLne"
      }
    },
    {
      "cell_type": "code",
      "execution_count": 1,
      "metadata": {
        "id": "KU33HBgYs3We"
      },
      "outputs": [],
      "source": [
        "import pandas as pd\n",
        "import networkx as nx\n",
        "from networkx.algorithms import bipartite\n",
        "import pickle as pkl"
      ]
    },
    {
      "cell_type": "markdown",
      "source": [
        "## Données"
      ],
      "metadata": {
        "id": "cksUqC2otspw"
      }
    },
    {
      "cell_type": "code",
      "source": [
        "# Lien du repository GitHub pour récupérer les données\n",
        "git_url = \"https://raw.githubusercontent.com/ChabiMax/author_network/main/\"\n",
        "data = pd.read_pickle(git_url+'/Data/raw_data.pkl')"
      ],
      "metadata": {
        "id": "UPjQEzrZs4wr"
      },
      "execution_count": 2,
      "outputs": []
    },
    {
      "cell_type": "code",
      "source": [
        "# Passage du dictionnaire sous forme de dataframe\n",
        "df = pd.DataFrame(data).T\n",
        "df['index'] = df.index\n",
        "df.insert(0, 'index', df.pop('index'))\n",
        "df.head()"
      ],
      "metadata": {
        "colab": {
          "base_uri": "https://localhost:8080/",
          "height": 374
        },
        "id": "ae97egeEuwr8",
        "outputId": "ffcec305-4fa9-49d0-d912-dd29895f0e48"
      },
      "execution_count": 3,
      "outputs": [
        {
          "output_type": "execute_result",
          "data": {
            "text/plain": [
              "   index                    name  \\\n",
              "0      0                  Turold   \n",
              "1      1       Philippe de Thaon   \n",
              "2      2  Benoît de Sainte-Maure   \n",
              "3      3              Jean Bodel   \n",
              "4      4                    Wace   \n",
              "\n",
              "                                                link date_mort date_naissance  \\\n",
              "0               https://fr.wikipedia.org/wiki/Turold      2025           9999   \n",
              "1    https://fr.wikipedia.org/wiki/Philippe_de_Thaon      2025           9999   \n",
              "2  https://fr.wikipedia.org/wiki/Beno%C3%AEt_de_S...      2025           9999   \n",
              "3           https://fr.wikipedia.org/wiki/Jean_Bodel      1165           9999   \n",
              "4                 https://fr.wikipedia.org/wiki/Wace      1174           1100   \n",
              "\n",
              "  taille_html_article network_interauteur poids_liens_interauteur  \\\n",
              "0               72759                  []                      []   \n",
              "1               68186                  []                      []   \n",
              "2               82458                 [4]                     [1]   \n",
              "3               72386            [10, 22]                  [1, 1]   \n",
              "4               98842                 [6]                     [2]   \n",
              "\n",
              "    genres_mentionnes    type contemporain poids_contempo_diff_naissance  \\\n",
              "0                  []  auteur           []                            []   \n",
              "1                  []  auteur           []                            []   \n",
              "2              [1626]  auteur           []                            []   \n",
              "3  [1661, 1690, 1603]  auteur           []                            []   \n",
              "4        [1590, 1660]  auteur           []                            []   \n",
              "\n",
              "  poids_contempo_annees_communes auteurs_du_genre debut_genre fin_genre  \n",
              "0                             []              NaN         NaN       NaN  \n",
              "1                             []              NaN         NaN       NaN  \n",
              "2                             []              NaN         NaN       NaN  \n",
              "3                             []              NaN         NaN       NaN  \n",
              "4                             []              NaN         NaN       NaN  "
            ],
            "text/html": [
              "\n",
              "  <div id=\"df-00351392-4472-49f7-b563-3e2f17905c90\">\n",
              "    <div class=\"colab-df-container\">\n",
              "      <div>\n",
              "<style scoped>\n",
              "    .dataframe tbody tr th:only-of-type {\n",
              "        vertical-align: middle;\n",
              "    }\n",
              "\n",
              "    .dataframe tbody tr th {\n",
              "        vertical-align: top;\n",
              "    }\n",
              "\n",
              "    .dataframe thead th {\n",
              "        text-align: right;\n",
              "    }\n",
              "</style>\n",
              "<table border=\"1\" class=\"dataframe\">\n",
              "  <thead>\n",
              "    <tr style=\"text-align: right;\">\n",
              "      <th></th>\n",
              "      <th>index</th>\n",
              "      <th>name</th>\n",
              "      <th>link</th>\n",
              "      <th>date_mort</th>\n",
              "      <th>date_naissance</th>\n",
              "      <th>taille_html_article</th>\n",
              "      <th>network_interauteur</th>\n",
              "      <th>poids_liens_interauteur</th>\n",
              "      <th>genres_mentionnes</th>\n",
              "      <th>type</th>\n",
              "      <th>contemporain</th>\n",
              "      <th>poids_contempo_diff_naissance</th>\n",
              "      <th>poids_contempo_annees_communes</th>\n",
              "      <th>auteurs_du_genre</th>\n",
              "      <th>debut_genre</th>\n",
              "      <th>fin_genre</th>\n",
              "    </tr>\n",
              "  </thead>\n",
              "  <tbody>\n",
              "    <tr>\n",
              "      <th>0</th>\n",
              "      <td>0</td>\n",
              "      <td>Turold</td>\n",
              "      <td>https://fr.wikipedia.org/wiki/Turold</td>\n",
              "      <td>2025</td>\n",
              "      <td>9999</td>\n",
              "      <td>72759</td>\n",
              "      <td>[]</td>\n",
              "      <td>[]</td>\n",
              "      <td>[]</td>\n",
              "      <td>auteur</td>\n",
              "      <td>[]</td>\n",
              "      <td>[]</td>\n",
              "      <td>[]</td>\n",
              "      <td>NaN</td>\n",
              "      <td>NaN</td>\n",
              "      <td>NaN</td>\n",
              "    </tr>\n",
              "    <tr>\n",
              "      <th>1</th>\n",
              "      <td>1</td>\n",
              "      <td>Philippe de Thaon</td>\n",
              "      <td>https://fr.wikipedia.org/wiki/Philippe_de_Thaon</td>\n",
              "      <td>2025</td>\n",
              "      <td>9999</td>\n",
              "      <td>68186</td>\n",
              "      <td>[]</td>\n",
              "      <td>[]</td>\n",
              "      <td>[]</td>\n",
              "      <td>auteur</td>\n",
              "      <td>[]</td>\n",
              "      <td>[]</td>\n",
              "      <td>[]</td>\n",
              "      <td>NaN</td>\n",
              "      <td>NaN</td>\n",
              "      <td>NaN</td>\n",
              "    </tr>\n",
              "    <tr>\n",
              "      <th>2</th>\n",
              "      <td>2</td>\n",
              "      <td>Benoît de Sainte-Maure</td>\n",
              "      <td>https://fr.wikipedia.org/wiki/Beno%C3%AEt_de_S...</td>\n",
              "      <td>2025</td>\n",
              "      <td>9999</td>\n",
              "      <td>82458</td>\n",
              "      <td>[4]</td>\n",
              "      <td>[1]</td>\n",
              "      <td>[1626]</td>\n",
              "      <td>auteur</td>\n",
              "      <td>[]</td>\n",
              "      <td>[]</td>\n",
              "      <td>[]</td>\n",
              "      <td>NaN</td>\n",
              "      <td>NaN</td>\n",
              "      <td>NaN</td>\n",
              "    </tr>\n",
              "    <tr>\n",
              "      <th>3</th>\n",
              "      <td>3</td>\n",
              "      <td>Jean Bodel</td>\n",
              "      <td>https://fr.wikipedia.org/wiki/Jean_Bodel</td>\n",
              "      <td>1165</td>\n",
              "      <td>9999</td>\n",
              "      <td>72386</td>\n",
              "      <td>[10, 22]</td>\n",
              "      <td>[1, 1]</td>\n",
              "      <td>[1661, 1690, 1603]</td>\n",
              "      <td>auteur</td>\n",
              "      <td>[]</td>\n",
              "      <td>[]</td>\n",
              "      <td>[]</td>\n",
              "      <td>NaN</td>\n",
              "      <td>NaN</td>\n",
              "      <td>NaN</td>\n",
              "    </tr>\n",
              "    <tr>\n",
              "      <th>4</th>\n",
              "      <td>4</td>\n",
              "      <td>Wace</td>\n",
              "      <td>https://fr.wikipedia.org/wiki/Wace</td>\n",
              "      <td>1174</td>\n",
              "      <td>1100</td>\n",
              "      <td>98842</td>\n",
              "      <td>[6]</td>\n",
              "      <td>[2]</td>\n",
              "      <td>[1590, 1660]</td>\n",
              "      <td>auteur</td>\n",
              "      <td>[]</td>\n",
              "      <td>[]</td>\n",
              "      <td>[]</td>\n",
              "      <td>NaN</td>\n",
              "      <td>NaN</td>\n",
              "      <td>NaN</td>\n",
              "    </tr>\n",
              "  </tbody>\n",
              "</table>\n",
              "</div>\n",
              "      <button class=\"colab-df-convert\" onclick=\"convertToInteractive('df-00351392-4472-49f7-b563-3e2f17905c90')\"\n",
              "              title=\"Convert this dataframe to an interactive table.\"\n",
              "              style=\"display:none;\">\n",
              "        \n",
              "  <svg xmlns=\"http://www.w3.org/2000/svg\" height=\"24px\"viewBox=\"0 0 24 24\"\n",
              "       width=\"24px\">\n",
              "    <path d=\"M0 0h24v24H0V0z\" fill=\"none\"/>\n",
              "    <path d=\"M18.56 5.44l.94 2.06.94-2.06 2.06-.94-2.06-.94-.94-2.06-.94 2.06-2.06.94zm-11 1L8.5 8.5l.94-2.06 2.06-.94-2.06-.94L8.5 2.5l-.94 2.06-2.06.94zm10 10l.94 2.06.94-2.06 2.06-.94-2.06-.94-.94-2.06-.94 2.06-2.06.94z\"/><path d=\"M17.41 7.96l-1.37-1.37c-.4-.4-.92-.59-1.43-.59-.52 0-1.04.2-1.43.59L10.3 9.45l-7.72 7.72c-.78.78-.78 2.05 0 2.83L4 21.41c.39.39.9.59 1.41.59.51 0 1.02-.2 1.41-.59l7.78-7.78 2.81-2.81c.8-.78.8-2.07 0-2.86zM5.41 20L4 18.59l7.72-7.72 1.47 1.35L5.41 20z\"/>\n",
              "  </svg>\n",
              "      </button>\n",
              "      \n",
              "  <style>\n",
              "    .colab-df-container {\n",
              "      display:flex;\n",
              "      flex-wrap:wrap;\n",
              "      gap: 12px;\n",
              "    }\n",
              "\n",
              "    .colab-df-convert {\n",
              "      background-color: #E8F0FE;\n",
              "      border: none;\n",
              "      border-radius: 50%;\n",
              "      cursor: pointer;\n",
              "      display: none;\n",
              "      fill: #1967D2;\n",
              "      height: 32px;\n",
              "      padding: 0 0 0 0;\n",
              "      width: 32px;\n",
              "    }\n",
              "\n",
              "    .colab-df-convert:hover {\n",
              "      background-color: #E2EBFA;\n",
              "      box-shadow: 0px 1px 2px rgba(60, 64, 67, 0.3), 0px 1px 3px 1px rgba(60, 64, 67, 0.15);\n",
              "      fill: #174EA6;\n",
              "    }\n",
              "\n",
              "    [theme=dark] .colab-df-convert {\n",
              "      background-color: #3B4455;\n",
              "      fill: #D2E3FC;\n",
              "    }\n",
              "\n",
              "    [theme=dark] .colab-df-convert:hover {\n",
              "      background-color: #434B5C;\n",
              "      box-shadow: 0px 1px 3px 1px rgba(0, 0, 0, 0.15);\n",
              "      filter: drop-shadow(0px 1px 2px rgba(0, 0, 0, 0.3));\n",
              "      fill: #FFFFFF;\n",
              "    }\n",
              "  </style>\n",
              "\n",
              "      <script>\n",
              "        const buttonEl =\n",
              "          document.querySelector('#df-00351392-4472-49f7-b563-3e2f17905c90 button.colab-df-convert');\n",
              "        buttonEl.style.display =\n",
              "          google.colab.kernel.accessAllowed ? 'block' : 'none';\n",
              "\n",
              "        async function convertToInteractive(key) {\n",
              "          const element = document.querySelector('#df-00351392-4472-49f7-b563-3e2f17905c90');\n",
              "          const dataTable =\n",
              "            await google.colab.kernel.invokeFunction('convertToInteractive',\n",
              "                                                     [key], {});\n",
              "          if (!dataTable) return;\n",
              "\n",
              "          const docLinkHtml = 'Like what you see? Visit the ' +\n",
              "            '<a target=\"_blank\" href=https://colab.research.google.com/notebooks/data_table.ipynb>data table notebook</a>'\n",
              "            + ' to learn more about interactive tables.';\n",
              "          element.innerHTML = '';\n",
              "          dataTable['output_type'] = 'display_data';\n",
              "          await google.colab.output.renderOutput(dataTable, element);\n",
              "          const docLink = document.createElement('div');\n",
              "          docLink.innerHTML = docLinkHtml;\n",
              "          element.appendChild(docLink);\n",
              "        }\n",
              "      </script>\n",
              "    </div>\n",
              "  </div>\n",
              "  "
            ]
          },
          "metadata": {},
          "execution_count": 3
        }
      ]
    },
    {
      "cell_type": "markdown",
      "source": [
        "### Create links network"
      ],
      "metadata": {
        "id": "Typ_bmEFF4rj"
      }
    },
    {
      "cell_type": "code",
      "source": [
        "id = 0\n",
        "id_link = id\n",
        "link_table = dict()\n",
        "\n",
        "for source in df.index :\n",
        "  # print(\"id: \", id)\n",
        "  # print(\"Source: \", source)\n",
        "  for i in range(len(df.iloc[id]['network_interauteur'])):\n",
        "    # print(\"i: \", i)\n",
        "    # print(\"id_link: \", id_link)\n",
        "    target = df.iloc[id]['network_interauteur'][i]\n",
        "    # print(\"Target: \",target)\n",
        "    link_table[id_link] = {'source' : source, 'target' : target}\n",
        "    weight = df.iloc[id]['poids_liens_interauteur'][i]\n",
        "    # print(\"Weight: \", weight)\n",
        "    link_table[id_link]['weight'] = weight\n",
        "    id_link +=1\n",
        "  id += 1"
      ],
      "metadata": {
        "id": "Mgmtj-Uk1e-z",
        "outputId": "9796aff8-ac97-4611-a6cc-1c55b05d1278",
        "colab": {
          "base_uri": "https://localhost:8080/",
          "height": 235
        }
      },
      "execution_count": 5,
      "outputs": [
        {
          "output_type": "error",
          "ename": "TypeError",
          "evalue": "ignored",
          "traceback": [
            "\u001b[0;31m---------------------------------------------------------------------------\u001b[0m",
            "\u001b[0;31mTypeError\u001b[0m                                 Traceback (most recent call last)",
            "\u001b[0;32m<ipython-input-5-93387536f6fa>\u001b[0m in \u001b[0;36m<module>\u001b[0;34m()\u001b[0m\n\u001b[1;32m      6\u001b[0m   \u001b[0;31m# print(\"id: \", id)\u001b[0m\u001b[0;34m\u001b[0m\u001b[0;34m\u001b[0m\u001b[0;34m\u001b[0m\u001b[0m\n\u001b[1;32m      7\u001b[0m   \u001b[0;31m# print(\"Source: \", source)\u001b[0m\u001b[0;34m\u001b[0m\u001b[0;34m\u001b[0m\u001b[0;34m\u001b[0m\u001b[0m\n\u001b[0;32m----> 8\u001b[0;31m   \u001b[0;32mfor\u001b[0m \u001b[0mi\u001b[0m \u001b[0;32min\u001b[0m \u001b[0mrange\u001b[0m\u001b[0;34m(\u001b[0m\u001b[0mlen\u001b[0m\u001b[0;34m(\u001b[0m\u001b[0mdf\u001b[0m\u001b[0;34m.\u001b[0m\u001b[0miloc\u001b[0m\u001b[0;34m[\u001b[0m\u001b[0mid\u001b[0m\u001b[0;34m]\u001b[0m\u001b[0;34m[\u001b[0m\u001b[0;34m'network_interauteur'\u001b[0m\u001b[0;34m]\u001b[0m\u001b[0;34m)\u001b[0m\u001b[0;34m)\u001b[0m\u001b[0;34m:\u001b[0m\u001b[0;34m\u001b[0m\u001b[0;34m\u001b[0m\u001b[0m\n\u001b[0m\u001b[1;32m      9\u001b[0m     \u001b[0;31m# print(\"i: \", i)\u001b[0m\u001b[0;34m\u001b[0m\u001b[0;34m\u001b[0m\u001b[0;34m\u001b[0m\u001b[0m\n\u001b[1;32m     10\u001b[0m     \u001b[0;31m# print(\"id_link: \", id_link)\u001b[0m\u001b[0;34m\u001b[0m\u001b[0;34m\u001b[0m\u001b[0;34m\u001b[0m\u001b[0m\n",
            "\u001b[0;31mTypeError\u001b[0m: object of type 'float' has no len()"
          ]
        }
      ]
    },
    {
      "cell_type": "code",
      "source": [
        "# link_table"
      ],
      "metadata": {
        "id": "1r0worvh3Cwf"
      },
      "execution_count": null,
      "outputs": []
    },
    {
      "cell_type": "code",
      "source": [
        "edge_links = pd.DataFrame(link_table).T\n",
        "edge_links.head()"
      ],
      "metadata": {
        "id": "GiGo0uT3zb5-"
      },
      "execution_count": null,
      "outputs": []
    },
    {
      "cell_type": "code",
      "source": [
        "G_links = nx.Graph(edge_links,source=\"source\",target=\"target\")\n",
        "nx.info(G_links)"
      ],
      "metadata": {
        "id": "zE6eovalFhNJ"
      },
      "execution_count": null,
      "outputs": []
    },
    {
      "cell_type": "markdown",
      "source": [
        "### Create genre graph"
      ],
      "metadata": {
        "id": "XKhHI2SBGCvS"
      }
    },
    {
      "cell_type": "code",
      "source": [
        "id = 0\n",
        "id_link = id\n",
        "genre_table = dict()\n",
        "\n",
        "for source in df.index :\n",
        "  # print(\"id: \", id)\n",
        "  # print(\"Source: \", source)\n",
        "  for i in range(len(df.iloc[id]['genres_mentionnes'])):\n",
        "    # print(\"i: \", i)\n",
        "    # print(\"id_link: \", id_link)\n",
        "    target = df.iloc[id]['genres_mentionnes'][i]\n",
        "    # print(\"Target: \",target)\n",
        "    genre_table[id_link] = {'source' : source, 'target' : target}\n",
        "    id_link +=1\n",
        "  id += 1"
      ],
      "metadata": {
        "id": "U3zO__l5Fqg6",
        "outputId": "0f9b44a8-87ca-40fd-ca22-3e44a95ebd97",
        "colab": {
          "base_uri": "https://localhost:8080/",
          "height": 235
        }
      },
      "execution_count": 9,
      "outputs": [
        {
          "output_type": "error",
          "ename": "TypeError",
          "evalue": "ignored",
          "traceback": [
            "\u001b[0;31m---------------------------------------------------------------------------\u001b[0m",
            "\u001b[0;31mTypeError\u001b[0m                                 Traceback (most recent call last)",
            "\u001b[0;32m<ipython-input-9-107ffe36d46c>\u001b[0m in \u001b[0;36m<module>\u001b[0;34m()\u001b[0m\n\u001b[1;32m      6\u001b[0m   \u001b[0;31m# print(\"id: \", id)\u001b[0m\u001b[0;34m\u001b[0m\u001b[0;34m\u001b[0m\u001b[0;34m\u001b[0m\u001b[0m\n\u001b[1;32m      7\u001b[0m   \u001b[0;31m# print(\"Source: \", source)\u001b[0m\u001b[0;34m\u001b[0m\u001b[0;34m\u001b[0m\u001b[0;34m\u001b[0m\u001b[0m\n\u001b[0;32m----> 8\u001b[0;31m   \u001b[0;32mfor\u001b[0m \u001b[0mi\u001b[0m \u001b[0;32min\u001b[0m \u001b[0mrange\u001b[0m\u001b[0;34m(\u001b[0m\u001b[0mlen\u001b[0m\u001b[0;34m(\u001b[0m\u001b[0mdf\u001b[0m\u001b[0;34m.\u001b[0m\u001b[0miloc\u001b[0m\u001b[0;34m[\u001b[0m\u001b[0mid\u001b[0m\u001b[0;34m]\u001b[0m\u001b[0;34m[\u001b[0m\u001b[0;34m'genres_mentionnes'\u001b[0m\u001b[0;34m]\u001b[0m\u001b[0;34m)\u001b[0m\u001b[0;34m)\u001b[0m\u001b[0;34m:\u001b[0m\u001b[0;34m\u001b[0m\u001b[0;34m\u001b[0m\u001b[0m\n\u001b[0m\u001b[1;32m      9\u001b[0m     \u001b[0;31m# print(\"i: \", i)\u001b[0m\u001b[0;34m\u001b[0m\u001b[0;34m\u001b[0m\u001b[0;34m\u001b[0m\u001b[0m\n\u001b[1;32m     10\u001b[0m     \u001b[0;31m# print(\"id_link: \", id_link)\u001b[0m\u001b[0;34m\u001b[0m\u001b[0;34m\u001b[0m\u001b[0;34m\u001b[0m\u001b[0m\n",
            "\u001b[0;31mTypeError\u001b[0m: object of type 'float' has no len()"
          ]
        }
      ]
    },
    {
      "cell_type": "code",
      "source": [
        "# genre_table"
      ],
      "metadata": {
        "id": "eU-TPzGhGbdj"
      },
      "execution_count": null,
      "outputs": []
    },
    {
      "cell_type": "code",
      "source": [
        "edge_genres = pd.DataFrame(genre_table).T\n",
        "edge_genres['weights'] = 1\n",
        "edge_genres.head()"
      ],
      "metadata": {
        "id": "9lfdUPm-Ghew"
      },
      "execution_count": null,
      "outputs": []
    },
    {
      "cell_type": "code",
      "source": [
        "G_genres = nx.Graph(edge_genres,source=\"source\",target=\"target\")\n",
        "nx.info(G_genres)"
      ],
      "metadata": {
        "id": "LgIcQc-oHB1u"
      },
      "execution_count": null,
      "outputs": []
    },
    {
      "cell_type": "code",
      "source": [
        ""
      ],
      "metadata": {
        "id": "pIaOjcCMD9dv"
      },
      "execution_count": null,
      "outputs": []
    }
  ]
}